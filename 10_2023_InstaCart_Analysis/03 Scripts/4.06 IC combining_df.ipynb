{
 "cells": [
  {
   "cell_type": "markdown",
   "id": "227fc744-495c-492b-9290-679c49d9ce9d",
   "metadata": {},
   "source": [
    "1 - import\n",
    "\n",
    "2 - merge\n",
    "\n",
    "3 - export"
   ]
  },
  {
   "cell_type": "markdown",
   "id": "5d48d474",
   "metadata": {},
   "source": [
    "# import\n"
   ]
  },
  {
   "cell_type": "code",
   "execution_count": 11,
   "id": "f9d447bb",
   "metadata": {},
   "outputs": [],
   "source": [
    "#import libraries\n",
    "import pandas as pd\n",
    "import numpy as np\n",
    "import os \n",
    "import pickle"
   ]
  },
  {
   "cell_type": "code",
   "execution_count": 12,
   "id": "2ad68064",
   "metadata": {},
   "outputs": [
    {
     "name": "stdout",
     "output_type": "stream",
     "text": [
      "(3421083, 9) (32434489, 4)\n"
     ]
    }
   ],
   "source": [
    "#import data and check shape\n",
    "path = r'/Users/amritambe/Desktop/CareerF Python/Insta Cart Analysis'\n",
    "df_ords = pd.read_csv(os.path.join(path, '02 Data', 'prepared Data', 'orders_cleaned.csv'))\n",
    "df_ords_prior = pd.read_csv(os.path.join(path, '02 Data', 'original Data', 'orders_products_prior.csv'))\n",
    "print(df_ords.shape, df_ords_prior.shape)"
   ]
  },
  {
   "cell_type": "code",
   "execution_count": 13,
   "id": "9d61f3be-5954-4a2a-adb8-7e61f5ad977c",
   "metadata": {},
   "outputs": [
    {
     "data": {
      "text/plain": [
       "(Unnamed: 0.1                    0\n",
       " Unnamed: 0                      0\n",
       " order_id                        0\n",
       " customer_id                     0\n",
       " customer_order_number           0\n",
       " orders_day_of_week              0\n",
       " order_hour_of_day               0\n",
       " days_between_last_order    206209\n",
       " first_order                     0\n",
       " dtype: int64,\n",
       " order_id             0\n",
       " product_id           0\n",
       " add_to_cart_order    0\n",
       " reordered            0\n",
       " dtype: int64)"
      ]
     },
     "execution_count": 13,
     "metadata": {},
     "output_type": "execute_result"
    }
   ],
   "source": [
    "#check nan\n",
    "df_ords.isnull().sum(), df_ords_prior.isnull().sum()"
   ]
  },
  {
   "cell_type": "code",
   "execution_count": 14,
   "id": "0eb74763",
   "metadata": {},
   "outputs": [
    {
     "data": {
      "text/plain": [
       "(   order_id  product_id  add_to_cart_order  reordered\n",
       " 0         2       33120                  1          1\n",
       " 1         2       28985                  2          1\n",
       " 2         2        9327                  3          0\n",
       " 3         2       45918                  4          1\n",
       " 4         2       30035                  5          0,\n",
       "    Unnamed: 0.1  Unnamed: 0  order_id  customer_id  customer_order_number  \\\n",
       " 0             0           0   2539329            1                      1   \n",
       " 1             1           1   2398795            1                      2   \n",
       " 2             2           2    473747            1                      3   \n",
       " 3             3           3   2254736            1                      4   \n",
       " 4             4           4    431534            1                      5   \n",
       " \n",
       "    orders_day_of_week  order_hour_of_day  days_between_last_order  first_order  \n",
       " 0                   2                  8                      NaN         True  \n",
       " 1                   3                  7                     15.0        False  \n",
       " 2                   3                 12                     21.0        False  \n",
       " 3                   4                  7                     29.0        False  \n",
       " 4                   4                 15                     28.0        False  )"
      ]
     },
     "execution_count": 14,
     "metadata": {},
     "output_type": "execute_result"
    }
   ],
   "source": [
    "#checking data contents\n",
    "df_ords_prior.head(), df_ords.head()"
   ]
  },
  {
   "cell_type": "code",
   "execution_count": 15,
   "id": "389ae0cb",
   "metadata": {},
   "outputs": [
    {
     "data": {
      "text/plain": [
       "(           order_id    product_id  add_to_cart_order     reordered\n",
       " count  3.243449e+07  3.243449e+07       3.243449e+07  3.243449e+07\n",
       " mean   1.710749e+06  2.557634e+04       8.351076e+00  5.896975e-01\n",
       " std    9.873007e+05  1.409669e+04       7.126671e+00  4.918886e-01\n",
       " min    2.000000e+00  1.000000e+00       1.000000e+00  0.000000e+00\n",
       " 25%    8.559430e+05  1.353000e+04       3.000000e+00  0.000000e+00\n",
       " 50%    1.711048e+06  2.525600e+04       6.000000e+00  1.000000e+00\n",
       " 75%    2.565514e+06  3.793500e+04       1.100000e+01  1.000000e+00\n",
       " max    3.421083e+06  4.968800e+04       1.450000e+02  1.000000e+00,\n",
       "        Unnamed: 0.1    Unnamed: 0      order_id   customer_id  \\\n",
       " count  3.421083e+06  3.421083e+06  3.421083e+06  3.421083e+06   \n",
       " mean   1.710541e+06  1.710541e+06  1.710542e+06  1.029782e+05   \n",
       " std    9.875817e+05  9.875817e+05  9.875817e+05  5.953372e+04   \n",
       " min    0.000000e+00  0.000000e+00  1.000000e+00  1.000000e+00   \n",
       " 25%    8.552705e+05  8.552705e+05  8.552715e+05  5.139400e+04   \n",
       " 50%    1.710541e+06  1.710541e+06  1.710542e+06  1.026890e+05   \n",
       " 75%    2.565812e+06  2.565812e+06  2.565812e+06  1.543850e+05   \n",
       " max    3.421082e+06  3.421082e+06  3.421083e+06  2.062090e+05   \n",
       " \n",
       "        customer_order_number  orders_day_of_week  order_hour_of_day  \\\n",
       " count           3.421083e+06        3.421083e+06       3.421083e+06   \n",
       " mean            1.715486e+01        2.776219e+00       1.345202e+01   \n",
       " std             1.773316e+01        2.046829e+00       4.226088e+00   \n",
       " min             1.000000e+00        0.000000e+00       0.000000e+00   \n",
       " 25%             5.000000e+00        1.000000e+00       1.000000e+01   \n",
       " 50%             1.100000e+01        3.000000e+00       1.300000e+01   \n",
       " 75%             2.300000e+01        5.000000e+00       1.600000e+01   \n",
       " max             1.000000e+02        6.000000e+00       2.300000e+01   \n",
       " \n",
       "        days_between_last_order  \n",
       " count             3.214874e+06  \n",
       " mean              1.111484e+01  \n",
       " std               9.206737e+00  \n",
       " min               0.000000e+00  \n",
       " 25%               4.000000e+00  \n",
       " 50%               7.000000e+00  \n",
       " 75%               1.500000e+01  \n",
       " max               3.000000e+01  )"
      ]
     },
     "execution_count": 15,
     "metadata": {},
     "output_type": "execute_result"
    }
   ],
   "source": [
    "#exploring new dataframe: df_ords_prior\n",
    "df_ords_prior.describe(), df_ords.describe()"
   ]
  },
  {
   "cell_type": "code",
   "execution_count": 25,
   "id": "682ef40d",
   "metadata": {},
   "outputs": [],
   "source": [
    "#df_ords and df_ords_prior have the same column: order_id. this will be the column to merge on."
   ]
  },
  {
   "cell_type": "markdown",
   "id": "7706fd91-bed5-4cb2-a49a-25f1668998c0",
   "metadata": {},
   "source": [
    "# merge"
   ]
  },
  {
   "cell_type": "code",
   "execution_count": 30,
   "id": "e98d793d",
   "metadata": {},
   "outputs": [
    {
     "data": {
      "text/plain": [
       "both          32434489\n",
       "left_only            0\n",
       "right_only           0\n",
       "Name: _merge, dtype: int64"
      ]
     },
     "execution_count": 30,
     "metadata": {},
     "output_type": "execute_result"
    }
   ],
   "source": [
    "#merge into new df: df_ords_full\n",
    "df_ords_full = pd.merge(df_ords, df_ords_prior, how='right', on='order_id', indicator=True)\n",
    "df_ords_full['_merge'].value_counts()"
   ]
  },
  {
   "cell_type": "code",
   "execution_count": 31,
   "id": "56be8198",
   "metadata": {},
   "outputs": [
    {
     "data": {
      "text/plain": [
       "((32434489, 13),\n",
       " Unnamed: 0.1                     0\n",
       " Unnamed: 0                       0\n",
       " order_id                         0\n",
       " customer_id                      0\n",
       " customer_order_number            0\n",
       " orders_day_of_week               0\n",
       " order_hour_of_day                0\n",
       " days_between_last_order    2078068\n",
       " first_order                      0\n",
       " product_id                       0\n",
       " add_to_cart_order                0\n",
       " reordered                        0\n",
       " _merge                           0\n",
       " dtype: int64)"
      ]
     },
     "execution_count": 31,
     "metadata": {},
     "output_type": "execute_result"
    }
   ],
   "source": [
    "df_ords_full.shape, df_ords_full.isnull().sum()"
   ]
  },
  {
   "cell_type": "markdown",
   "id": "7d509653-61e2-4317-aea0-4d25293acb8b",
   "metadata": {},
   "source": [
    "# export"
   ]
  },
  {
   "cell_type": "code",
   "execution_count": 19,
   "id": "376e362e",
   "metadata": {},
   "outputs": [],
   "source": [
    "#df_ords_full.to_pickle(os.path.join(path, '02 Data', 'Prepared Data', 'orders_products_combined.pkl'))"
   ]
  },
  {
   "cell_type": "code",
   "execution_count": 20,
   "id": "7187412e",
   "metadata": {},
   "outputs": [
    {
     "data": {
      "text/plain": [
       "Unnamed: 0.1                     0\n",
       "Unnamed: 0                       0\n",
       "order_id                         0\n",
       "customer_id                      0\n",
       "customer_order_number            0\n",
       "orders_day_of_week               0\n",
       "order_hour_of_day                0\n",
       "days_between_last_order    2078068\n",
       "first_order                      0\n",
       "product_id                       0\n",
       "add_to_cart_order                0\n",
       "reordered                        0\n",
       "_merge                           0\n",
       "dtype: int64"
      ]
     },
     "execution_count": 20,
     "metadata": {},
     "output_type": "execute_result"
    }
   ],
   "source": [
    "df_ords_full.isnull().sum()"
   ]
  },
  {
   "cell_type": "code",
   "execution_count": null,
   "id": "1f3f0c96-7837-4c13-90c4-7103373a01ff",
   "metadata": {},
   "outputs": [],
   "source": []
  }
 ],
 "metadata": {
  "kernelspec": {
   "display_name": "Python 3 (ipykernel)",
   "language": "python",
   "name": "python3"
  },
  "language_info": {
   "codemirror_mode": {
    "name": "ipython",
    "version": 3
   },
   "file_extension": ".py",
   "mimetype": "text/x-python",
   "name": "python",
   "nbconvert_exporter": "python",
   "pygments_lexer": "ipython3",
   "version": "3.9.13"
  }
 },
 "nbformat": 4,
 "nbformat_minor": 5
}
