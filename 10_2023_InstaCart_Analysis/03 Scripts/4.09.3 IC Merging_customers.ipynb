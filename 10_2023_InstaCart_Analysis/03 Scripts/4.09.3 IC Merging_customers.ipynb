{
 "cells": [
  {
   "cell_type": "markdown",
   "id": "7fa39858-cb5f-406c-90e4-7da25310beca",
   "metadata": {},
   "source": [
    "1 - import \n",
    "\n",
    "2 - Data wrangling\n",
    "\n",
    "3 - export"
   ]
  },
  {
   "cell_type": "markdown",
   "id": "bfcee9af-e77f-464f-b478-d1e61656da26",
   "metadata": {},
   "source": [
    "# import"
   ]
  },
  {
   "cell_type": "code",
   "execution_count": 3,
   "id": "dcd71fcf",
   "metadata": {},
   "outputs": [],
   "source": [
    "#import libraries\n",
    "import pandas as pd\n",
    "import numpy as np\n",
    "import matplotlib.pyplot as plt\n",
    "import seaborn as sns\n",
    "import scipy\n",
    "import os"
   ]
  },
  {
   "cell_type": "code",
   "execution_count": 4,
   "id": "a49cf69a",
   "metadata": {},
   "outputs": [
    {
     "data": {
      "text/plain": [
       "Unnamed: 0.1                     0\n",
       "Unnamed: 0_x                     0\n",
       "order_id                         0\n",
       "customer_id                      0\n",
       "customer_order_number            0\n",
       "orders_day_of_week               0\n",
       "order_hour_of_day                0\n",
       "days_between_last_order    2078084\n",
       "first_order                      0\n",
       "product_id                       0\n",
       "add_to_cart_order                0\n",
       "reordered                        0\n",
       "Unnamed: 0_y                     0\n",
       "product_name                 28171\n",
       "aisle_id                         0\n",
       "department_id                    0\n",
       "prices                        5127\n",
       "_merge                           0\n",
       "price_range_loc                  0\n",
       "Busiest Days                     0\n",
       "busiest_hours_of_day             0\n",
       "max_orders                       0\n",
       "loyalty_flag                     0\n",
       "avg_cust_spend                   0\n",
       "Customer_Spend                   0\n",
       "median_order_frequency           0\n",
       "Order_Frequency                  0\n",
       "dtype: int64"
      ]
     },
     "execution_count": 4,
     "metadata": {},
     "output_type": "execute_result"
    }
   ],
   "source": [
    "#import data files\n",
    "path = r'/Users/amritambe/Desktop/CareerF Python/Insta Cart Analysis'\n",
    "df = pd.read_pickle(os.path.join(path, '02 Data', 'Prepared Data', 'Grouped_Customer.pkl'))\n",
    "df_cust = pd.read_csv(os.path.join(path, '02 Data', 'original Data', 'customers.csv'))\n",
    "df.isnull().sum()"
   ]
  },
  {
   "cell_type": "code",
   "execution_count": 4,
   "id": "520e2f25",
   "metadata": {},
   "outputs": [],
   "source": [
    "df_prod = pd.read_csv(os.path.join(path, '02 Data', 'original Data', 'products.csv'))\n"
   ]
  },
  {
   "cell_type": "markdown",
   "id": "310f4d19",
   "metadata": {},
   "source": [
    "# Data Wrangling"
   ]
  },
  {
   "cell_type": "code",
   "execution_count": 5,
   "id": "cd978cd4-1557-40df-ab91-2b42292be4c0",
   "metadata": {},
   "outputs": [
    {
     "data": {
      "text/plain": [
       "['Unnamed: 0.1',\n",
       " 'Unnamed: 0_x',\n",
       " 'order_id',\n",
       " 'customer_id',\n",
       " 'customer_order_number',\n",
       " 'orders_day_of_week',\n",
       " 'order_hour_of_day',\n",
       " 'days_between_last_order',\n",
       " 'first_order',\n",
       " 'product_id',\n",
       " 'add_to_cart_order',\n",
       " 'reordered',\n",
       " 'Unnamed: 0_y',\n",
       " 'product_name',\n",
       " 'aisle_id',\n",
       " 'department_id',\n",
       " 'prices',\n",
       " '_merge',\n",
       " 'price_range_loc',\n",
       " 'Busiest Days',\n",
       " 'busiest_hours_of_day',\n",
       " 'max_orders',\n",
       " 'loyalty_flag',\n",
       " 'avg_cust_spend',\n",
       " 'Customer_Spend',\n",
       " 'median_order_frequency',\n",
       " 'Order_Frequency']"
      ]
     },
     "execution_count": 5,
     "metadata": {},
     "output_type": "execute_result"
    }
   ],
   "source": [
    "df.columns.tolist()"
   ]
  },
  {
   "cell_type": "code",
   "execution_count": 6,
   "id": "9322ea85",
   "metadata": {},
   "outputs": [
    {
     "data": {
      "text/plain": [
       "user_id             0\n",
       "First Name      11259\n",
       "Surnam              0\n",
       "Gender              0\n",
       "STATE               0\n",
       "Age                 0\n",
       "date_joined         0\n",
       "n_dependants        0\n",
       "fam_status          0\n",
       "income              0\n",
       "dtype: int64"
      ]
     },
     "execution_count": 6,
     "metadata": {},
     "output_type": "execute_result"
    }
   ],
   "source": [
    "df_cust.isnull().sum()"
   ]
  },
  {
   "cell_type": "code",
   "execution_count": 7,
   "id": "266ac31f",
   "metadata": {},
   "outputs": [
    {
     "data": {
      "text/html": [
       "<div>\n",
       "<style scoped>\n",
       "    .dataframe tbody tr th:only-of-type {\n",
       "        vertical-align: middle;\n",
       "    }\n",
       "\n",
       "    .dataframe tbody tr th {\n",
       "        vertical-align: top;\n",
       "    }\n",
       "\n",
       "    .dataframe thead th {\n",
       "        text-align: right;\n",
       "    }\n",
       "</style>\n",
       "<table border=\"1\" class=\"dataframe\">\n",
       "  <thead>\n",
       "    <tr style=\"text-align: right;\">\n",
       "      <th></th>\n",
       "      <th>user_id</th>\n",
       "      <th>First Name</th>\n",
       "      <th>Surnam</th>\n",
       "      <th>Gender</th>\n",
       "      <th>STATE</th>\n",
       "      <th>Age</th>\n",
       "      <th>date_joined</th>\n",
       "      <th>n_dependants</th>\n",
       "      <th>fam_status</th>\n",
       "      <th>income</th>\n",
       "    </tr>\n",
       "  </thead>\n",
       "  <tbody>\n",
       "    <tr>\n",
       "      <th>0</th>\n",
       "      <td>26711</td>\n",
       "      <td>Deborah</td>\n",
       "      <td>Esquivel</td>\n",
       "      <td>Female</td>\n",
       "      <td>Missouri</td>\n",
       "      <td>48</td>\n",
       "      <td>1/1/2017</td>\n",
       "      <td>3</td>\n",
       "      <td>married</td>\n",
       "      <td>165665</td>\n",
       "    </tr>\n",
       "    <tr>\n",
       "      <th>1</th>\n",
       "      <td>33890</td>\n",
       "      <td>Patricia</td>\n",
       "      <td>Hart</td>\n",
       "      <td>Female</td>\n",
       "      <td>New Mexico</td>\n",
       "      <td>36</td>\n",
       "      <td>1/1/2017</td>\n",
       "      <td>0</td>\n",
       "      <td>single</td>\n",
       "      <td>59285</td>\n",
       "    </tr>\n",
       "    <tr>\n",
       "      <th>2</th>\n",
       "      <td>65803</td>\n",
       "      <td>Kenneth</td>\n",
       "      <td>Farley</td>\n",
       "      <td>Male</td>\n",
       "      <td>Idaho</td>\n",
       "      <td>35</td>\n",
       "      <td>1/1/2017</td>\n",
       "      <td>2</td>\n",
       "      <td>married</td>\n",
       "      <td>99568</td>\n",
       "    </tr>\n",
       "    <tr>\n",
       "      <th>3</th>\n",
       "      <td>125935</td>\n",
       "      <td>Michelle</td>\n",
       "      <td>Hicks</td>\n",
       "      <td>Female</td>\n",
       "      <td>Iowa</td>\n",
       "      <td>40</td>\n",
       "      <td>1/1/2017</td>\n",
       "      <td>0</td>\n",
       "      <td>single</td>\n",
       "      <td>42049</td>\n",
       "    </tr>\n",
       "    <tr>\n",
       "      <th>4</th>\n",
       "      <td>130797</td>\n",
       "      <td>Ann</td>\n",
       "      <td>Gilmore</td>\n",
       "      <td>Female</td>\n",
       "      <td>Maryland</td>\n",
       "      <td>26</td>\n",
       "      <td>1/1/2017</td>\n",
       "      <td>1</td>\n",
       "      <td>married</td>\n",
       "      <td>40374</td>\n",
       "    </tr>\n",
       "  </tbody>\n",
       "</table>\n",
       "</div>"
      ],
      "text/plain": [
       "   user_id First Name    Surnam  Gender       STATE  Age date_joined  \\\n",
       "0    26711    Deborah  Esquivel  Female    Missouri   48    1/1/2017   \n",
       "1    33890   Patricia      Hart  Female  New Mexico   36    1/1/2017   \n",
       "2    65803    Kenneth    Farley    Male       Idaho   35    1/1/2017   \n",
       "3   125935   Michelle     Hicks  Female        Iowa   40    1/1/2017   \n",
       "4   130797        Ann   Gilmore  Female    Maryland   26    1/1/2017   \n",
       "\n",
       "   n_dependants fam_status  income  \n",
       "0             3    married  165665  \n",
       "1             0     single   59285  \n",
       "2             2    married   99568  \n",
       "3             0     single   42049  \n",
       "4             1    married   40374  "
      ]
     },
     "execution_count": 7,
     "metadata": {},
     "output_type": "execute_result"
    }
   ],
   "source": [
    "df_cust.head()"
   ]
  },
  {
   "cell_type": "code",
   "execution_count": 8,
   "id": "b788a9b7",
   "metadata": {},
   "outputs": [],
   "source": [
    "#rename columns\n",
    "df_cust.rename(columns={'Surnam':'Last Name', 'STATE':'State', 'n_dependants':'dependants', 'fam_status':'marital_status'}, inplace=True)"
   ]
  },
  {
   "cell_type": "code",
   "execution_count": 9,
   "id": "0ecfbfc9",
   "metadata": {},
   "outputs": [
    {
     "data": {
      "text/plain": [
       "(   user_id First Name Last Name  Gender       State  Age date_joined  \\\n",
       " 0    26711    Deborah  Esquivel  Female    Missouri   48    1/1/2017   \n",
       " 1    33890   Patricia      Hart  Female  New Mexico   36    1/1/2017   \n",
       " 2    65803    Kenneth    Farley    Male       Idaho   35    1/1/2017   \n",
       " 3   125935   Michelle     Hicks  Female        Iowa   40    1/1/2017   \n",
       " 4   130797        Ann   Gilmore  Female    Maryland   26    1/1/2017   \n",
       " \n",
       "    dependants marital_status  income  \n",
       " 0           3        married  165665  \n",
       " 1           0         single   59285  \n",
       " 2           2        married   99568  \n",
       " 3           0         single   42049  \n",
       " 4           1        married   40374  ,\n",
       " (206209, 10))"
      ]
     },
     "execution_count": 9,
     "metadata": {},
     "output_type": "execute_result"
    }
   ],
   "source": [
    "df_cust.head(), df_cust.shape"
   ]
  },
  {
   "cell_type": "code",
   "execution_count": 10,
   "id": "5cd71879",
   "metadata": {},
   "outputs": [
    {
     "data": {
      "text/html": [
       "<div>\n",
       "<style scoped>\n",
       "    .dataframe tbody tr th:only-of-type {\n",
       "        vertical-align: middle;\n",
       "    }\n",
       "\n",
       "    .dataframe tbody tr th {\n",
       "        vertical-align: top;\n",
       "    }\n",
       "\n",
       "    .dataframe thead th {\n",
       "        text-align: right;\n",
       "    }\n",
       "</style>\n",
       "<table border=\"1\" class=\"dataframe\">\n",
       "  <thead>\n",
       "    <tr style=\"text-align: right;\">\n",
       "      <th></th>\n",
       "      <th>user_id</th>\n",
       "      <th>Age</th>\n",
       "      <th>dependants</th>\n",
       "      <th>income</th>\n",
       "    </tr>\n",
       "  </thead>\n",
       "  <tbody>\n",
       "    <tr>\n",
       "      <th>count</th>\n",
       "      <td>206209.000000</td>\n",
       "      <td>206209.000000</td>\n",
       "      <td>206209.000000</td>\n",
       "      <td>206209.000000</td>\n",
       "    </tr>\n",
       "    <tr>\n",
       "      <th>mean</th>\n",
       "      <td>103105.000000</td>\n",
       "      <td>49.501646</td>\n",
       "      <td>1.499823</td>\n",
       "      <td>94632.852548</td>\n",
       "    </tr>\n",
       "    <tr>\n",
       "      <th>std</th>\n",
       "      <td>59527.555167</td>\n",
       "      <td>18.480962</td>\n",
       "      <td>1.118433</td>\n",
       "      <td>42473.786988</td>\n",
       "    </tr>\n",
       "    <tr>\n",
       "      <th>min</th>\n",
       "      <td>1.000000</td>\n",
       "      <td>18.000000</td>\n",
       "      <td>0.000000</td>\n",
       "      <td>25903.000000</td>\n",
       "    </tr>\n",
       "    <tr>\n",
       "      <th>25%</th>\n",
       "      <td>51553.000000</td>\n",
       "      <td>33.000000</td>\n",
       "      <td>0.000000</td>\n",
       "      <td>59874.000000</td>\n",
       "    </tr>\n",
       "    <tr>\n",
       "      <th>50%</th>\n",
       "      <td>103105.000000</td>\n",
       "      <td>49.000000</td>\n",
       "      <td>1.000000</td>\n",
       "      <td>93547.000000</td>\n",
       "    </tr>\n",
       "    <tr>\n",
       "      <th>75%</th>\n",
       "      <td>154657.000000</td>\n",
       "      <td>66.000000</td>\n",
       "      <td>3.000000</td>\n",
       "      <td>124244.000000</td>\n",
       "    </tr>\n",
       "    <tr>\n",
       "      <th>max</th>\n",
       "      <td>206209.000000</td>\n",
       "      <td>81.000000</td>\n",
       "      <td>3.000000</td>\n",
       "      <td>593901.000000</td>\n",
       "    </tr>\n",
       "  </tbody>\n",
       "</table>\n",
       "</div>"
      ],
      "text/plain": [
       "             user_id            Age     dependants         income\n",
       "count  206209.000000  206209.000000  206209.000000  206209.000000\n",
       "mean   103105.000000      49.501646       1.499823   94632.852548\n",
       "std     59527.555167      18.480962       1.118433   42473.786988\n",
       "min         1.000000      18.000000       0.000000   25903.000000\n",
       "25%     51553.000000      33.000000       0.000000   59874.000000\n",
       "50%    103105.000000      49.000000       1.000000   93547.000000\n",
       "75%    154657.000000      66.000000       3.000000  124244.000000\n",
       "max    206209.000000      81.000000       3.000000  593901.000000"
      ]
     },
     "execution_count": 10,
     "metadata": {},
     "output_type": "execute_result"
    }
   ],
   "source": [
    "df_cust.describe()"
   ]
  },
  {
   "cell_type": "code",
   "execution_count": 11,
   "id": "26858b1e",
   "metadata": {},
   "outputs": [
    {
     "data": {
      "text/plain": [
       "('1/1/2017', '9/9/2019')"
      ]
     },
     "execution_count": 11,
     "metadata": {},
     "output_type": "execute_result"
    }
   ],
   "source": [
    "df_cust['date_joined'].min(), df_cust['date_joined'].max()"
   ]
  },
  {
   "cell_type": "code",
   "execution_count": 12,
   "id": "d04e1257",
   "metadata": {},
   "outputs": [],
   "source": [
    "# Drop Columns"
   ]
  },
  {
   "cell_type": "code",
   "execution_count": 13,
   "id": "be038233",
   "metadata": {},
   "outputs": [],
   "source": [
    "df_cust.drop(columns='date_joined', inplace=True)"
   ]
  },
  {
   "cell_type": "code",
   "execution_count": 14,
   "id": "edcfe037",
   "metadata": {},
   "outputs": [],
   "source": [
    "df_cust.drop(columns='First Name', inplace=True)"
   ]
  },
  {
   "cell_type": "code",
   "execution_count": 15,
   "id": "f8530793",
   "metadata": {},
   "outputs": [],
   "source": [
    "df_cust.drop(columns='Last Name', inplace=True)"
   ]
  },
  {
   "cell_type": "code",
   "execution_count": 16,
   "id": "53414842",
   "metadata": {},
   "outputs": [
    {
     "data": {
      "text/html": [
       "<div>\n",
       "<style scoped>\n",
       "    .dataframe tbody tr th:only-of-type {\n",
       "        vertical-align: middle;\n",
       "    }\n",
       "\n",
       "    .dataframe tbody tr th {\n",
       "        vertical-align: top;\n",
       "    }\n",
       "\n",
       "    .dataframe thead th {\n",
       "        text-align: right;\n",
       "    }\n",
       "</style>\n",
       "<table border=\"1\" class=\"dataframe\">\n",
       "  <thead>\n",
       "    <tr style=\"text-align: right;\">\n",
       "      <th></th>\n",
       "      <th>user_id</th>\n",
       "      <th>Gender</th>\n",
       "      <th>State</th>\n",
       "      <th>Age</th>\n",
       "      <th>dependants</th>\n",
       "      <th>marital_status</th>\n",
       "      <th>income</th>\n",
       "    </tr>\n",
       "  </thead>\n",
       "  <tbody>\n",
       "    <tr>\n",
       "      <th>0</th>\n",
       "      <td>26711</td>\n",
       "      <td>Female</td>\n",
       "      <td>Missouri</td>\n",
       "      <td>48</td>\n",
       "      <td>3</td>\n",
       "      <td>married</td>\n",
       "      <td>165665</td>\n",
       "    </tr>\n",
       "    <tr>\n",
       "      <th>1</th>\n",
       "      <td>33890</td>\n",
       "      <td>Female</td>\n",
       "      <td>New Mexico</td>\n",
       "      <td>36</td>\n",
       "      <td>0</td>\n",
       "      <td>single</td>\n",
       "      <td>59285</td>\n",
       "    </tr>\n",
       "    <tr>\n",
       "      <th>2</th>\n",
       "      <td>65803</td>\n",
       "      <td>Male</td>\n",
       "      <td>Idaho</td>\n",
       "      <td>35</td>\n",
       "      <td>2</td>\n",
       "      <td>married</td>\n",
       "      <td>99568</td>\n",
       "    </tr>\n",
       "    <tr>\n",
       "      <th>3</th>\n",
       "      <td>125935</td>\n",
       "      <td>Female</td>\n",
       "      <td>Iowa</td>\n",
       "      <td>40</td>\n",
       "      <td>0</td>\n",
       "      <td>single</td>\n",
       "      <td>42049</td>\n",
       "    </tr>\n",
       "    <tr>\n",
       "      <th>4</th>\n",
       "      <td>130797</td>\n",
       "      <td>Female</td>\n",
       "      <td>Maryland</td>\n",
       "      <td>26</td>\n",
       "      <td>1</td>\n",
       "      <td>married</td>\n",
       "      <td>40374</td>\n",
       "    </tr>\n",
       "  </tbody>\n",
       "</table>\n",
       "</div>"
      ],
      "text/plain": [
       "   user_id  Gender       State  Age  dependants marital_status  income\n",
       "0    26711  Female    Missouri   48           3        married  165665\n",
       "1    33890  Female  New Mexico   36           0         single   59285\n",
       "2    65803    Male       Idaho   35           2        married   99568\n",
       "3   125935  Female        Iowa   40           0         single   42049\n",
       "4   130797  Female    Maryland   26           1        married   40374"
      ]
     },
     "execution_count": 16,
     "metadata": {},
     "output_type": "execute_result"
    }
   ],
   "source": [
    "df_cust.head()"
   ]
  },
  {
   "cell_type": "code",
   "execution_count": 17,
   "id": "44b4b553",
   "metadata": {},
   "outputs": [],
   "source": [
    "#rename columns, prep for merging\n",
    "df_cust.rename(columns={'user_id':'customer_id'}, inplace=True)"
   ]
  },
  {
   "cell_type": "code",
   "execution_count": 18,
   "id": "b0ba6ab6-0fbe-4fa0-9845-35b1835ea791",
   "metadata": {},
   "outputs": [],
   "source": [
    "df_cust.to_csv(os.path.join(path, '02 Data', 'Prepared Data', 'Customers_Clean.csv'))"
   ]
  },
  {
   "cell_type": "code",
   "execution_count": 19,
   "id": "6b47a3ce",
   "metadata": {},
   "outputs": [
    {
     "data": {
      "text/plain": [
       "((32434212, 27),\n",
       " (206209, 7),\n",
       " count    3.243421e+07\n",
       " mean     1.029374e+05\n",
       " std      5.946649e+04\n",
       " min      1.000000e+00\n",
       " 25%      5.142000e+04\n",
       " 50%      1.026125e+05\n",
       " 75%      1.543910e+05\n",
       " max      2.062090e+05\n",
       " Name: customer_id, dtype: float64)"
      ]
     },
     "execution_count": 19,
     "metadata": {},
     "output_type": "execute_result"
    }
   ],
   "source": [
    "df.shape, df_cust.shape, df['customer_id'].describe()"
   ]
  },
  {
   "cell_type": "code",
   "execution_count": 20,
   "id": "b0646e25",
   "metadata": {},
   "outputs": [],
   "source": [
    "#merging customer dataset to the full dataset\n",
    "df_full = pd.merge(df, df_cust, on='customer_id', how='left')"
   ]
  },
  {
   "cell_type": "code",
   "execution_count": 21,
   "id": "7db8e984",
   "metadata": {},
   "outputs": [
    {
     "data": {
      "text/plain": [
       "Unnamed: 0.1                     0\n",
       "Unnamed: 0_x                     0\n",
       "order_id                         0\n",
       "customer_id                      0\n",
       "customer_order_number            0\n",
       "orders_day_of_week               0\n",
       "order_hour_of_day                0\n",
       "days_between_last_order    2078084\n",
       "first_order                      0\n",
       "product_id                       0\n",
       "add_to_cart_order                0\n",
       "reordered                        0\n",
       "Unnamed: 0_y                     0\n",
       "product_name                 28171\n",
       "aisle_id                         0\n",
       "department_id                    0\n",
       "prices                        5127\n",
       "_merge                           0\n",
       "price_range_loc                  0\n",
       "Busiest Days                     0\n",
       "busiest_hours_of_day             0\n",
       "max_orders                       0\n",
       "loyalty_flag                     0\n",
       "avg_cust_spend                   0\n",
       "Customer_Spend                   0\n",
       "median_order_frequency           0\n",
       "Order_Frequency                  0\n",
       "Gender                           0\n",
       "State                            0\n",
       "Age                              0\n",
       "dependants                       0\n",
       "marital_status                   0\n",
       "income                           0\n",
       "dtype: int64"
      ]
     },
     "execution_count": 21,
     "metadata": {},
     "output_type": "execute_result"
    }
   ],
   "source": [
    "df_full.isnull().sum()"
   ]
  },
  {
   "cell_type": "markdown",
   "id": "2de929e7",
   "metadata": {},
   "source": [
    "Exploring the product name null values, the products.csv contains 16 nulls, so they must remain missing values. "
   ]
  },
  {
   "cell_type": "code",
   "execution_count": 22,
   "id": "92222e4a",
   "metadata": {},
   "outputs": [],
   "source": [
    "# #Product Name wrangle\n",
    "# pd.set_option('display.max_columns', None)\n",
    "# df_pn = df_full[df_full['product_name'].isnull()]\n",
    "\n",
    "# df_pn['product_id'].unique()\n",
    "\n",
    "\n",
    "# df_prod.isnull().sum()\n",
    "\n",
    "# df_prod[df_prod['product_name'].isnull()]\n",
    "\n",
    "# pid = df_prod[df_prod['product_name'].isnull()]\n",
    "# pid_nan = pid['product_id'].tolist()\n",
    "# pid_nan\n",
    "\n",
    "# df_full.loc[df_full['product_id'].isin(pid_nan), 'product_name']"
   ]
  },
  {
   "cell_type": "code",
   "execution_count": null,
   "id": "5193cdff",
   "metadata": {},
   "outputs": [],
   "source": []
  },
  {
   "cell_type": "markdown",
   "id": "abd9b526",
   "metadata": {},
   "source": [
    "Wrangling the full dataset"
   ]
  },
  {
   "cell_type": "code",
   "execution_count": 23,
   "id": "46c8b905",
   "metadata": {},
   "outputs": [],
   "source": [
    "#drop unneeded columns, indexes from past merges.\n",
    "df_full.drop(columns=['Unnamed: 0.1', 'Unnamed: 0_x'], inplace=True)\n"
   ]
  },
  {
   "cell_type": "code",
   "execution_count": 24,
   "id": "499e8092",
   "metadata": {},
   "outputs": [],
   "source": [
    "df_full.drop(columns=['Unnamed: 0_y'], inplace=True)\n"
   ]
  },
  {
   "cell_type": "code",
   "execution_count": 25,
   "id": "fb8ec467",
   "metadata": {},
   "outputs": [
    {
     "data": {
      "text/plain": [
       "['order_id',\n",
       " 'customer_id',\n",
       " 'customer_order_number',\n",
       " 'orders_day_of_week',\n",
       " 'order_hour_of_day',\n",
       " 'days_between_last_order',\n",
       " 'first_order',\n",
       " 'product_id',\n",
       " 'add_to_cart_order',\n",
       " 'reordered',\n",
       " 'product_name',\n",
       " 'aisle_id',\n",
       " 'department_id',\n",
       " 'prices',\n",
       " '_merge',\n",
       " 'price_range_loc',\n",
       " 'Busiest Days',\n",
       " 'busiest_hours_of_day',\n",
       " 'max_orders',\n",
       " 'loyalty_flag',\n",
       " 'avg_cust_spend',\n",
       " 'Customer_Spend',\n",
       " 'median_order_frequency',\n",
       " 'Order_Frequency',\n",
       " 'Gender',\n",
       " 'State',\n",
       " 'Age',\n",
       " 'dependants',\n",
       " 'marital_status',\n",
       " 'income']"
      ]
     },
     "execution_count": 25,
     "metadata": {},
     "output_type": "execute_result"
    }
   ],
   "source": [
    "df_full.columns.tolist()"
   ]
  },
  {
   "cell_type": "code",
   "execution_count": 26,
   "id": "573153c5",
   "metadata": {},
   "outputs": [
    {
     "data": {
      "text/plain": [
       "order_id                         0\n",
       "customer_id                      0\n",
       "customer_order_number            0\n",
       "orders_day_of_week               0\n",
       "order_hour_of_day                0\n",
       "days_between_last_order    2078084\n",
       "first_order                      0\n",
       "product_id                       0\n",
       "add_to_cart_order                0\n",
       "reordered                        0\n",
       "product_name                 28171\n",
       "aisle_id                         0\n",
       "department_id                    0\n",
       "prices                        5127\n",
       "_merge                           0\n",
       "price_range_loc                  0\n",
       "Busiest Days                     0\n",
       "busiest_hours_of_day             0\n",
       "max_orders                       0\n",
       "loyalty_flag                     0\n",
       "avg_cust_spend                   0\n",
       "Customer_Spend                   0\n",
       "median_order_frequency           0\n",
       "Order_Frequency                  0\n",
       "Gender                           0\n",
       "State                            0\n",
       "Age                              0\n",
       "dependants                       0\n",
       "marital_status                   0\n",
       "income                           0\n",
       "dtype: int64"
      ]
     },
     "execution_count": 26,
     "metadata": {},
     "output_type": "execute_result"
    }
   ],
   "source": [
    "#all of these null values make sense. 1st order nulls, 16 product ids that have no name, and incorrect prices. \n",
    "df_full.isnull().sum()"
   ]
  },
  {
   "cell_type": "markdown",
   "id": "f7ba5a07",
   "metadata": {},
   "source": [
    "# export to pkl "
   ]
  },
  {
   "cell_type": "code",
   "execution_count": 27,
   "id": "65b9d7b5",
   "metadata": {},
   "outputs": [
    {
     "data": {
      "text/plain": [
       "(32434212, 30)"
      ]
     },
     "execution_count": 27,
     "metadata": {},
     "output_type": "execute_result"
    }
   ],
   "source": [
    "df_full.shape"
   ]
  },
  {
   "cell_type": "markdown",
   "id": "d26e70e4-56af-4c2f-827a-425a9ef1d1f3",
   "metadata": {},
   "source": [
    "# export"
   ]
  },
  {
   "cell_type": "code",
   "execution_count": 28,
   "id": "d841558a",
   "metadata": {},
   "outputs": [],
   "source": [
    "df_full.to_pickle(os.path.join(path, '02 Data', 'Prepared Data', 'df_customer_09212023.pkl'))"
   ]
  },
  {
   "cell_type": "code",
   "execution_count": null,
   "id": "a399cfe6",
   "metadata": {},
   "outputs": [],
   "source": []
  }
 ],
 "metadata": {
  "kernelspec": {
   "display_name": "Python 3 (ipykernel)",
   "language": "python",
   "name": "python3"
  },
  "language_info": {
   "codemirror_mode": {
    "name": "ipython",
    "version": 3
   },
   "file_extension": ".py",
   "mimetype": "text/x-python",
   "name": "python",
   "nbconvert_exporter": "python",
   "pygments_lexer": "ipython3",
   "version": "3.9.13"
  }
 },
 "nbformat": 4,
 "nbformat_minor": 5
}
