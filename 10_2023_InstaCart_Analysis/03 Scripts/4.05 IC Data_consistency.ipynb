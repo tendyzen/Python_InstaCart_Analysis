{
 "cells": [
  {
   "cell_type": "markdown",
   "id": "8029eab9-fe40-46c4-94d1-1bebd54c1d24",
   "metadata": {},
   "source": [
    "1 - import\n",
    "\n",
    "2 - data cleaning\n",
    "\n",
    "3 - create feature flag"
   ]
  },
  {
   "cell_type": "markdown",
   "id": "1479a601-6beb-4b4c-9167-8fdb7ea7623d",
   "metadata": {},
   "source": [
    "# import"
   ]
  },
  {
   "cell_type": "code",
   "execution_count": 1,
   "id": "d228395a",
   "metadata": {},
   "outputs": [],
   "source": [
    "#import libraries\n",
    "import pandas as pd\n",
    "import numpy as np\n",
    "import matplotlib as plt\n",
    "import os "
   ]
  },
  {
   "cell_type": "markdown",
   "id": "c99e000f",
   "metadata": {},
   "source": [
    "#Import csv files"
   ]
  },
  {
   "cell_type": "code",
   "execution_count": 2,
   "id": "4f14e464",
   "metadata": {},
   "outputs": [],
   "source": [
    "path = r'/Users/amritambe/Desktop/CareerF Python/Insta Cart Analysis'\n",
    "df_ords = pd.read_csv(os.path.join(path, '02 Data', 'Prepared Data', 'orders_wrangled.csv'))\n",
    "df_prods = pd.read_csv(os.path.join(path, '02 Data', 'original Data', 'products.csv'))"
   ]
  },
  {
   "cell_type": "markdown",
   "id": "31b9560a",
   "metadata": {},
   "source": [
    "#PRODUCT.CSV"
   ]
  },
  {
   "cell_type": "code",
   "execution_count": 3,
   "id": "299e866e",
   "metadata": {},
   "outputs": [],
   "source": [
    "#drop null values and compare changes"
   ]
  },
  {
   "cell_type": "markdown",
   "id": "745b85e1-7885-4600-8405-3c1e2650ce3c",
   "metadata": {},
   "source": [
    "# Data Cleaning"
   ]
  },
  {
   "cell_type": "code",
   "execution_count": 4,
   "id": "a1b4b0eb",
   "metadata": {},
   "outputs": [
    {
     "name": "stdout",
     "output_type": "stream",
     "text": [
      "(49677, 5) (49693, 5)\n"
     ]
    }
   ],
   "source": [
    "df_prods_ = df_prods[df_prods['product_name'].notna()]\n",
    "#df_prods.shape\n",
    "print(df_prods_.shape, df_prods.shape)"
   ]
  },
  {
   "cell_type": "code",
   "execution_count": 5,
   "id": "231e56c7",
   "metadata": {},
   "outputs": [],
   "source": [
    "#create df with null values"
   ]
  },
  {
   "cell_type": "code",
   "execution_count": 6,
   "id": "2b3ccd9d",
   "metadata": {},
   "outputs": [
    {
     "data": {
      "text/plain": [
       "(16, 5)"
      ]
     },
     "execution_count": 6,
     "metadata": {},
     "output_type": "execute_result"
    }
   ],
   "source": [
    "df_nan = df_prods[df_prods['product_name'].isnull()]\n",
    "df_nan.shape"
   ]
  },
  {
   "cell_type": "code",
   "execution_count": 7,
   "id": "451ee796",
   "metadata": {},
   "outputs": [],
   "source": [
    "#for loop to check for homogenous data types"
   ]
  },
  {
   "cell_type": "code",
   "execution_count": 8,
   "id": "7e4ce8fb",
   "metadata": {},
   "outputs": [
    {
     "name": "stdout",
     "output_type": "stream",
     "text": [
      "product_name\n"
     ]
    }
   ],
   "source": [
    "for col in df_prods.columns.tolist():\n",
    "    weird = (df_prods[[col]].applymap(type) != df_prods[[col]].iloc[0].apply(type)).any(axis=1)\n",
    "    if len(df_prods[weird] > 1):\n",
    "        print(col)\n"
   ]
  },
  {
   "cell_type": "code",
   "execution_count": 9,
   "id": "9f6e6f04",
   "metadata": {},
   "outputs": [],
   "source": [
    "#identify duplicated rows"
   ]
  },
  {
   "cell_type": "code",
   "execution_count": 10,
   "id": "60866d34",
   "metadata": {},
   "outputs": [
    {
     "data": {
      "text/html": [
       "<div>\n",
       "<style scoped>\n",
       "    .dataframe tbody tr th:only-of-type {\n",
       "        vertical-align: middle;\n",
       "    }\n",
       "\n",
       "    .dataframe tbody tr th {\n",
       "        vertical-align: top;\n",
       "    }\n",
       "\n",
       "    .dataframe thead th {\n",
       "        text-align: right;\n",
       "    }\n",
       "</style>\n",
       "<table border=\"1\" class=\"dataframe\">\n",
       "  <thead>\n",
       "    <tr style=\"text-align: right;\">\n",
       "      <th></th>\n",
       "      <th>product_id</th>\n",
       "      <th>product_name</th>\n",
       "      <th>aisle_id</th>\n",
       "      <th>department_id</th>\n",
       "      <th>prices</th>\n",
       "    </tr>\n",
       "  </thead>\n",
       "  <tbody>\n",
       "    <tr>\n",
       "      <th>462</th>\n",
       "      <td>462</td>\n",
       "      <td>Fiber 4g Gummy Dietary Supplement</td>\n",
       "      <td>70</td>\n",
       "      <td>11</td>\n",
       "      <td>4.8</td>\n",
       "    </tr>\n",
       "    <tr>\n",
       "      <th>18459</th>\n",
       "      <td>18458</td>\n",
       "      <td>Ranger IPA</td>\n",
       "      <td>27</td>\n",
       "      <td>5</td>\n",
       "      <td>9.2</td>\n",
       "    </tr>\n",
       "    <tr>\n",
       "      <th>26810</th>\n",
       "      <td>26808</td>\n",
       "      <td>Black House Coffee Roasty Stout Beer</td>\n",
       "      <td>27</td>\n",
       "      <td>5</td>\n",
       "      <td>13.4</td>\n",
       "    </tr>\n",
       "    <tr>\n",
       "      <th>35309</th>\n",
       "      <td>35306</td>\n",
       "      <td>Gluten Free Organic Peanut Butter &amp; Chocolate ...</td>\n",
       "      <td>121</td>\n",
       "      <td>14</td>\n",
       "      <td>6.8</td>\n",
       "    </tr>\n",
       "    <tr>\n",
       "      <th>35495</th>\n",
       "      <td>35491</td>\n",
       "      <td>Adore Forever Body Wash</td>\n",
       "      <td>127</td>\n",
       "      <td>11</td>\n",
       "      <td>9.9</td>\n",
       "    </tr>\n",
       "  </tbody>\n",
       "</table>\n",
       "</div>"
      ],
      "text/plain": [
       "       product_id                                       product_name  \\\n",
       "462           462                  Fiber 4g Gummy Dietary Supplement   \n",
       "18459       18458                                         Ranger IPA   \n",
       "26810       26808               Black House Coffee Roasty Stout Beer   \n",
       "35309       35306  Gluten Free Organic Peanut Butter & Chocolate ...   \n",
       "35495       35491                            Adore Forever Body Wash   \n",
       "\n",
       "       aisle_id  department_id  prices  \n",
       "462          70             11     4.8  \n",
       "18459        27              5     9.2  \n",
       "26810        27              5    13.4  \n",
       "35309       121             14     6.8  \n",
       "35495       127             11     9.9  "
      ]
     },
     "execution_count": 10,
     "metadata": {},
     "output_type": "execute_result"
    }
   ],
   "source": [
    "df_dups = df_prods_[df_prods_.duplicated()]\n",
    "df_dups"
   ]
  },
  {
   "cell_type": "code",
   "execution_count": 11,
   "id": "6a63308a",
   "metadata": {},
   "outputs": [],
   "source": [
    "#compare changes"
   ]
  },
  {
   "cell_type": "code",
   "execution_count": 12,
   "id": "f9042019",
   "metadata": {},
   "outputs": [
    {
     "data": {
      "text/plain": [
       "((49677, 5), (49672, 5))"
      ]
     },
     "execution_count": 12,
     "metadata": {},
     "output_type": "execute_result"
    }
   ],
   "source": [
    "df_prods_.shape, df_prods_.drop_duplicates().shape"
   ]
  },
  {
   "cell_type": "code",
   "execution_count": 13,
   "id": "2bfb6b98",
   "metadata": {},
   "outputs": [],
   "source": [
    "#create new df cleaned of null and duplicates"
   ]
  },
  {
   "cell_type": "code",
   "execution_count": 14,
   "id": "757ee013",
   "metadata": {},
   "outputs": [
    {
     "data": {
      "text/plain": [
       "(49672, 5)"
      ]
     },
     "execution_count": 14,
     "metadata": {},
     "output_type": "execute_result"
    }
   ],
   "source": [
    "df_prods_clean = df_prods_.drop_duplicates()\n",
    "df_prods_clean.shape"
   ]
  },
  {
   "cell_type": "markdown",
   "id": "0c32ff06",
   "metadata": {},
   "source": [
    "#ORDERS.CSV"
   ]
  },
  {
   "cell_type": "code",
   "execution_count": 15,
   "id": "3c5fa965",
   "metadata": {},
   "outputs": [],
   "source": [
    "#check for duplicates and null values in orders.csv"
   ]
  },
  {
   "cell_type": "code",
   "execution_count": 16,
   "id": "6f59e4da",
   "metadata": {},
   "outputs": [
    {
     "data": {
      "text/html": [
       "<div>\n",
       "<style scoped>\n",
       "    .dataframe tbody tr th:only-of-type {\n",
       "        vertical-align: middle;\n",
       "    }\n",
       "\n",
       "    .dataframe tbody tr th {\n",
       "        vertical-align: top;\n",
       "    }\n",
       "\n",
       "    .dataframe thead th {\n",
       "        text-align: right;\n",
       "    }\n",
       "</style>\n",
       "<table border=\"1\" class=\"dataframe\">\n",
       "  <thead>\n",
       "    <tr style=\"text-align: right;\">\n",
       "      <th></th>\n",
       "      <th>Unnamed: 0</th>\n",
       "      <th>order_id</th>\n",
       "      <th>user_id</th>\n",
       "      <th>order_number</th>\n",
       "      <th>orders_day_of_week</th>\n",
       "      <th>order_hour_of_day</th>\n",
       "      <th>days_between_last_order</th>\n",
       "    </tr>\n",
       "  </thead>\n",
       "  <tbody>\n",
       "    <tr>\n",
       "      <th>count</th>\n",
       "      <td>3.421083e+06</td>\n",
       "      <td>3.421083e+06</td>\n",
       "      <td>3.421083e+06</td>\n",
       "      <td>3.421083e+06</td>\n",
       "      <td>3.421083e+06</td>\n",
       "      <td>3.421083e+06</td>\n",
       "      <td>3.214874e+06</td>\n",
       "    </tr>\n",
       "    <tr>\n",
       "      <th>mean</th>\n",
       "      <td>1.710541e+06</td>\n",
       "      <td>1.710542e+06</td>\n",
       "      <td>1.029782e+05</td>\n",
       "      <td>1.715486e+01</td>\n",
       "      <td>2.776219e+00</td>\n",
       "      <td>1.345202e+01</td>\n",
       "      <td>1.111484e+01</td>\n",
       "    </tr>\n",
       "    <tr>\n",
       "      <th>std</th>\n",
       "      <td>9.875817e+05</td>\n",
       "      <td>9.875817e+05</td>\n",
       "      <td>5.953372e+04</td>\n",
       "      <td>1.773316e+01</td>\n",
       "      <td>2.046829e+00</td>\n",
       "      <td>4.226088e+00</td>\n",
       "      <td>9.206737e+00</td>\n",
       "    </tr>\n",
       "    <tr>\n",
       "      <th>min</th>\n",
       "      <td>0.000000e+00</td>\n",
       "      <td>1.000000e+00</td>\n",
       "      <td>1.000000e+00</td>\n",
       "      <td>1.000000e+00</td>\n",
       "      <td>0.000000e+00</td>\n",
       "      <td>0.000000e+00</td>\n",
       "      <td>0.000000e+00</td>\n",
       "    </tr>\n",
       "    <tr>\n",
       "      <th>25%</th>\n",
       "      <td>8.552705e+05</td>\n",
       "      <td>8.552715e+05</td>\n",
       "      <td>5.139400e+04</td>\n",
       "      <td>5.000000e+00</td>\n",
       "      <td>1.000000e+00</td>\n",
       "      <td>1.000000e+01</td>\n",
       "      <td>4.000000e+00</td>\n",
       "    </tr>\n",
       "    <tr>\n",
       "      <th>50%</th>\n",
       "      <td>1.710541e+06</td>\n",
       "      <td>1.710542e+06</td>\n",
       "      <td>1.026890e+05</td>\n",
       "      <td>1.100000e+01</td>\n",
       "      <td>3.000000e+00</td>\n",
       "      <td>1.300000e+01</td>\n",
       "      <td>7.000000e+00</td>\n",
       "    </tr>\n",
       "    <tr>\n",
       "      <th>75%</th>\n",
       "      <td>2.565812e+06</td>\n",
       "      <td>2.565812e+06</td>\n",
       "      <td>1.543850e+05</td>\n",
       "      <td>2.300000e+01</td>\n",
       "      <td>5.000000e+00</td>\n",
       "      <td>1.600000e+01</td>\n",
       "      <td>1.500000e+01</td>\n",
       "    </tr>\n",
       "    <tr>\n",
       "      <th>max</th>\n",
       "      <td>3.421082e+06</td>\n",
       "      <td>3.421083e+06</td>\n",
       "      <td>2.062090e+05</td>\n",
       "      <td>1.000000e+02</td>\n",
       "      <td>6.000000e+00</td>\n",
       "      <td>2.300000e+01</td>\n",
       "      <td>3.000000e+01</td>\n",
       "    </tr>\n",
       "  </tbody>\n",
       "</table>\n",
       "</div>"
      ],
      "text/plain": [
       "         Unnamed: 0      order_id       user_id  order_number  \\\n",
       "count  3.421083e+06  3.421083e+06  3.421083e+06  3.421083e+06   \n",
       "mean   1.710541e+06  1.710542e+06  1.029782e+05  1.715486e+01   \n",
       "std    9.875817e+05  9.875817e+05  5.953372e+04  1.773316e+01   \n",
       "min    0.000000e+00  1.000000e+00  1.000000e+00  1.000000e+00   \n",
       "25%    8.552705e+05  8.552715e+05  5.139400e+04  5.000000e+00   \n",
       "50%    1.710541e+06  1.710542e+06  1.026890e+05  1.100000e+01   \n",
       "75%    2.565812e+06  2.565812e+06  1.543850e+05  2.300000e+01   \n",
       "max    3.421082e+06  3.421083e+06  2.062090e+05  1.000000e+02   \n",
       "\n",
       "       orders_day_of_week  order_hour_of_day  days_between_last_order  \n",
       "count        3.421083e+06       3.421083e+06             3.214874e+06  \n",
       "mean         2.776219e+00       1.345202e+01             1.111484e+01  \n",
       "std          2.046829e+00       4.226088e+00             9.206737e+00  \n",
       "min          0.000000e+00       0.000000e+00             0.000000e+00  \n",
       "25%          1.000000e+00       1.000000e+01             4.000000e+00  \n",
       "50%          3.000000e+00       1.300000e+01             7.000000e+00  \n",
       "75%          5.000000e+00       1.600000e+01             1.500000e+01  \n",
       "max          6.000000e+00       2.300000e+01             3.000000e+01  "
      ]
     },
     "execution_count": 16,
     "metadata": {},
     "output_type": "execute_result"
    }
   ],
   "source": [
    "df_ords.describe()"
   ]
  },
  {
   "cell_type": "markdown",
   "id": "89c7b25c",
   "metadata": {},
   "source": [
    "The metrics for orders.csv seem to be correct. the order_number column is a little ambiguous, but it pertains to the number of orders for a particular user_id. order_number should be changed to customer_order_number, and user_id should be customer_id. "
   ]
  },
  {
   "cell_type": "code",
   "execution_count": 17,
   "id": "4f8aef5a",
   "metadata": {},
   "outputs": [],
   "source": [
    "df_ords.rename(columns={'order_number' : 'customer_order_number', 'user_id' : 'customer_id' }, inplace=True)"
   ]
  },
  {
   "cell_type": "code",
   "execution_count": 18,
   "id": "c02df8fd",
   "metadata": {},
   "outputs": [
    {
     "data": {
      "text/html": [
       "<div>\n",
       "<style scoped>\n",
       "    .dataframe tbody tr th:only-of-type {\n",
       "        vertical-align: middle;\n",
       "    }\n",
       "\n",
       "    .dataframe tbody tr th {\n",
       "        vertical-align: top;\n",
       "    }\n",
       "\n",
       "    .dataframe thead th {\n",
       "        text-align: right;\n",
       "    }\n",
       "</style>\n",
       "<table border=\"1\" class=\"dataframe\">\n",
       "  <thead>\n",
       "    <tr style=\"text-align: right;\">\n",
       "      <th></th>\n",
       "      <th>Unnamed: 0</th>\n",
       "      <th>order_id</th>\n",
       "      <th>customer_id</th>\n",
       "      <th>customer_order_number</th>\n",
       "      <th>orders_day_of_week</th>\n",
       "      <th>order_hour_of_day</th>\n",
       "      <th>days_between_last_order</th>\n",
       "    </tr>\n",
       "  </thead>\n",
       "  <tbody>\n",
       "    <tr>\n",
       "      <th>0</th>\n",
       "      <td>0</td>\n",
       "      <td>2539329</td>\n",
       "      <td>1</td>\n",
       "      <td>1</td>\n",
       "      <td>2</td>\n",
       "      <td>8</td>\n",
       "      <td>NaN</td>\n",
       "    </tr>\n",
       "    <tr>\n",
       "      <th>1</th>\n",
       "      <td>1</td>\n",
       "      <td>2398795</td>\n",
       "      <td>1</td>\n",
       "      <td>2</td>\n",
       "      <td>3</td>\n",
       "      <td>7</td>\n",
       "      <td>15.0</td>\n",
       "    </tr>\n",
       "    <tr>\n",
       "      <th>2</th>\n",
       "      <td>2</td>\n",
       "      <td>473747</td>\n",
       "      <td>1</td>\n",
       "      <td>3</td>\n",
       "      <td>3</td>\n",
       "      <td>12</td>\n",
       "      <td>21.0</td>\n",
       "    </tr>\n",
       "    <tr>\n",
       "      <th>3</th>\n",
       "      <td>3</td>\n",
       "      <td>2254736</td>\n",
       "      <td>1</td>\n",
       "      <td>4</td>\n",
       "      <td>4</td>\n",
       "      <td>7</td>\n",
       "      <td>29.0</td>\n",
       "    </tr>\n",
       "    <tr>\n",
       "      <th>4</th>\n",
       "      <td>4</td>\n",
       "      <td>431534</td>\n",
       "      <td>1</td>\n",
       "      <td>5</td>\n",
       "      <td>4</td>\n",
       "      <td>15</td>\n",
       "      <td>28.0</td>\n",
       "    </tr>\n",
       "  </tbody>\n",
       "</table>\n",
       "</div>"
      ],
      "text/plain": [
       "   Unnamed: 0  order_id  customer_id  customer_order_number  \\\n",
       "0           0   2539329            1                      1   \n",
       "1           1   2398795            1                      2   \n",
       "2           2    473747            1                      3   \n",
       "3           3   2254736            1                      4   \n",
       "4           4    431534            1                      5   \n",
       "\n",
       "   orders_day_of_week  order_hour_of_day  days_between_last_order  \n",
       "0                   2                  8                      NaN  \n",
       "1                   3                  7                     15.0  \n",
       "2                   3                 12                     21.0  \n",
       "3                   4                  7                     29.0  \n",
       "4                   4                 15                     28.0  "
      ]
     },
     "execution_count": 18,
     "metadata": {},
     "output_type": "execute_result"
    }
   ],
   "source": [
    "df_ords.head()"
   ]
  },
  {
   "cell_type": "code",
   "execution_count": 19,
   "id": "65390896",
   "metadata": {},
   "outputs": [],
   "source": [
    "#check for homogenous data with a for loop "
   ]
  },
  {
   "cell_type": "code",
   "execution_count": 20,
   "id": "68244789",
   "metadata": {},
   "outputs": [],
   "source": [
    "for col in df_ords.columns.tolist():\n",
    "    weird = (df_ords[[col]].applymap(type) != df_ords[[col]].iloc[0].apply(type)).any(axis=1)\n",
    "    if len(df_ords[weird] > 1):\n",
    "        print(col)\n"
   ]
  },
  {
   "cell_type": "code",
   "execution_count": 21,
   "id": "676404e1",
   "metadata": {},
   "outputs": [],
   "source": [
    "#no output means the data types are correct"
   ]
  },
  {
   "cell_type": "code",
   "execution_count": 22,
   "id": "8368fad5",
   "metadata": {},
   "outputs": [],
   "source": [
    "#check for nulls and duplicates"
   ]
  },
  {
   "cell_type": "code",
   "execution_count": 23,
   "id": "26a872d2",
   "metadata": {},
   "outputs": [
    {
     "data": {
      "text/plain": [
       "Unnamed: 0                      0\n",
       "order_id                        0\n",
       "customer_id                     0\n",
       "customer_order_number           0\n",
       "orders_day_of_week              0\n",
       "order_hour_of_day               0\n",
       "days_between_last_order    206209\n",
       "dtype: int64"
      ]
     },
     "execution_count": 23,
     "metadata": {},
     "output_type": "execute_result"
    }
   ],
   "source": [
    "df_ords.isnull().sum()"
   ]
  },
  {
   "cell_type": "code",
   "execution_count": 24,
   "id": "c524c746",
   "metadata": {},
   "outputs": [
    {
     "data": {
      "text/plain": [
       "0"
      ]
     },
     "execution_count": 24,
     "metadata": {},
     "output_type": "execute_result"
    }
   ],
   "source": [
    "df_ords.duplicated().sum()"
   ]
  },
  {
   "cell_type": "markdown",
   "id": "fd493e19",
   "metadata": {},
   "source": [
    "#no duplicates in orders.csv, but the days_between_last_order column has 206,209 null values- about 6% of the total. This is likely due to the customer's first order not having any prior data. I want to create a new boolean column for identifying the first order for a customer. "
   ]
  },
  {
   "cell_type": "code",
   "execution_count": 25,
   "id": "02ac8941",
   "metadata": {},
   "outputs": [],
   "source": [
    "#Create first_order column"
   ]
  },
  {
   "cell_type": "markdown",
   "id": "b0531303-3c78-4427-bf42-4981113c0a7b",
   "metadata": {},
   "source": [
    "# create feature flag"
   ]
  },
  {
   "cell_type": "code",
   "execution_count": 31,
   "id": "8e3470f1",
   "metadata": {},
   "outputs": [
    {
     "data": {
      "text/plain": [
       "Unnamed: 0                      0\n",
       "order_id                        0\n",
       "customer_id                     0\n",
       "customer_order_number           0\n",
       "orders_day_of_week              0\n",
       "order_hour_of_day               0\n",
       "days_between_last_order    206209\n",
       "first_order                     0\n",
       "dtype: int64"
      ]
     },
     "execution_count": 31,
     "metadata": {},
     "output_type": "execute_result"
    }
   ],
   "source": [
    "df_ords['first_order'] = df_ords['days_between_last_order'].isnull()\n",
    "df_ords.isnull().sum()"
   ]
  },
  {
   "cell_type": "code",
   "execution_count": 27,
   "id": "6b9abc1e",
   "metadata": {},
   "outputs": [],
   "source": [
    "#export df_ords and df_prods to csv files into prepared data"
   ]
  },
  {
   "cell_type": "code",
   "execution_count": 32,
   "id": "630e1341",
   "metadata": {},
   "outputs": [],
   "source": [
    "df_prods.to_csv(os.path.join(path, '02 Data', 'Prepared Data', 'Product_cleaned.csv'))\n",
    "df_ords.to_csv(os.path.join(path, '02 Data', 'Prepared Data', 'Orders_cleaned.csv'))\n"
   ]
  },
  {
   "cell_type": "code",
   "execution_count": null,
   "id": "b65cdb5d",
   "metadata": {},
   "outputs": [],
   "source": []
  }
 ],
 "metadata": {
  "kernelspec": {
   "display_name": "Python 3 (ipykernel)",
   "language": "python",
   "name": "python3"
  },
  "language_info": {
   "codemirror_mode": {
    "name": "ipython",
    "version": 3
   },
   "file_extension": ".py",
   "mimetype": "text/x-python",
   "name": "python",
   "nbconvert_exporter": "python",
   "pygments_lexer": "ipython3",
   "version": "3.9.13"
  }
 },
 "nbformat": 4,
 "nbformat_minor": 5
}
