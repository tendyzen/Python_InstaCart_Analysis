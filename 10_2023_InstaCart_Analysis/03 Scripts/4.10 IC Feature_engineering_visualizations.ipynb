{
 "cells": [
  {
   "cell_type": "markdown",
   "id": "d40bd011-609c-42a3-91c9-41f82006b7dd",
   "metadata": {},
   "source": [
    "1 - import\n",
    "\n",
    "2 - feature binning\n",
    "\n",
    "3 - feature filtering\n",
    "\n",
    "4 - feature engineering\n",
    "\n",
    "5 - visualize new features"
   ]
  },
  {
   "cell_type": "markdown",
   "id": "52453b5b-8b12-4c9a-89a1-ad8bde91f58c",
   "metadata": {},
   "source": [
    "# import"
   ]
  },
  {
   "cell_type": "code",
   "execution_count": 2,
   "id": "5dd7dc71-d5d2-48fc-a1d0-3eb535acf5e8",
   "metadata": {},
   "outputs": [
    {
     "data": {
      "text/plain": [
       "((32434212, 31),\n",
       "            order_id   customer_id  customer_order_number  orders_day_of_week  \\\n",
       " count  3.243421e+07  3.243421e+07           3.243421e+07        3.243421e+07   \n",
       " mean   1.710748e+06  1.029374e+05           1.714192e+01        2.738810e+00   \n",
       " std    9.872996e+05  5.946649e+04           1.753489e+01        2.090047e+00   \n",
       " min    2.000000e+00  1.000000e+00           1.000000e+00        0.000000e+00   \n",
       " 25%    8.559450e+05  5.142000e+04           5.000000e+00        1.000000e+00   \n",
       " 50%    1.711049e+06  1.026125e+05           1.100000e+01        3.000000e+00   \n",
       " 75%    2.565510e+06  1.543910e+05           2.400000e+01        5.000000e+00   \n",
       " max    3.421083e+06  2.062090e+05           9.900000e+01        6.000000e+00   \n",
       " \n",
       "        order_hour_of_day  days_between_last_order    product_id  \\\n",
       " count       3.243421e+07               30356128.0  3.243421e+07   \n",
       " mean        1.342500e+01                      NaN  2.557778e+04   \n",
       " std         4.246351e+00                      0.0  1.409614e+04   \n",
       " min         0.000000e+00                      0.0  1.000000e+00   \n",
       " 25%         1.000000e+01                      5.0  1.353500e+04   \n",
       " 50%         1.300000e+01                      8.0  2.525600e+04   \n",
       " 75%         1.600000e+01                     15.0  3.793500e+04   \n",
       " max         2.300000e+01                     30.0  4.968800e+04   \n",
       " \n",
       "        add_to_cart_order     reordered      aisle_id  department_id  \\\n",
       " count       3.243421e+07  3.243421e+07  3.243421e+07   3.243421e+07   \n",
       " mean        8.351176e+00  5.896888e-01  7.121649e+01   9.922231e+00   \n",
       " std         7.126688e+00  4.918902e-01  3.820429e+01   6.281190e+00   \n",
       " min         1.000000e+00  0.000000e+00  1.000000e+00   1.000000e+00   \n",
       " 25%         3.000000e+00  0.000000e+00  3.100000e+01   4.000000e+00   \n",
       " 50%         6.000000e+00  1.000000e+00  8.300000e+01   9.000000e+00   \n",
       " 75%         1.100000e+01  1.000000e+00  1.070000e+02   1.600000e+01   \n",
       " max         1.450000e+02  1.000000e+00  1.340000e+02   2.100000e+01   \n",
       " \n",
       "              prices    max_orders  avg_cust_spend  median_order_frequency  \\\n",
       " count  3.242908e+07  3.243421e+07    3.243421e+07              32434212.0   \n",
       " mean            NaN  3.305217e+01             NaN                     NaN   \n",
       " std    0.000000e+00  2.515449e+01    0.000000e+00                     0.0   \n",
       " min    1.000000e+00  3.000000e+00    1.000000e+00                     0.0   \n",
       " 25%    4.199219e+00  1.300000e+01    7.382812e+00                     6.0   \n",
       " 50%    7.398438e+00  2.600000e+01    7.816406e+00                     8.0   \n",
       " 75%    1.129688e+01  4.700000e+01    8.234375e+00                    13.0   \n",
       " max    2.500000e+01  9.900000e+01    2.320312e+01                    30.0   \n",
       " \n",
       "                 Age    Dependents        Income  \n",
       " count  3.243421e+07  3.243421e+07  3.243421e+07  \n",
       " mean   4.946521e+01  1.501872e+00  9.943525e+04  \n",
       " std    1.848553e+01  1.118871e+00  4.305473e+04  \n",
       " min    1.800000e+01  0.000000e+00  2.590300e+04  \n",
       " 25%    3.300000e+01  1.000000e+00  6.699800e+04  \n",
       " 50%    4.900000e+01  2.000000e+00  9.661200e+04  \n",
       " 75%    6.500000e+01  3.000000e+00  1.279080e+05  \n",
       " max    8.100000e+01  3.000000e+00  5.939010e+05  )"
      ]
     },
     "execution_count": 2,
     "metadata": {},
     "output_type": "execute_result"
    }
   ],
   "source": [
    "#import libraries\n",
    "import pandas as pd\n",
    "import numpy as np\n",
    "import matplotlib.pyplot as plt\n",
    "import seaborn as sns\n",
    "import scipy\n",
    "import os\n",
    "\n",
    "#import data files\n",
    "path = r'/Users/amritambe/Desktop/CareerF Python/Insta Cart Analysis'\n",
    "df_ = pd.read_pickle(os.path.join(path, '02 Data', 'Prepared Data', 'Df_09242023.pkl'))\n",
    "df_.shape, df_.describe()"
   ]
  },
  {
   "cell_type": "code",
   "execution_count": 17,
   "id": "0f523785-c862-452b-99aa-2fb4b543488c",
   "metadata": {},
   "outputs": [
    {
     "data": {
      "text/plain": [
       "2078084"
      ]
     },
     "execution_count": 17,
     "metadata": {},
     "output_type": "execute_result"
    }
   ],
   "source": [
    "#check nans\n",
    "df_['days_between_last_order'].isnull().sum()"
   ]
  },
  {
   "cell_type": "code",
   "execution_count": 3,
   "id": "f02975fa-1d5e-4613-bb02-adc93f62d704",
   "metadata": {},
   "outputs": [
    {
     "data": {
      "text/plain": [
       "['order_id',\n",
       " 'customer_id',\n",
       " 'customer_order_number',\n",
       " 'orders_day_of_week',\n",
       " 'order_hour_of_day',\n",
       " 'days_between_last_order',\n",
       " 'first_order',\n",
       " 'product_id',\n",
       " 'add_to_cart_order',\n",
       " 'reordered',\n",
       " 'product_name',\n",
       " 'aisle_id',\n",
       " 'department_id',\n",
       " 'prices',\n",
       " '_merge',\n",
       " 'price_range_loc',\n",
       " 'Busiest Days',\n",
       " 'busiest_hours_of_day',\n",
       " 'max_orders',\n",
       " 'loyalty_flag',\n",
       " 'avg_cust_spend',\n",
       " 'Customer_Spend',\n",
       " 'median_order_frequency',\n",
       " 'Order_Frequency',\n",
       " 'Gender',\n",
       " 'State',\n",
       " 'Age',\n",
       " 'date_joined',\n",
       " 'Dependents',\n",
       " 'Marital_Status',\n",
       " 'Income']"
      ]
     },
     "execution_count": 3,
     "metadata": {},
     "output_type": "execute_result"
    }
   ],
   "source": [
    "#check columns\n",
    "\n",
    "df_.columns.tolist()"
   ]
  },
  {
   "cell_type": "markdown",
   "id": "233d9e18-d355-4c64-bcf4-3abd9e3f56ae",
   "metadata": {},
   "source": [
    "# feature binning\n",
    "Regional column"
   ]
  },
  {
   "cell_type": "code",
   "execution_count": 4,
   "id": "91b53ca9-9502-4a3c-9662-5239d2f4cf23",
   "metadata": {},
   "outputs": [],
   "source": [
    "# Create a regional segmentation of the data. You’ll need to create a “Region” column based on the “State” \n",
    "# column from your customers data set.\n",
    "\n",
    "# Region 1 (Northeast)\n",
    "Northeast = [\n",
    "    \"Maine\",\n",
    "    \"New Hampshire\",\n",
    "    \"Vermont\",\n",
    "    \"Massachusetts\",\n",
    "    \"Rhode Island\",\n",
    "    \"Connecticut\",\n",
    "    \"New York\",\n",
    "    \"Pennsylvania\",\n",
    "    \"New Jersey\"\n",
    "]\n",
    "\n",
    "# Region 2 (Midwest)\n",
    "Midwest = [\n",
    "    \"Wisconsin\",\n",
    "    \"Michigan\",\n",
    "    \"Illinois\",\n",
    "    \"Indiana\",\n",
    "    \"Ohio\",\n",
    "    \"North Dakota\",\n",
    "    \"South Dakota\",\n",
    "    \"Nebraska\",\n",
    "    \"Kansas\",\n",
    "    \"Minnesota\",\n",
    "    \"Iowa\",\n",
    "    \"Missouri\"\n",
    "]\n",
    "\n",
    "# Region 3 (South)\n",
    "South = [\n",
    "    \"Delaware\",\n",
    "    \"Maryland\",\n",
    "    \"District of Columbia\",\n",
    "    \"Virginia\",\n",
    "    \"West Virginia\",\n",
    "    \"North Carolina\",\n",
    "    \"South Carolina\",\n",
    "    \"Georgia\",\n",
    "    \"Florida\",\n",
    "    \"Kentucky\",\n",
    "    \"Tennessee\",\n",
    "    \"Mississippi\",\n",
    "    \"Alabama\",\n",
    "    \"Oklahoma\",\n",
    "    \"Texas\",\n",
    "    \"Arkansas\",\n",
    "    \"Louisiana\"\n",
    "]\n",
    "\n",
    "# Region 4 (West)\n",
    "West = [\n",
    "    \"Idaho\",\n",
    "    \"Montana\",\n",
    "    \"Wyoming\",\n",
    "    \"Nevada\",\n",
    "    \"Utah\",\n",
    "    \"Colorado\",\n",
    "    \"Arizona\",\n",
    "    \"New Mexico\",\n",
    "    \"Alaska\",\n",
    "    \"Washington\",\n",
    "    \"Oregon\",\n",
    "    \"California\",\n",
    "    \"Hawaii\"\n",
    "]\n"
   ]
  },
  {
   "cell_type": "code",
   "execution_count": 5,
   "id": "f399edf3-785c-4280-96f0-6b64607b5b4d",
   "metadata": {},
   "outputs": [],
   "source": [
    "# Determine whether there’s a difference in spending habits between the different U.S. regions.\n",
    "\n",
    "#initialize new region column\n",
    "df_['Region'] = 'Other'\n",
    "\n",
    "#create flag column\n",
    "df_.loc[df_['State'].isin(West), 'Region']='West'\n",
    "df_.loc[df_['State'].isin(Northeast), 'Region']='Northeast'\n",
    "df_.loc[df_['State'].isin(South), 'Region']='South'\n",
    "df_.loc[df_['State'].isin(Midwest), 'Region']='Midwest'"
   ]
  },
  {
   "cell_type": "code",
   "execution_count": 6,
   "id": "a42203cf-6ca7-448d-8c5b-b89391c0b8eb",
   "metadata": {},
   "outputs": [
    {
     "data": {
      "text/plain": [
       "South        10801610\n",
       "West          8300445\n",
       "Midwest       7603810\n",
       "Northeast     5728347\n",
       "Name: Region, dtype: int64"
      ]
     },
     "execution_count": 6,
     "metadata": {},
     "output_type": "execute_result"
    }
   ],
   "source": [
    "#check new column\n",
    "df_['Region'].value_counts()"
   ]
  },
  {
   "cell_type": "markdown",
   "id": "8af483d1-5e02-4b24-aabc-348b6fa7b49c",
   "metadata": {},
   "source": [
    "analyze new regional feature"
   ]
  },
  {
   "cell_type": "code",
   "execution_count": 7,
   "id": "4ffadf48-9bf4-4544-80d1-be6eb6591dc3",
   "metadata": {},
   "outputs": [
    {
     "data": {
      "text/plain": [
       "Region\n",
       "Midwest      7.796875\n",
       "Northeast    7.789062\n",
       "South        7.800781\n",
       "West         7.796875\n",
       "Name: avg_cust_spend, dtype: float16"
      ]
     },
     "execution_count": 7,
     "metadata": {},
     "output_type": "execute_result"
    }
   ],
   "source": [
    "# check avg_cust_spend for each region\n",
    "\n",
    "avg_spend = df_.groupby('Region')['avg_cust_spend'].mean()\n",
    "avg_spend"
   ]
  },
  {
   "cell_type": "markdown",
   "id": "a5cf16e1-8857-45c8-b42e-f2bd66154e16",
   "metadata": {},
   "source": [
    "These are very similar avg spending habits, so the conclusion is there is minimal difference between the regions"
   ]
  },
  {
   "cell_type": "code",
   "execution_count": 8,
   "id": "2257c614-69dc-472a-9210-c2ee419be68d",
   "metadata": {},
   "outputs": [
    {
     "data": {
      "text/plain": [
       "dtype('float32')"
      ]
     },
     "execution_count": 8,
     "metadata": {},
     "output_type": "execute_result"
    }
   ],
   "source": [
    "#change data type to avoid overflow\n",
    "df_['avg_cust_spend'] = df_['avg_cust_spend'].astype('float32')\n",
    "df_['avg_cust_spend'].dtypes"
   ]
  },
  {
   "cell_type": "code",
   "execution_count": 9,
   "id": "c173151d-5d73-4624-9c04-c3e05dd97b46",
   "metadata": {},
   "outputs": [],
   "source": [
    "#create bar chart to show avg customer spend\n",
    "\n",
    "#more efficient df\n",
    "df_bar = df_[['Region', 'avg_cust_spend']]\n",
    "#sample df\n",
    "df_bar_sample = df_bar.sample(frac=0.3, random_state=4)\n",
    "\n",
    "#plot the df_bar_sample\n",
    "#bar = sns.barplot(x='Region', y='avg_cust_spend', data=df_bar_sample)"
   ]
  },
  {
   "cell_type": "code",
   "execution_count": 10,
   "id": "23c58a00-d4b1-4f68-bae6-588813f62abd",
   "metadata": {},
   "outputs": [
    {
     "data": {
      "text/plain": [
       "dtype('int16')"
      ]
     },
     "execution_count": 10,
     "metadata": {},
     "output_type": "execute_result"
    }
   ],
   "source": [
    "df_['max_orders'].dtypes"
   ]
  },
  {
   "cell_type": "markdown",
   "id": "5e1f3b26-7071-4224-87de-289604754cfc",
   "metadata": {},
   "source": [
    "# feature filtering\n",
    "exclude low-activity customers"
   ]
  },
  {
   "cell_type": "code",
   "execution_count": 11,
   "id": "96078a5f-5b5b-46b5-93ca-131342a36ddb",
   "metadata": {},
   "outputs": [
    {
     "data": {
      "text/plain": [
       "(206209, 162633)"
      ]
     },
     "execution_count": 11,
     "metadata": {},
     "output_type": "execute_result"
    }
   ],
   "source": [
    "#Create an exclusion flag for low-activity customers (customers with less than 5 orders) and exclude them\n",
    "\n",
    "df = df_[df_['max_orders'] >= 5]\n",
    "\n",
    "#checking how many customers were dropped\n",
    "df_['customer_id'].nunique(), df['customer_id'].nunique()"
   ]
  },
  {
   "cell_type": "code",
   "execution_count": 12,
   "id": "72e410b4-f385-402f-98a3-3a9f18535915",
   "metadata": {},
   "outputs": [
    {
     "name": "stdout",
     "output_type": "stream",
     "text": [
      "43576\n"
     ]
    }
   ],
   "source": [
    "#how many customers dropped\n",
    "print(df_['customer_id'].nunique() - df['customer_id'].nunique())"
   ]
  },
  {
   "cell_type": "code",
   "execution_count": 15,
   "id": "39f51a6d-3fc9-40e1-b4db-2bd4b04b0e74",
   "metadata": {},
   "outputs": [
    {
     "data": {
      "text/plain": [
       "(30992664, 32)"
      ]
     },
     "execution_count": 15,
     "metadata": {},
     "output_type": "execute_result"
    }
   ],
   "source": [
    "df.shape"
   ]
  },
  {
   "cell_type": "code",
   "execution_count": 12,
   "id": "60c8edfe-4b28-48d6-b894-4496e50cc00b",
   "metadata": {},
   "outputs": [],
   "source": [
    "#export new df\n",
    "#df.to_pickle(os.path.join(path, '02 Data', 'Prepared Data', 'High_Activity_Cust_0925.pkl'))"
   ]
  },
  {
   "cell_type": "markdown",
   "id": "56a7d51b-880e-4693-9d05-12a4bf1cdb84",
   "metadata": {},
   "source": [
    "Create a profiling variable based on age, income, certain goods in the “department_id” column, and number of \n",
    "dependents. You might also use the “orders_day_of_the_week” and “order_hour_of_day” columns if you can \n",
    "think of a way they would impact customer profiles. (Hint: As an example, try thinking of what characteristics\n",
    "would lead you to the profile “Single adult” or “Young parent.”)"
   ]
  },
  {
   "cell_type": "markdown",
   "id": "64dbdeae-eeb6-4ba6-8c3e-b10cb8daf2fb",
   "metadata": {},
   "source": [
    "# feature engineering\n",
    "Weekend Shoppers"
   ]
  },
  {
   "cell_type": "code",
   "execution_count": 13,
   "id": "04b941a3-7fca-49aa-91c1-ff72e5b9398d",
   "metadata": {},
   "outputs": [
    {
     "data": {
      "text/html": [
       "<div>\n",
       "<style scoped>\n",
       "    .dataframe tbody tr th:only-of-type {\n",
       "        vertical-align: middle;\n",
       "    }\n",
       "\n",
       "    .dataframe tbody tr th {\n",
       "        vertical-align: top;\n",
       "    }\n",
       "\n",
       "    .dataframe thead th {\n",
       "        text-align: right;\n",
       "    }\n",
       "</style>\n",
       "<table border=\"1\" class=\"dataframe\">\n",
       "  <thead>\n",
       "    <tr style=\"text-align: right;\">\n",
       "      <th></th>\n",
       "      <th>customer_id</th>\n",
       "      <th>orders_day_of_week</th>\n",
       "    </tr>\n",
       "  </thead>\n",
       "  <tbody>\n",
       "    <tr>\n",
       "      <th>0</th>\n",
       "      <td>1</td>\n",
       "      <td>0.000000</td>\n",
       "    </tr>\n",
       "    <tr>\n",
       "      <th>1</th>\n",
       "      <td>2</td>\n",
       "      <td>0.000000</td>\n",
       "    </tr>\n",
       "    <tr>\n",
       "      <th>2</th>\n",
       "      <td>3</td>\n",
       "      <td>0.522727</td>\n",
       "    </tr>\n",
       "    <tr>\n",
       "      <th>3</th>\n",
       "      <td>4</td>\n",
       "      <td>0.222222</td>\n",
       "    </tr>\n",
       "    <tr>\n",
       "      <th>4</th>\n",
       "      <td>7</td>\n",
       "      <td>0.427184</td>\n",
       "    </tr>\n",
       "    <tr>\n",
       "      <th>5</th>\n",
       "      <td>10</td>\n",
       "      <td>0.000000</td>\n",
       "    </tr>\n",
       "    <tr>\n",
       "      <th>6</th>\n",
       "      <td>11</td>\n",
       "      <td>0.138298</td>\n",
       "    </tr>\n",
       "    <tr>\n",
       "      <th>7</th>\n",
       "      <td>12</td>\n",
       "      <td>0.000000</td>\n",
       "    </tr>\n",
       "    <tr>\n",
       "      <th>8</th>\n",
       "      <td>13</td>\n",
       "      <td>0.938272</td>\n",
       "    </tr>\n",
       "    <tr>\n",
       "      <th>9</th>\n",
       "      <td>14</td>\n",
       "      <td>0.142857</td>\n",
       "    </tr>\n",
       "    <tr>\n",
       "      <th>10</th>\n",
       "      <td>15</td>\n",
       "      <td>0.083333</td>\n",
       "    </tr>\n",
       "    <tr>\n",
       "      <th>11</th>\n",
       "      <td>16</td>\n",
       "      <td>0.328571</td>\n",
       "    </tr>\n",
       "    <tr>\n",
       "      <th>12</th>\n",
       "      <td>17</td>\n",
       "      <td>0.238095</td>\n",
       "    </tr>\n",
       "    <tr>\n",
       "      <th>13</th>\n",
       "      <td>18</td>\n",
       "      <td>0.589744</td>\n",
       "    </tr>\n",
       "    <tr>\n",
       "      <th>14</th>\n",
       "      <td>19</td>\n",
       "      <td>0.308824</td>\n",
       "    </tr>\n",
       "    <tr>\n",
       "      <th>15</th>\n",
       "      <td>21</td>\n",
       "      <td>0.000000</td>\n",
       "    </tr>\n",
       "    <tr>\n",
       "      <th>16</th>\n",
       "      <td>22</td>\n",
       "      <td>0.130435</td>\n",
       "    </tr>\n",
       "    <tr>\n",
       "      <th>17</th>\n",
       "      <td>24</td>\n",
       "      <td>0.578947</td>\n",
       "    </tr>\n",
       "    <tr>\n",
       "      <th>18</th>\n",
       "      <td>26</td>\n",
       "      <td>0.000000</td>\n",
       "    </tr>\n",
       "    <tr>\n",
       "      <th>19</th>\n",
       "      <td>27</td>\n",
       "      <td>0.000000</td>\n",
       "    </tr>\n",
       "  </tbody>\n",
       "</table>\n",
       "</div>"
      ],
      "text/plain": [
       "    customer_id  orders_day_of_week\n",
       "0             1            0.000000\n",
       "1             2            0.000000\n",
       "2             3            0.522727\n",
       "3             4            0.222222\n",
       "4             7            0.427184\n",
       "5            10            0.000000\n",
       "6            11            0.138298\n",
       "7            12            0.000000\n",
       "8            13            0.938272\n",
       "9            14            0.142857\n",
       "10           15            0.083333\n",
       "11           16            0.328571\n",
       "12           17            0.238095\n",
       "13           18            0.589744\n",
       "14           19            0.308824\n",
       "15           21            0.000000\n",
       "16           22            0.130435\n",
       "17           24            0.578947\n",
       "18           26            0.000000\n",
       "19           27            0.000000"
      ]
     },
     "execution_count": 13,
     "metadata": {},
     "output_type": "execute_result"
    }
   ],
   "source": [
    "#Weekend shopping profile\n",
    "\n",
    "# Define a custom aggregation function\n",
    "def weekend_proportion(x):\n",
    "    weekend_days = [0, 6]\n",
    "    weekend_orders = x[x.isin(weekend_days)].count()\n",
    "    total_orders = x.count()\n",
    "    return weekend_orders / total_orders\n",
    "\n",
    "# Group by 'customer_id' and calculate the weekend proportion\n",
    "customer_weekend_proportion = df.groupby('customer_id')['orders_day_of_week'].agg(weekend_proportion).reset_index()\n",
    "customer_weekend_proportion.head(20)"
   ]
  },
  {
   "cell_type": "code",
   "execution_count": 14,
   "id": "1b7aca87-bdaf-4773-96d0-ad8c84d83958",
   "metadata": {},
   "outputs": [
    {
     "data": {
      "text/plain": [
       "Index(['customer_id', 'weekend_ratio'], dtype='object')"
      ]
     },
     "execution_count": 14,
     "metadata": {},
     "output_type": "execute_result"
    }
   ],
   "source": [
    "#rename new df cols\n",
    "customer_weekend_proportion.rename(columns={'orders_day_of_week':'weekend_ratio'}, inplace=True)\n",
    "customer_weekend_proportion.columns"
   ]
  },
  {
   "cell_type": "code",
   "execution_count": 15,
   "id": "da020cbe-e8bb-4db3-8ae4-df7b81422fac",
   "metadata": {},
   "outputs": [
    {
     "data": {
      "text/plain": [
       "['order_id',\n",
       " 'customer_id',\n",
       " 'customer_order_number',\n",
       " 'orders_day_of_week',\n",
       " 'order_hour_of_day',\n",
       " 'days_between_last_order',\n",
       " 'first_order',\n",
       " 'product_id',\n",
       " 'add_to_cart_order',\n",
       " 'reordered',\n",
       " 'product_name',\n",
       " 'aisle_id',\n",
       " 'department_id',\n",
       " 'prices',\n",
       " '_merge',\n",
       " 'price_range_loc',\n",
       " 'Busiest Days',\n",
       " 'busiest_hours_of_day',\n",
       " 'max_orders',\n",
       " 'loyalty_flag',\n",
       " 'avg_cust_spend',\n",
       " 'Customer_Spend',\n",
       " 'median_order_frequency',\n",
       " 'Order_Frequency',\n",
       " 'Gender',\n",
       " 'State',\n",
       " 'Age',\n",
       " 'date_joined',\n",
       " 'Dependents',\n",
       " 'Marital_Status',\n",
       " 'Income',\n",
       " 'Region',\n",
       " 'weekend_ratio']"
      ]
     },
     "execution_count": 15,
     "metadata": {},
     "output_type": "execute_result"
    }
   ],
   "source": [
    "#add data to df_(orginal dataframe) as weekend_ratio\n",
    "df_ = df_.merge(customer_weekend_proportion, on='customer_id')\n",
    "df_.columns.tolist()"
   ]
  },
  {
   "cell_type": "code",
   "execution_count": 16,
   "id": "ac6a9df5-d315-4ccf-aa72-d0fb7ca0896e",
   "metadata": {},
   "outputs": [
    {
     "data": {
      "text/plain": [
       "162633"
      ]
     },
     "execution_count": 16,
     "metadata": {},
     "output_type": "execute_result"
    }
   ],
   "source": [
    "df_['customer_id'].nunique()"
   ]
  },
  {
   "cell_type": "code",
   "execution_count": 17,
   "id": "b1977c96-865a-4e41-87be-ed6cc913516a",
   "metadata": {},
   "outputs": [
    {
     "data": {
      "text/plain": [
       "(0     False\n",
       " 1     False\n",
       " 2     False\n",
       " 3     False\n",
       " 4     False\n",
       " 5     False\n",
       " 6     False\n",
       " 7     False\n",
       " 8     False\n",
       " 9     False\n",
       " 10    False\n",
       " 11    False\n",
       " Name: weekend_customer, dtype: object,\n",
       " False    27848590\n",
       " True      3144074\n",
       " Name: weekend_customer, dtype: int64)"
      ]
     },
     "execution_count": 17,
     "metadata": {},
     "output_type": "execute_result"
    }
   ],
   "source": [
    "#create flag for weekend customers spending > 65% on the weekend\n",
    "#initialize new column\n",
    "df_['weekend_customer'] = 'False'\n",
    "\n",
    "#identify weekend focused customers\n",
    "df_.loc[df_['weekend_ratio']>0.65, 'weekend_customer'] = 'True'\n",
    "\n",
    "df_['weekend_customer'].head(12), df_['weekend_customer'].value_counts()"
   ]
  },
  {
   "cell_type": "markdown",
   "id": "c543fee1-ea19-40b0-8f94-0ee96c40974e",
   "metadata": {},
   "source": [
    "# feature binning\n",
    "Age"
   ]
  },
  {
   "cell_type": "code",
   "execution_count": 18,
   "id": "168e0def-ebf5-443c-b398-1397ba39fe7f",
   "metadata": {},
   "outputs": [
    {
     "data": {
      "text/plain": [
       "young      8746779\n",
       "adult      8258069\n",
       "midlife    8170060\n",
       "elder      5817756\n",
       "Name: age_group, dtype: int64"
      ]
     },
     "execution_count": 18,
     "metadata": {},
     "output_type": "execute_result"
    }
   ],
   "source": [
    "#Age profile\n",
    "\n",
    "# Create a new column with age groups\n",
    "df_['age_group'] = pd.cut(df_['Age'], bins=[17, 35, 52, 69, 86], \n",
    "                         labels=['young', 'adult', 'midlife', 'elder'],\n",
    "                         )\n",
    "# check the DataFrame \n",
    "df_['age_group'].value_counts()"
   ]
  },
  {
   "cell_type": "markdown",
   "id": "96948877-8ddd-429b-94a1-1d7bd8842ecb",
   "metadata": {},
   "source": [
    "# feature binning \n",
    "Income"
   ]
  },
  {
   "cell_type": "code",
   "execution_count": 19,
   "id": "edd553dc-7490-4691-bda2-9f3092aee993",
   "metadata": {},
   "outputs": [
    {
     "data": {
      "image/png": "[encoded data removed]",
      "text/plain": [
       "<Figure size 640x480 with 1 Axes>"
      ]
     },
     "metadata": {},
     "output_type": "display_data"
    }
   ],
   "source": [
    "#Income Profile\n",
    "\n",
    "#explore income distribution, histogram\n",
    "hist = sns.histplot(df_['Income'].value_counts(), bins=1000)"
   ]
  },
  {
   "cell_type": "code",
   "execution_count": 20,
   "id": "05dc533d-49ce-4b69-8e2e-936c6b339a03",
   "metadata": {},
   "outputs": [],
   "source": [
    "#save income histogram\n",
    "\n",
    "#hist.figure.savefig(os.path.join(path, '04 Analysis', 'Visualizations', 'Income_Histogram.png'))"
   ]
  },
  {
   "cell_type": "code",
   "execution_count": 21,
   "id": "0722714e-4b41-4e34-a967-4ee8df8947ef",
   "metadata": {},
   "outputs": [
    {
     "data": {
      "text/plain": [
       "min      25903.000000\n",
       "max     593901.000000\n",
       "mean     99673.220008\n",
       "std      43139.283114\n",
       "Name: Income, dtype: float64"
      ]
     },
     "execution_count": 21,
     "metadata": {},
     "output_type": "execute_result"
    }
   ],
   "source": [
    "#check income min max mean\n",
    "df_['Income'].agg(['min', 'max', 'mean', 'std'])"
   ]
  },
  {
   "cell_type": "code",
   "execution_count": 22,
   "id": "5fa30160-48f1-489a-907f-ea9181d41446",
   "metadata": {},
   "outputs": [
    {
     "name": "stdout",
     "output_type": "stream",
     "text": [
      "Average Income:  56530 to  142810\n",
      "Below Average Income: Below  56530\n",
      "Above Average Income: Above  142810\n"
     ]
    }
   ],
   "source": [
    "#Income columns: Average-one std below to one std above mean \n",
    "                #Above average-above 1 std above the mean\n",
    "                #Below average-below 1 std below the mean\n",
    "\n",
    "#get mean and std\n",
    "mean_inc = df_['Income'].agg('mean')\n",
    "std_inc = df_['Income'].agg('std')\n",
    "\n",
    "#create lower and upper bounds of the income brackets\n",
    "lower_bound = mean_inc - std_inc\n",
    "upper_bound = mean_inc + std_inc\n",
    "\n",
    "#define brackets\n",
    "above_average = (round(lower_bound, -1), round(upper_bound, -1))\n",
    "below_average = (0, round(lower_bound, -1))\n",
    "above_average = (round(upper_bound, -1), 1000000) \n",
    "\n",
    "#print results\n",
    "print(f'Average Income: {round(lower_bound, -1): .0f} to {round(upper_bound, -1): .0f}\\n'\n",
    "      f'Below Average Income: Below {round(lower_bound, -1): .0f}\\n'\n",
    "      f'Above Average Income: Above {round(upper_bound, -1): .0f}')\n"
   ]
  },
  {
   "cell_type": "code",
   "execution_count": null,
   "id": "ed370d20-0c2e-4b13-a4f1-4e23962692c4",
   "metadata": {},
   "outputs": [],
   "source": []
  },
  {
   "cell_type": "code",
   "execution_count": null,
   "id": "4d179a89-3df6-418d-a23e-547ee98a5ffc",
   "metadata": {},
   "outputs": [],
   "source": []
  },
  {
   "cell_type": "code",
   "execution_count": 23,
   "id": "3d9164cd-9103-4a2d-b081-5ff785a4eada",
   "metadata": {},
   "outputs": [
    {
     "data": {
      "text/plain": [
       "average          20939684\n",
       "above_average     5180532\n",
       "below_average     4872448\n",
       "Name: income_brackets, dtype: int64"
      ]
     },
     "execution_count": 23,
     "metadata": {},
     "output_type": "execute_result"
    }
   ],
   "source": [
    "#make an income bracket column using pd.cut()\n",
    "df_['income_brackets'] = pd.cut(df_['Income'], \n",
    "                                bins=[0, lower_bound, upper_bound, 1000000], \n",
    "                                labels=['below_average', 'average', 'above_average']\n",
    "                               )\n",
    "#check\n",
    "df_['income_brackets'].value_counts()"
   ]
  },
  {
   "cell_type": "code",
   "execution_count": null,
   "id": "81fff9a4-b478-4e37-8065-0a670a53328f",
   "metadata": {},
   "outputs": [],
   "source": []
  },
  {
   "cell_type": "markdown",
   "id": "3d762726-36c2-4e4d-9136-981c2fca11ce",
   "metadata": {},
   "source": [
    "# feature engineering\n",
    "Department profiles"
   ]
  },
  {
   "cell_type": "code",
   "execution_count": 24,
   "id": "48fb8e2a-7127-4300-b067-4dc1957fcad1",
   "metadata": {},
   "outputs": [
    {
     "data": {
      "text/plain": [
       "department_id\n",
       "1     1.643176e+07\n",
       "2     2.395708e+05\n",
       "3     8.852088e+06\n",
       "4     7.245336e+07\n",
       "5     1.179298e+06\n",
       "6     1.965755e+06\n",
       "7     1.975880e+07\n",
       "8     7.340897e+05\n",
       "9     6.042226e+06\n",
       "10    2.792094e+05\n",
       "11    3.394754e+06\n",
       "12    1.099859e+07\n",
       "13    1.428991e+07\n",
       "14    5.471075e+06\n",
       "15    7.637855e+06\n",
       "16    4.332733e+07\n",
       "17    5.164902e+06\n",
       "18    3.133079e+06\n",
       "19    1.182802e+07\n",
       "20    7.812815e+06\n",
       "21    5.609018e+05\n",
       "Name: total_revenue, dtype: float64"
      ]
     },
     "execution_count": 24,
     "metadata": {},
     "output_type": "execute_result"
    }
   ],
   "source": [
    "#Department Id profile\n",
    "\n",
    "#change data type to avoid errors\n",
    "df_['prices'] = df_['prices'].astype('float64')\n",
    "#explore \n",
    "dept = df_.groupby('department_id')['prices'].sum().dropna()\n",
    "dept.name = 'total_revenue'\n",
    "dept.head(22)"
   ]
  },
  {
   "cell_type": "code",
   "execution_count": 25,
   "id": "d69eb099-0577-4b37-9e34-85a590116b13",
   "metadata": {},
   "outputs": [
    {
     "name": "stdout",
     "output_type": "stream",
     "text": [
      "product_name\n",
      "Banana                      5.572501e+06\n",
      "Bag of Organic Bananas      3.772806e+06\n",
      "Large Lemon                 2.035558e+06\n",
      "Limes                       1.981261e+06\n",
      "Organic Baby Spinach        1.901255e+06\n",
      "Organic Strawberries        1.868912e+06\n",
      "Organic Whole Milk          1.708562e+06\n",
      "Cucumber Kirby              1.222768e+06\n",
      "Apple Honeycrisp Organic    1.161250e+06\n",
      "Organic Cucumber            1.107994e+06\n",
      "Organic Avocado             1.060214e+06\n",
      "Asparagus                   9.171159e+05\n",
      "Organic Baby Carrots        8.703380e+05\n",
      "Michigan Organic Kale       8.631005e+05\n",
      "Organic Hass Avocado        8.271960e+05\n",
      "Organic Tomato Cluster      8.171678e+05\n",
      "Organic Zucchini            7.950883e+05\n",
      "Organic Blueberries         7.934882e+05\n",
      "Half & Half                 7.644818e+05\n",
      "Carrots                     7.477096e+05\n",
      "Name: product_revenue, dtype: float64\n"
     ]
    }
   ],
   "source": [
    "#product name profile\n",
    "\n",
    "#explore\n",
    "prod = df_.groupby('product_name')['prices'].sum()\n",
    "prod.name = 'product_revenue'\n",
    "prod.describe(), prod.head()\n",
    "prod_s = prod.sort_values(ascending=False)\n",
    "print(prod_s.head(20))"
   ]
  },
  {
   "cell_type": "code",
   "execution_count": 26,
   "id": "8bec7402-69b7-4a29-82d9-6bb716b1ceae",
   "metadata": {},
   "outputs": [
    {
     "data": {
      "text/plain": [
       "Text(0.5, 1.0, 'Top 25 Products by Revenue')"
      ]
     },
     "execution_count": 26,
     "metadata": {},
     "output_type": "execute_result"
    },
    {
     "data": {
      "image/png": "[encoded data removed]",
      "text/plain": [
       "<Figure size 640x480 with 1 Axes>"
      ]
     },
     "metadata": {},
     "output_type": "display_data"
    }
   ],
   "source": [
    "#bar plot of top 25 products\n",
    "\n",
    "top_25 = prod_s.head(25)\n",
    "bar = sns.barplot(x=top_25.index, y=top_25.values)\n",
    "bar.set_xticklabels(bar.get_xticklabels(), rotation=90, ha=\"center\")\n",
    "plt.title('Top 25 Products by Revenue')\n",
    "\n"
   ]
  },
  {
   "cell_type": "code",
   "execution_count": 27,
   "id": "aa2b83f6-3bd0-44ed-9671-e8aeaa17aa56",
   "metadata": {},
   "outputs": [],
   "source": [
    "#save chart\n",
    "#bar.figure.savefig(os.path.join(path, '04 Analysis', 'Top_25_Products.png'))"
   ]
  },
  {
   "cell_type": "code",
   "execution_count": 28,
   "id": "d4a68159-0493-4c16-a1cb-741b8cb4eeab",
   "metadata": {},
   "outputs": [
    {
     "data": {
      "text/plain": [
       "(49630,\n",
       " count     30965692\n",
       " unique       49630\n",
       " top         Banana\n",
       " freq        453164\n",
       " Name: product_name, dtype: object)"
      ]
     },
     "execution_count": 28,
     "metadata": {},
     "output_type": "execute_result"
    }
   ],
   "source": [
    "df_['product_name'].nunique(), df_['product_name'].describe()"
   ]
  },
  {
   "cell_type": "markdown",
   "id": "d3a856a5-8ee9-4259-84db-316fe203e654",
   "metadata": {},
   "source": [
    "49,630 unique products\n",
    "\n",
    "top 1%: 496\n",
    "top 10%: 4,963"
   ]
  },
  {
   "cell_type": "code",
   "execution_count": 29,
   "id": "c5dfdd71-ff66-426e-a5b8-c5acb485d010",
   "metadata": {},
   "outputs": [
    {
     "data": {
      "text/plain": [
       "49630"
      ]
     },
     "execution_count": 29,
     "metadata": {},
     "output_type": "execute_result"
    }
   ],
   "source": [
    "len(prod_s)"
   ]
  },
  {
   "cell_type": "code",
   "execution_count": 30,
   "id": "a5c35909-7abe-4ef9-a904-83e9a4b78d7e",
   "metadata": {},
   "outputs": [
    {
     "data": {
      "text/plain": [
       "['order_id',\n",
       " 'customer_id',\n",
       " 'customer_order_number',\n",
       " 'orders_day_of_week',\n",
       " 'order_hour_of_day',\n",
       " 'days_between_last_order',\n",
       " 'first_order',\n",
       " 'product_id',\n",
       " 'add_to_cart_order',\n",
       " 'reordered',\n",
       " 'product_name',\n",
       " 'aisle_id',\n",
       " 'department_id',\n",
       " 'prices',\n",
       " '_merge',\n",
       " 'price_range_loc',\n",
       " 'Busiest Days',\n",
       " 'busiest_hours_of_day',\n",
       " 'max_orders',\n",
       " 'loyalty_flag',\n",
       " 'avg_cust_spend',\n",
       " 'Customer_Spend',\n",
       " 'median_order_frequency',\n",
       " 'Order_Frequency',\n",
       " 'Gender',\n",
       " 'State',\n",
       " 'Age',\n",
       " 'date_joined',\n",
       " 'Dependents',\n",
       " 'Marital_Status',\n",
       " 'Income',\n",
       " 'Region',\n",
       " 'weekend_ratio',\n",
       " 'weekend_customer',\n",
       " 'age_group',\n",
       " 'income_brackets',\n",
       " 'top_one_percent',\n",
       " 'top_ten_percent']"
      ]
     },
     "execution_count": 30,
     "metadata": {},
     "output_type": "execute_result"
    }
   ],
   "source": [
    "#create lists of top 1% and top10% of products\n",
    "\n",
    "top_percent = prod_s.head(496)\n",
    "top_ten_percent = prod_s.head(4963)\n",
    "\n",
    "#create columns for flag top_1_percent, top_10_percent\n",
    "\n",
    "df_['top_one_percent'] = df_['product_name'].isin(top_percent.index)\n",
    "df_['top_ten_percent'] = df_['product_name'].isin(top_ten_percent.index)\n",
    "\n",
    "#check\n",
    "df_.columns.tolist()"
   ]
  },
  {
   "cell_type": "code",
   "execution_count": 31,
   "id": "f8813dca-2021-478c-ac16-b8d3a2d0f54e",
   "metadata": {},
   "outputs": [
    {
     "data": {
      "text/plain": [
       "False    18710875\n",
       "True     12281789\n",
       "Name: top_one_percent, dtype: int64"
      ]
     },
     "execution_count": 31,
     "metadata": {},
     "output_type": "execute_result"
    }
   ],
   "source": [
    "#check\n",
    "df_['top_one_percent'].value_counts()"
   ]
  },
  {
   "cell_type": "code",
   "execution_count": 32,
   "id": "85a5aa04-5c5c-4d08-8f1b-364c6f62debe",
   "metadata": {},
   "outputs": [
    {
     "data": {
      "text/plain": [
       "True     24436093\n",
       "False     6556571\n",
       "Name: top_ten_percent, dtype: int64"
      ]
     },
     "execution_count": 32,
     "metadata": {},
     "output_type": "execute_result"
    }
   ],
   "source": [
    "#check\n",
    "df_['top_ten_percent'].value_counts()"
   ]
  },
  {
   "cell_type": "code",
   "execution_count": 33,
   "id": "eaa627a0-601e-4ed6-b16e-144998020f3e",
   "metadata": {},
   "outputs": [
    {
     "data": {
      "text/plain": [
       "top_one_percent\n",
       "False    1.276324e+08\n",
       "True     1.139230e+08\n",
       "Name: prices, dtype: float64"
      ]
     },
     "execution_count": 33,
     "metadata": {},
     "output_type": "execute_result"
    }
   ],
   "source": [
    "#find revenue from top 1% of products\n",
    "\n",
    "top_one_percent_rev = df_.groupby('top_one_percent')['prices'].sum()\n",
    "top_one_percent_rev"
   ]
  },
  {
   "cell_type": "markdown",
   "id": "cc6a9cc1-3997-4b32-a691-3e1c4e1ea63a",
   "metadata": {
    "jp-MarkdownHeadingCollapsed": true
   },
   "source": [
    "Nearly half of revenue is generated by the top 1% of products"
   ]
  },
  {
   "cell_type": "code",
   "execution_count": 34,
   "id": "466ddd5d-187b-4edc-a290-f4e43db497f6",
   "metadata": {},
   "outputs": [
    {
     "data": {
      "text/plain": [
       "top_ten_percent\n",
       "False    3.915485e+07\n",
       "True     2.024005e+08\n",
       "Name: prices, dtype: float64"
      ]
     },
     "execution_count": 34,
     "metadata": {},
     "output_type": "execute_result"
    }
   ],
   "source": [
    "#find revenue for top 10% of products\n",
    "\n",
    "top_ten_percent_rev = df_.groupby('top_ten_percent')['prices'].sum()\n",
    "top_ten_percent_rev"
   ]
  },
  {
   "cell_type": "code",
   "execution_count": 35,
   "id": "fa7e1cff-8cb3-4653-b3b2-b45b987b6adc",
   "metadata": {},
   "outputs": [
    {
     "name": "stdout",
     "output_type": "stream",
     "text": [
      "top 1% of products generate:  47.16% of total revenue.\n",
      "top 10% of products generate:  83.79% of total revenue.\n",
      "\n"
     ]
    }
   ],
   "source": [
    "# find exact ratio for top 1% and top 10% of sales\n",
    "one_percent_ratio = top_one_percent_rev[True] / (top_one_percent_rev[True]+top_one_percent_rev[False])\n",
    "ten_percent_ratio = top_ten_percent_rev[True] / (top_ten_percent_rev[True]+top_ten_percent_rev[False])\n",
    "\n",
    "#print results\n",
    "print(f'top 1% of products generate: {one_percent_ratio * 100: 0.2f}% of total revenue.\\n'\n",
    "      f'top 10% of products generate: {ten_percent_ratio * 100: 0.2f}% of total revenue.\\n')"
   ]
  },
  {
   "cell_type": "markdown",
   "id": "67658246-a622-47c3-b392-aaf6651f3383",
   "metadata": {},
   "source": [
    "# Feature Engineering\n",
    "Dependents profile"
   ]
  },
  {
   "cell_type": "code",
   "execution_count": 36,
   "id": "ee8eca5d-0d6c-4c1a-91fa-717e332d7368",
   "metadata": {},
   "outputs": [
    {
     "data": {
      "text/html": [
       "<div>\n",
       "<style scoped>\n",
       "    .dataframe tbody tr th:only-of-type {\n",
       "        vertical-align: middle;\n",
       "    }\n",
       "\n",
       "    .dataframe tbody tr th {\n",
       "        vertical-align: top;\n",
       "    }\n",
       "\n",
       "    .dataframe thead th {\n",
       "        text-align: right;\n",
       "    }\n",
       "</style>\n",
       "<table border=\"1\" class=\"dataframe\">\n",
       "  <thead>\n",
       "    <tr style=\"text-align: right;\">\n",
       "      <th></th>\n",
       "      <th>sum</th>\n",
       "      <th>mean</th>\n",
       "      <th>min</th>\n",
       "      <th>max</th>\n",
       "    </tr>\n",
       "    <tr>\n",
       "      <th>Dependents</th>\n",
       "      <th></th>\n",
       "      <th></th>\n",
       "      <th></th>\n",
       "      <th></th>\n",
       "    </tr>\n",
       "  </thead>\n",
       "  <tbody>\n",
       "    <tr>\n",
       "      <th>0</th>\n",
       "      <td>6.037387e+07</td>\n",
       "      <td>7.794341</td>\n",
       "      <td>1.0</td>\n",
       "      <td>25.0</td>\n",
       "    </tr>\n",
       "    <tr>\n",
       "      <th>1</th>\n",
       "      <td>6.025676e+07</td>\n",
       "      <td>7.800409</td>\n",
       "      <td>1.0</td>\n",
       "      <td>25.0</td>\n",
       "    </tr>\n",
       "    <tr>\n",
       "      <th>2</th>\n",
       "      <td>6.027493e+07</td>\n",
       "      <td>7.788604</td>\n",
       "      <td>1.0</td>\n",
       "      <td>25.0</td>\n",
       "    </tr>\n",
       "    <tr>\n",
       "      <th>3</th>\n",
       "      <td>6.064983e+07</td>\n",
       "      <td>7.797367</td>\n",
       "      <td>1.0</td>\n",
       "      <td>25.0</td>\n",
       "    </tr>\n",
       "  </tbody>\n",
       "</table>\n",
       "</div>"
      ],
      "text/plain": [
       "                     sum      mean  min   max\n",
       "Dependents                                   \n",
       "0           6.037387e+07  7.794341  1.0  25.0\n",
       "1           6.025676e+07  7.800409  1.0  25.0\n",
       "2           6.027493e+07  7.788604  1.0  25.0\n",
       "3           6.064983e+07  7.797367  1.0  25.0"
      ]
     },
     "execution_count": 36,
     "metadata": {},
     "output_type": "execute_result"
    }
   ],
   "source": [
    "#dependent profile\n",
    "\n",
    "#explore dependent data\n",
    "\n",
    "df_.groupby('Dependents')['prices'].agg(['sum', 'mean', 'min', 'max'])"
   ]
  },
  {
   "cell_type": "markdown",
   "id": "ae276f78-70f8-4f7a-8cce-0e30388ce750",
   "metadata": {},
   "source": [
    "the sum of prices (the total revenue per # of dependents) and the mean (avg product price) are extremely similar between dependent groups, indicating similar total spending between customers regardless of number of dependents. "
   ]
  },
  {
   "cell_type": "code",
   "execution_count": 37,
   "id": "ec61affc-6ceb-4e56-b749-84f58e34601d",
   "metadata": {},
   "outputs": [
    {
     "data": {
      "text/html": [
       "<div>\n",
       "<style scoped>\n",
       "    .dataframe tbody tr th:only-of-type {\n",
       "        vertical-align: middle;\n",
       "    }\n",
       "\n",
       "    .dataframe tbody tr th {\n",
       "        vertical-align: top;\n",
       "    }\n",
       "\n",
       "    .dataframe thead th {\n",
       "        text-align: right;\n",
       "    }\n",
       "</style>\n",
       "<table border=\"1\" class=\"dataframe\">\n",
       "  <thead>\n",
       "    <tr style=\"text-align: right;\">\n",
       "      <th></th>\n",
       "      <th>mean</th>\n",
       "      <th>min</th>\n",
       "      <th>max</th>\n",
       "    </tr>\n",
       "    <tr>\n",
       "      <th>Dependents</th>\n",
       "      <th></th>\n",
       "      <th></th>\n",
       "      <th></th>\n",
       "    </tr>\n",
       "  </thead>\n",
       "  <tbody>\n",
       "    <tr>\n",
       "      <th>0</th>\n",
       "      <td>49.507118</td>\n",
       "      <td>18</td>\n",
       "      <td>81</td>\n",
       "    </tr>\n",
       "    <tr>\n",
       "      <th>1</th>\n",
       "      <td>49.345811</td>\n",
       "      <td>18</td>\n",
       "      <td>81</td>\n",
       "    </tr>\n",
       "    <tr>\n",
       "      <th>2</th>\n",
       "      <td>49.578665</td>\n",
       "      <td>18</td>\n",
       "      <td>81</td>\n",
       "    </tr>\n",
       "    <tr>\n",
       "      <th>3</th>\n",
       "      <td>49.440023</td>\n",
       "      <td>18</td>\n",
       "      <td>81</td>\n",
       "    </tr>\n",
       "  </tbody>\n",
       "</table>\n",
       "</div>"
      ],
      "text/plain": [
       "                 mean  min  max\n",
       "Dependents                     \n",
       "0           49.507118   18   81\n",
       "1           49.345811   18   81\n",
       "2           49.578665   18   81\n",
       "3           49.440023   18   81"
      ]
     },
     "execution_count": 37,
     "metadata": {},
     "output_type": "execute_result"
    }
   ],
   "source": [
    "df_.groupby('Dependents')['Age'].agg(['mean', 'min', 'max'])"
   ]
  },
  {
   "cell_type": "code",
   "execution_count": 38,
   "id": "0a9b9f10-351c-4621-8420-800e4e7f1834",
   "metadata": {},
   "outputs": [
    {
     "data": {
      "text/plain": [
       "Yes    23245632\n",
       "No      7747032\n",
       "Name: Children, dtype: int64"
      ]
     },
     "execution_count": 38,
     "metadata": {},
     "output_type": "execute_result"
    }
   ],
   "source": [
    "#create flag for childless\n",
    "\n",
    "#init flag\n",
    "df_['Children'] = 'Yes'\n",
    "#change 0 dependents\n",
    "df_.loc[df_['Dependents']==0, 'Children'] = 'No'\n",
    "\n",
    "#check\n",
    "df_['Children'].value_counts()"
   ]
  },
  {
   "cell_type": "code",
   "execution_count": 39,
   "id": "1008bf89-cc03-438d-911d-0a7b91545133",
   "metadata": {},
   "outputs": [
    {
     "data": {
      "text/plain": [
       "Children\n",
       "No     6.037387e+07\n",
       "Yes    1.811815e+08\n",
       "Name: children_revenue, dtype: float64"
      ]
     },
     "execution_count": 39,
     "metadata": {},
     "output_type": "execute_result"
    }
   ],
   "source": [
    "#compare rev between yes and no flags\n",
    "children_rev = df_.groupby('Children')['prices'].sum()\n",
    "children_rev.name = 'children_revenue'\n",
    "children_rev"
   ]
  },
  {
   "cell_type": "code",
   "execution_count": null,
   "id": "929d8a2c-ade3-4210-9f3d-3da3a552462b",
   "metadata": {},
   "outputs": [],
   "source": []
  },
  {
   "cell_type": "markdown",
   "id": "614cd765-16d3-40f4-adf5-4e2c1d850b3f",
   "metadata": {},
   "source": [
    "# feature engineering\n",
    "Time of Day profiles"
   ]
  },
  {
   "cell_type": "code",
   "execution_count": 40,
   "id": "1843af4a-f9fc-46db-bbd5-11c7897d0f33",
   "metadata": {},
   "outputs": [
    {
     "data": {
      "text/plain": [
       "(count    2.400000e+01\n",
       " mean     1.006481e+07\n",
       " std      8.025218e+06\n",
       " min      3.824421e+05\n",
       " 25%      2.057297e+06\n",
       " 50%      8.294226e+06\n",
       " 75%      1.900921e+07\n",
       " max      2.056004e+07\n",
       " Name: prices, dtype: float64,\n",
       " order_hour_of_day\n",
       " 0    1.627101e+06\n",
       " 1    8.567196e+05\n",
       " 2    5.131441e+05\n",
       " 3    3.824421e+05\n",
       " 4    3.985014e+05\n",
       " 5    6.621788e+05\n",
       " 6    2.200695e+06\n",
       " 7    6.761609e+06\n",
       " 8    1.294514e+07\n",
       " 9    1.835060e+07\n",
       " Name: prices, dtype: float64,\n",
       " (24,))"
      ]
     },
     "execution_count": 40,
     "metadata": {},
     "output_type": "execute_result"
    }
   ],
   "source": [
    "#Time of day profile\n",
    "\n",
    "#explore time of day\n",
    "df_['order_hour_of_day'].value_counts()\n",
    "\n",
    "#create efficient df\n",
    "hour_bar = df_.groupby('order_hour_of_day')['prices'].sum()\n",
    "#sample\n",
    "#hour_bar_s = hour_bar.sample(frac=0.3, random_state=4)\n",
    "hour_bar.describe(), hour_bar.head(10), hour_bar.shape"
   ]
  },
  {
   "cell_type": "code",
   "execution_count": 41,
   "id": "9f3fa8e4-01dc-45c2-a6fe-c46b03e1e604",
   "metadata": {},
   "outputs": [
    {
     "data": {
      "image/png": "[encoded data removed]",
      "text/plain": [
       "<Figure size 640x480 with 1 Axes>"
      ]
     },
     "metadata": {},
     "output_type": "display_data"
    }
   ],
   "source": [
    "#bar plot\n",
    "bar2 = sns.barplot(x=hour_bar.index, y=hour_bar.values)\n"
   ]
  },
  {
   "cell_type": "code",
   "execution_count": 42,
   "id": "cbdc0866-6a7e-445c-b8a1-2647665894f7",
   "metadata": {},
   "outputs": [],
   "source": [
    "#save daily revenue chart\n",
    "\n",
    "#bar2.figure.savefig(os.path.join(path, '04 Analysis', 'Visualizations', 'Hourly_Revenue.png'))"
   ]
  },
  {
   "cell_type": "code",
   "execution_count": 43,
   "id": "f7c1c1db-18a9-47d4-a2ad-b846cf538745",
   "metadata": {},
   "outputs": [],
   "source": [
    "#looks like the majority of revenue happens from 9a-5p. \n",
    "#create a flag to identify >65% activity outside normal hours: Nightowls\n",
    "\n",
    "#Create flag for nighttime orders\n",
    "df_['Nightowl_Orders'] = pd.cut(df_['order_hour_of_day'], \n",
    "                                  bins=[0, 8, 16, 25],\n",
    "                                  labels=['Nighttime', 'Daytime', 'Nighttime'], \n",
    "                                ordered=False)"
   ]
  },
  {
   "cell_type": "code",
   "execution_count": 44,
   "id": "f3fcbeb5-a632-4d0a-8a82-c5013f4f2329",
   "metadata": {},
   "outputs": [
    {
     "data": {
      "text/plain": [
       "Daytime      20199259\n",
       "Nighttime    10585197\n",
       "Name: Nightowl_Orders, dtype: int64"
      ]
     },
     "execution_count": 44,
     "metadata": {},
     "output_type": "execute_result"
    }
   ],
   "source": [
    "#check\n",
    "df_['Nightowl_Orders'].value_counts()\n"
   ]
  },
  {
   "cell_type": "code",
   "execution_count": 45,
   "id": "87e28f05-a2b6-40b5-a8b1-99ed5a4a8560",
   "metadata": {},
   "outputs": [
    {
     "data": {
      "text/plain": [
       "customer_id  Nightowl_Orders\n",
       "1            Daytime             194.591797\n",
       "             Nighttime           181.092773\n",
       "2            Daytime            1465.566406\n",
       "             Nighttime             0.000000\n",
       "3            Daytime             406.188477\n",
       "Name: prices, dtype: float64"
      ]
     },
     "execution_count": 45,
     "metadata": {},
     "output_type": "execute_result"
    }
   ],
   "source": [
    "#create ratio of nighttime to daytime orders for each customer\n",
    "\n",
    "#group by customer_id and Nightowl_Orders\n",
    "night_cust = df_.groupby(['customer_id', 'Nightowl_Orders'])['prices'].sum()\n",
    "night_cust.head()"
   ]
  },
  {
   "cell_type": "code",
   "execution_count": 46,
   "id": "7a005ff0-6791-4e43-839c-99f5775a2696",
   "metadata": {},
   "outputs": [
    {
     "data": {
      "text/html": [
       "<div>\n",
       "<style scoped>\n",
       "    .dataframe tbody tr th:only-of-type {\n",
       "        vertical-align: middle;\n",
       "    }\n",
       "\n",
       "    .dataframe tbody tr th {\n",
       "        vertical-align: top;\n",
       "    }\n",
       "\n",
       "    .dataframe thead th {\n",
       "        text-align: right;\n",
       "    }\n",
       "</style>\n",
       "<table border=\"1\" class=\"dataframe\">\n",
       "  <thead>\n",
       "    <tr style=\"text-align: right;\">\n",
       "      <th>Nightowl_Orders</th>\n",
       "      <th>Daytime</th>\n",
       "      <th>Nighttime</th>\n",
       "    </tr>\n",
       "    <tr>\n",
       "      <th>customer_id</th>\n",
       "      <th></th>\n",
       "      <th></th>\n",
       "    </tr>\n",
       "  </thead>\n",
       "  <tbody>\n",
       "    <tr>\n",
       "      <th>1</th>\n",
       "      <td>194.591797</td>\n",
       "      <td>181.092773</td>\n",
       "    </tr>\n",
       "    <tr>\n",
       "      <th>2</th>\n",
       "      <td>1465.566406</td>\n",
       "      <td>0.000000</td>\n",
       "    </tr>\n",
       "    <tr>\n",
       "      <th>3</th>\n",
       "      <td>406.188477</td>\n",
       "      <td>315.197266</td>\n",
       "    </tr>\n",
       "    <tr>\n",
       "      <th>4</th>\n",
       "      <td>147.695312</td>\n",
       "      <td>0.000000</td>\n",
       "    </tr>\n",
       "    <tr>\n",
       "      <th>7</th>\n",
       "      <td>1021.857422</td>\n",
       "      <td>516.267578</td>\n",
       "    </tr>\n",
       "    <tr>\n",
       "      <th>10</th>\n",
       "      <td>728.268555</td>\n",
       "      <td>508.779297</td>\n",
       "    </tr>\n",
       "    <tr>\n",
       "      <th>11</th>\n",
       "      <td>782.881836</td>\n",
       "      <td>0.000000</td>\n",
       "    </tr>\n",
       "    <tr>\n",
       "      <th>12</th>\n",
       "      <td>503.575195</td>\n",
       "      <td>97.000000</td>\n",
       "    </tr>\n",
       "    <tr>\n",
       "      <th>13</th>\n",
       "      <td>313.991211</td>\n",
       "      <td>391.392578</td>\n",
       "    </tr>\n",
       "    <tr>\n",
       "      <th>14</th>\n",
       "      <td>581.481445</td>\n",
       "      <td>1101.452148</td>\n",
       "    </tr>\n",
       "  </tbody>\n",
       "</table>\n",
       "</div>"
      ],
      "text/plain": [
       "Nightowl_Orders      Daytime    Nighttime\n",
       "customer_id                              \n",
       "1                 194.591797   181.092773\n",
       "2                1465.566406     0.000000\n",
       "3                 406.188477   315.197266\n",
       "4                 147.695312     0.000000\n",
       "7                1021.857422   516.267578\n",
       "10                728.268555   508.779297\n",
       "11                782.881836     0.000000\n",
       "12                503.575195    97.000000\n",
       "13                313.991211   391.392578\n",
       "14                581.481445  1101.452148"
      ]
     },
     "execution_count": 46,
     "metadata": {},
     "output_type": "execute_result"
    }
   ],
   "source": [
    "#pivot night_cust df\n",
    "night_cust_ = night_cust.unstack(level='Nightowl_Orders')\n",
    "night_cust_.head(10)"
   ]
  },
  {
   "cell_type": "code",
   "execution_count": 47,
   "id": "54a41e85-0f65-43cb-9d9f-fb528e233ad6",
   "metadata": {},
   "outputs": [
    {
     "data": {
      "text/html": [
       "<div>\n",
       "<style scoped>\n",
       "    .dataframe tbody tr th:only-of-type {\n",
       "        vertical-align: middle;\n",
       "    }\n",
       "\n",
       "    .dataframe tbody tr th {\n",
       "        vertical-align: top;\n",
       "    }\n",
       "\n",
       "    .dataframe thead th {\n",
       "        text-align: right;\n",
       "    }\n",
       "</style>\n",
       "<table border=\"1\" class=\"dataframe\">\n",
       "  <thead>\n",
       "    <tr style=\"text-align: right;\">\n",
       "      <th>Nightowl_Orders</th>\n",
       "      <th>Daytime</th>\n",
       "      <th>Nighttime</th>\n",
       "      <th>Nightowl_Ratio</th>\n",
       "    </tr>\n",
       "    <tr>\n",
       "      <th>customer_id</th>\n",
       "      <th></th>\n",
       "      <th></th>\n",
       "      <th></th>\n",
       "    </tr>\n",
       "  </thead>\n",
       "  <tbody>\n",
       "    <tr>\n",
       "      <th>1</th>\n",
       "      <td>194.591797</td>\n",
       "      <td>181.092773</td>\n",
       "      <td>0.482034</td>\n",
       "    </tr>\n",
       "    <tr>\n",
       "      <th>2</th>\n",
       "      <td>1465.566406</td>\n",
       "      <td>0.000000</td>\n",
       "      <td>0.000000</td>\n",
       "    </tr>\n",
       "    <tr>\n",
       "      <th>3</th>\n",
       "      <td>406.188477</td>\n",
       "      <td>315.197266</td>\n",
       "      <td>0.436933</td>\n",
       "    </tr>\n",
       "    <tr>\n",
       "      <th>4</th>\n",
       "      <td>147.695312</td>\n",
       "      <td>0.000000</td>\n",
       "      <td>0.000000</td>\n",
       "    </tr>\n",
       "    <tr>\n",
       "      <th>7</th>\n",
       "      <td>1021.857422</td>\n",
       "      <td>516.267578</td>\n",
       "      <td>0.335647</td>\n",
       "    </tr>\n",
       "    <tr>\n",
       "      <th>10</th>\n",
       "      <td>728.268555</td>\n",
       "      <td>508.779297</td>\n",
       "      <td>0.411285</td>\n",
       "    </tr>\n",
       "    <tr>\n",
       "      <th>11</th>\n",
       "      <td>782.881836</td>\n",
       "      <td>0.000000</td>\n",
       "      <td>0.000000</td>\n",
       "    </tr>\n",
       "    <tr>\n",
       "      <th>12</th>\n",
       "      <td>503.575195</td>\n",
       "      <td>97.000000</td>\n",
       "      <td>0.161512</td>\n",
       "    </tr>\n",
       "    <tr>\n",
       "      <th>13</th>\n",
       "      <td>313.991211</td>\n",
       "      <td>391.392578</td>\n",
       "      <td>0.554865</td>\n",
       "    </tr>\n",
       "    <tr>\n",
       "      <th>14</th>\n",
       "      <td>581.481445</td>\n",
       "      <td>1101.452148</td>\n",
       "      <td>0.654483</td>\n",
       "    </tr>\n",
       "  </tbody>\n",
       "</table>\n",
       "</div>"
      ],
      "text/plain": [
       "Nightowl_Orders      Daytime    Nighttime  Nightowl_Ratio\n",
       "customer_id                                              \n",
       "1                 194.591797   181.092773        0.482034\n",
       "2                1465.566406     0.000000        0.000000\n",
       "3                 406.188477   315.197266        0.436933\n",
       "4                 147.695312     0.000000        0.000000\n",
       "7                1021.857422   516.267578        0.335647\n",
       "10                728.268555   508.779297        0.411285\n",
       "11                782.881836     0.000000        0.000000\n",
       "12                503.575195    97.000000        0.161512\n",
       "13                313.991211   391.392578        0.554865\n",
       "14                581.481445  1101.452148        0.654483"
      ]
     },
     "execution_count": 47,
     "metadata": {},
     "output_type": "execute_result"
    }
   ],
   "source": [
    "#find ratio for each customer_id\n",
    "\n",
    "night_cust_['Nightowl_Ratio'] = night_cust_['Nighttime']/(night_cust_['Daytime']+night_cust_['Nighttime'])\n",
    "night_cust_.head(10)"
   ]
  },
  {
   "cell_type": "code",
   "execution_count": 48,
   "id": "109c0646-f26d-47e5-979a-72921b8f4e6b",
   "metadata": {},
   "outputs": [],
   "source": [
    "#ready data to merge with df_\n",
    "night_cust_.reset_index(inplace=True)  #make 'customer_id' a column, not the index\n",
    "night_ratio = night_cust_[['customer_id', 'Nightowl_Ratio']]\n",
    "#merge with df_\n",
    "df_ = df_.merge(night_ratio, on='customer_id', how='inner')"
   ]
  },
  {
   "cell_type": "code",
   "execution_count": 49,
   "id": "1df47540-9f6c-41e9-be9e-006a986868c8",
   "metadata": {},
   "outputs": [
    {
     "data": {
      "text/plain": [
       "['order_id',\n",
       " 'customer_id',\n",
       " 'customer_order_number',\n",
       " 'orders_day_of_week',\n",
       " 'order_hour_of_day',\n",
       " 'days_between_last_order',\n",
       " 'first_order',\n",
       " 'product_id',\n",
       " 'add_to_cart_order',\n",
       " 'reordered',\n",
       " 'product_name',\n",
       " 'aisle_id',\n",
       " 'department_id',\n",
       " 'prices',\n",
       " '_merge',\n",
       " 'price_range_loc',\n",
       " 'Busiest Days',\n",
       " 'busiest_hours_of_day',\n",
       " 'max_orders',\n",
       " 'loyalty_flag',\n",
       " 'avg_cust_spend',\n",
       " 'Customer_Spend',\n",
       " 'median_order_frequency',\n",
       " 'Order_Frequency',\n",
       " 'Gender',\n",
       " 'State',\n",
       " 'Age',\n",
       " 'date_joined',\n",
       " 'Dependents',\n",
       " 'Marital_Status',\n",
       " 'Income',\n",
       " 'Region',\n",
       " 'weekend_ratio',\n",
       " 'weekend_customer',\n",
       " 'age_group',\n",
       " 'income_brackets',\n",
       " 'top_one_percent',\n",
       " 'top_ten_percent',\n",
       " 'Children',\n",
       " 'Nightowl_Orders',\n",
       " 'Nightowl_Ratio']"
      ]
     },
     "execution_count": 49,
     "metadata": {},
     "output_type": "execute_result"
    }
   ],
   "source": [
    "df_.columns.tolist()"
   ]
  },
  {
   "cell_type": "code",
   "execution_count": 50,
   "id": "29b750ba-4ed1-46be-8734-15bfc1700c58",
   "metadata": {},
   "outputs": [
    {
     "data": {
      "text/html": [
       "<div>\n",
       "<style scoped>\n",
       "    .dataframe tbody tr th:only-of-type {\n",
       "        vertical-align: middle;\n",
       "    }\n",
       "\n",
       "    .dataframe tbody tr th {\n",
       "        vertical-align: top;\n",
       "    }\n",
       "\n",
       "    .dataframe thead th {\n",
       "        text-align: right;\n",
       "    }\n",
       "</style>\n",
       "<table border=\"1\" class=\"dataframe\">\n",
       "  <thead>\n",
       "    <tr style=\"text-align: right;\">\n",
       "      <th></th>\n",
       "      <th>order_id</th>\n",
       "      <th>customer_id</th>\n",
       "      <th>customer_order_number</th>\n",
       "      <th>orders_day_of_week</th>\n",
       "      <th>order_hour_of_day</th>\n",
       "      <th>days_between_last_order</th>\n",
       "      <th>first_order</th>\n",
       "      <th>product_id</th>\n",
       "      <th>add_to_cart_order</th>\n",
       "      <th>reordered</th>\n",
       "      <th>...</th>\n",
       "      <th>Region</th>\n",
       "      <th>weekend_ratio</th>\n",
       "      <th>weekend_customer</th>\n",
       "      <th>age_group</th>\n",
       "      <th>income_brackets</th>\n",
       "      <th>top_one_percent</th>\n",
       "      <th>top_ten_percent</th>\n",
       "      <th>Children</th>\n",
       "      <th>Nightowl_Orders</th>\n",
       "      <th>Nightowl_Ratio</th>\n",
       "    </tr>\n",
       "  </thead>\n",
       "  <tbody>\n",
       "    <tr>\n",
       "      <th>0</th>\n",
       "      <td>2539329</td>\n",
       "      <td>1</td>\n",
       "      <td>1</td>\n",
       "      <td>2</td>\n",
       "      <td>8</td>\n",
       "      <td>NaN</td>\n",
       "      <td>True</td>\n",
       "      <td>196</td>\n",
       "      <td>1</td>\n",
       "      <td>0</td>\n",
       "      <td>...</td>\n",
       "      <td>South</td>\n",
       "      <td>0.0</td>\n",
       "      <td>False</td>\n",
       "      <td>young</td>\n",
       "      <td>below_average</td>\n",
       "      <td>True</td>\n",
       "      <td>True</td>\n",
       "      <td>Yes</td>\n",
       "      <td>Nighttime</td>\n",
       "      <td>0.482034</td>\n",
       "    </tr>\n",
       "    <tr>\n",
       "      <th>1</th>\n",
       "      <td>2398795</td>\n",
       "      <td>1</td>\n",
       "      <td>2</td>\n",
       "      <td>3</td>\n",
       "      <td>7</td>\n",
       "      <td>15.0</td>\n",
       "      <td>False</td>\n",
       "      <td>196</td>\n",
       "      <td>1</td>\n",
       "      <td>1</td>\n",
       "      <td>...</td>\n",
       "      <td>South</td>\n",
       "      <td>0.0</td>\n",
       "      <td>False</td>\n",
       "      <td>young</td>\n",
       "      <td>below_average</td>\n",
       "      <td>True</td>\n",
       "      <td>True</td>\n",
       "      <td>Yes</td>\n",
       "      <td>Nighttime</td>\n",
       "      <td>0.482034</td>\n",
       "    </tr>\n",
       "    <tr>\n",
       "      <th>2</th>\n",
       "      <td>473747</td>\n",
       "      <td>1</td>\n",
       "      <td>3</td>\n",
       "      <td>3</td>\n",
       "      <td>12</td>\n",
       "      <td>21.0</td>\n",
       "      <td>False</td>\n",
       "      <td>196</td>\n",
       "      <td>1</td>\n",
       "      <td>1</td>\n",
       "      <td>...</td>\n",
       "      <td>South</td>\n",
       "      <td>0.0</td>\n",
       "      <td>False</td>\n",
       "      <td>young</td>\n",
       "      <td>below_average</td>\n",
       "      <td>True</td>\n",
       "      <td>True</td>\n",
       "      <td>Yes</td>\n",
       "      <td>Daytime</td>\n",
       "      <td>0.482034</td>\n",
       "    </tr>\n",
       "    <tr>\n",
       "      <th>3</th>\n",
       "      <td>2254736</td>\n",
       "      <td>1</td>\n",
       "      <td>4</td>\n",
       "      <td>4</td>\n",
       "      <td>7</td>\n",
       "      <td>29.0</td>\n",
       "      <td>False</td>\n",
       "      <td>196</td>\n",
       "      <td>1</td>\n",
       "      <td>1</td>\n",
       "      <td>...</td>\n",
       "      <td>South</td>\n",
       "      <td>0.0</td>\n",
       "      <td>False</td>\n",
       "      <td>young</td>\n",
       "      <td>below_average</td>\n",
       "      <td>True</td>\n",
       "      <td>True</td>\n",
       "      <td>Yes</td>\n",
       "      <td>Nighttime</td>\n",
       "      <td>0.482034</td>\n",
       "    </tr>\n",
       "    <tr>\n",
       "      <th>4</th>\n",
       "      <td>431534</td>\n",
       "      <td>1</td>\n",
       "      <td>5</td>\n",
       "      <td>4</td>\n",
       "      <td>15</td>\n",
       "      <td>28.0</td>\n",
       "      <td>False</td>\n",
       "      <td>196</td>\n",
       "      <td>1</td>\n",
       "      <td>1</td>\n",
       "      <td>...</td>\n",
       "      <td>South</td>\n",
       "      <td>0.0</td>\n",
       "      <td>False</td>\n",
       "      <td>young</td>\n",
       "      <td>below_average</td>\n",
       "      <td>True</td>\n",
       "      <td>True</td>\n",
       "      <td>Yes</td>\n",
       "      <td>Daytime</td>\n",
       "      <td>0.482034</td>\n",
       "    </tr>\n",
       "    <tr>\n",
       "      <th>5</th>\n",
       "      <td>3367565</td>\n",
       "      <td>1</td>\n",
       "      <td>6</td>\n",
       "      <td>2</td>\n",
       "      <td>7</td>\n",
       "      <td>19.0</td>\n",
       "      <td>False</td>\n",
       "      <td>196</td>\n",
       "      <td>1</td>\n",
       "      <td>1</td>\n",
       "      <td>...</td>\n",
       "      <td>South</td>\n",
       "      <td>0.0</td>\n",
       "      <td>False</td>\n",
       "      <td>young</td>\n",
       "      <td>below_average</td>\n",
       "      <td>True</td>\n",
       "      <td>True</td>\n",
       "      <td>Yes</td>\n",
       "      <td>Nighttime</td>\n",
       "      <td>0.482034</td>\n",
       "    </tr>\n",
       "    <tr>\n",
       "      <th>6</th>\n",
       "      <td>550135</td>\n",
       "      <td>1</td>\n",
       "      <td>7</td>\n",
       "      <td>1</td>\n",
       "      <td>9</td>\n",
       "      <td>20.0</td>\n",
       "      <td>False</td>\n",
       "      <td>196</td>\n",
       "      <td>1</td>\n",
       "      <td>1</td>\n",
       "      <td>...</td>\n",
       "      <td>South</td>\n",
       "      <td>0.0</td>\n",
       "      <td>False</td>\n",
       "      <td>young</td>\n",
       "      <td>below_average</td>\n",
       "      <td>True</td>\n",
       "      <td>True</td>\n",
       "      <td>Yes</td>\n",
       "      <td>Daytime</td>\n",
       "      <td>0.482034</td>\n",
       "    </tr>\n",
       "    <tr>\n",
       "      <th>7</th>\n",
       "      <td>3108588</td>\n",
       "      <td>1</td>\n",
       "      <td>8</td>\n",
       "      <td>1</td>\n",
       "      <td>14</td>\n",
       "      <td>14.0</td>\n",
       "      <td>False</td>\n",
       "      <td>196</td>\n",
       "      <td>2</td>\n",
       "      <td>1</td>\n",
       "      <td>...</td>\n",
       "      <td>South</td>\n",
       "      <td>0.0</td>\n",
       "      <td>False</td>\n",
       "      <td>young</td>\n",
       "      <td>below_average</td>\n",
       "      <td>True</td>\n",
       "      <td>True</td>\n",
       "      <td>Yes</td>\n",
       "      <td>Daytime</td>\n",
       "      <td>0.482034</td>\n",
       "    </tr>\n",
       "    <tr>\n",
       "      <th>8</th>\n",
       "      <td>2295261</td>\n",
       "      <td>1</td>\n",
       "      <td>9</td>\n",
       "      <td>1</td>\n",
       "      <td>16</td>\n",
       "      <td>0.0</td>\n",
       "      <td>False</td>\n",
       "      <td>196</td>\n",
       "      <td>4</td>\n",
       "      <td>1</td>\n",
       "      <td>...</td>\n",
       "      <td>South</td>\n",
       "      <td>0.0</td>\n",
       "      <td>False</td>\n",
       "      <td>young</td>\n",
       "      <td>below_average</td>\n",
       "      <td>True</td>\n",
       "      <td>True</td>\n",
       "      <td>Yes</td>\n",
       "      <td>Daytime</td>\n",
       "      <td>0.482034</td>\n",
       "    </tr>\n",
       "    <tr>\n",
       "      <th>9</th>\n",
       "      <td>2550362</td>\n",
       "      <td>1</td>\n",
       "      <td>10</td>\n",
       "      <td>4</td>\n",
       "      <td>8</td>\n",
       "      <td>30.0</td>\n",
       "      <td>False</td>\n",
       "      <td>196</td>\n",
       "      <td>1</td>\n",
       "      <td>1</td>\n",
       "      <td>...</td>\n",
       "      <td>South</td>\n",
       "      <td>0.0</td>\n",
       "      <td>False</td>\n",
       "      <td>young</td>\n",
       "      <td>below_average</td>\n",
       "      <td>True</td>\n",
       "      <td>True</td>\n",
       "      <td>Yes</td>\n",
       "      <td>Nighttime</td>\n",
       "      <td>0.482034</td>\n",
       "    </tr>\n",
       "  </tbody>\n",
       "</table>\n",
       "<p>10 rows × 41 columns</p>\n",
       "</div>"
      ],
      "text/plain": [
       "   order_id  customer_id  customer_order_number  orders_day_of_week  \\\n",
       "0   2539329            1                      1                   2   \n",
       "1   2398795            1                      2                   3   \n",
       "2    473747            1                      3                   3   \n",
       "3   2254736            1                      4                   4   \n",
       "4    431534            1                      5                   4   \n",
       "5   3367565            1                      6                   2   \n",
       "6    550135            1                      7                   1   \n",
       "7   3108588            1                      8                   1   \n",
       "8   2295261            1                      9                   1   \n",
       "9   2550362            1                     10                   4   \n",
       "\n",
       "   order_hour_of_day  days_between_last_order  first_order  product_id  \\\n",
       "0                  8                      NaN         True         196   \n",
       "1                  7                     15.0        False         196   \n",
       "2                 12                     21.0        False         196   \n",
       "3                  7                     29.0        False         196   \n",
       "4                 15                     28.0        False         196   \n",
       "5                  7                     19.0        False         196   \n",
       "6                  9                     20.0        False         196   \n",
       "7                 14                     14.0        False         196   \n",
       "8                 16                      0.0        False         196   \n",
       "9                  8                     30.0        False         196   \n",
       "\n",
       "   add_to_cart_order  reordered  ... Region  weekend_ratio  weekend_customer  \\\n",
       "0                  1          0  ...  South            0.0             False   \n",
       "1                  1          1  ...  South            0.0             False   \n",
       "2                  1          1  ...  South            0.0             False   \n",
       "3                  1          1  ...  South            0.0             False   \n",
       "4                  1          1  ...  South            0.0             False   \n",
       "5                  1          1  ...  South            0.0             False   \n",
       "6                  1          1  ...  South            0.0             False   \n",
       "7                  2          1  ...  South            0.0             False   \n",
       "8                  4          1  ...  South            0.0             False   \n",
       "9                  1          1  ...  South            0.0             False   \n",
       "\n",
       "   age_group income_brackets top_one_percent top_ten_percent Children  \\\n",
       "0      young   below_average            True            True      Yes   \n",
       "1      young   below_average            True            True      Yes   \n",
       "2      young   below_average            True            True      Yes   \n",
       "3      young   below_average            True            True      Yes   \n",
       "4      young   below_average            True            True      Yes   \n",
       "5      young   below_average            True            True      Yes   \n",
       "6      young   below_average            True            True      Yes   \n",
       "7      young   below_average            True            True      Yes   \n",
       "8      young   below_average            True            True      Yes   \n",
       "9      young   below_average            True            True      Yes   \n",
       "\n",
       "   Nightowl_Orders Nightowl_Ratio  \n",
       "0        Nighttime       0.482034  \n",
       "1        Nighttime       0.482034  \n",
       "2          Daytime       0.482034  \n",
       "3        Nighttime       0.482034  \n",
       "4          Daytime       0.482034  \n",
       "5        Nighttime       0.482034  \n",
       "6          Daytime       0.482034  \n",
       "7          Daytime       0.482034  \n",
       "8          Daytime       0.482034  \n",
       "9        Nighttime       0.482034  \n",
       "\n",
       "[10 rows x 41 columns]"
      ]
     },
     "execution_count": 50,
     "metadata": {},
     "output_type": "execute_result"
    }
   ],
   "source": [
    "#check\n",
    "df_.head(10)"
   ]
  },
  {
   "cell_type": "code",
   "execution_count": 51,
   "id": "b6911b9e-c26a-4336-86a1-d4622238261f",
   "metadata": {},
   "outputs": [
    {
     "data": {
      "text/plain": [
       "False    28700831\n",
       "True      2291833\n",
       "Name: Nightowl_Customer, dtype: int64"
      ]
     },
     "execution_count": 51,
     "metadata": {},
     "output_type": "execute_result"
    }
   ],
   "source": [
    "#create flag, true false, if customer spends over 65% at night\n",
    "\n",
    "#what is the threshold for a customer being a Nightowl?\n",
    "threshold = 0.65\n",
    "\n",
    "#create new column, boolean\n",
    "df_['Nightowl_Customer'] = df_['Nightowl_Ratio'] >= threshold\n",
    "\n",
    "#check\n",
    "df_['Nightowl_Customer'].value_counts()"
   ]
  },
  {
   "cell_type": "code",
   "execution_count": 52,
   "id": "db35ed73-f8c0-40c9-8db3-9a99c9aa9105",
   "metadata": {},
   "outputs": [
    {
     "data": {
      "text/plain": [
       "(162633, (30992664, 42))"
      ]
     },
     "execution_count": 52,
     "metadata": {},
     "output_type": "execute_result"
    }
   ],
   "source": [
    "df_['customer_id'].nunique(), df_.shape"
   ]
  },
  {
   "cell_type": "code",
   "execution_count": 53,
   "id": "ed9e34b0-d48a-4889-8cc4-931ad10e82aa",
   "metadata": {},
   "outputs": [
    {
     "data": {
      "text/plain": [
       "['order_id',\n",
       " 'customer_id',\n",
       " 'customer_order_number',\n",
       " 'orders_day_of_week',\n",
       " 'order_hour_of_day',\n",
       " 'days_between_last_order',\n",
       " 'first_order',\n",
       " 'product_id',\n",
       " 'add_to_cart_order',\n",
       " 'reordered',\n",
       " 'product_name',\n",
       " 'aisle_id',\n",
       " 'department_id',\n",
       " 'prices',\n",
       " '_merge',\n",
       " 'price_range_loc',\n",
       " 'Busiest Days',\n",
       " 'busiest_hours_of_day',\n",
       " 'max_orders',\n",
       " 'loyalty_flag',\n",
       " 'avg_cust_spend',\n",
       " 'Customer_Spend',\n",
       " 'median_order_frequency',\n",
       " 'Order_Frequency',\n",
       " 'Gender',\n",
       " 'State',\n",
       " 'Age',\n",
       " 'date_joined',\n",
       " 'Dependents',\n",
       " 'Marital_Status',\n",
       " 'Income',\n",
       " 'Region',\n",
       " 'weekend_ratio',\n",
       " 'weekend_customer',\n",
       " 'age_group',\n",
       " 'income_brackets',\n",
       " 'top_one_percent',\n",
       " 'top_ten_percent',\n",
       " 'Children',\n",
       " 'Nightowl_Orders',\n",
       " 'Nightowl_Ratio',\n",
       " 'Nightowl_Customer']"
      ]
     },
     "execution_count": 53,
     "metadata": {},
     "output_type": "execute_result"
    }
   ],
   "source": [
    "df_.columns.tolist()"
   ]
  },
  {
   "cell_type": "code",
   "execution_count": 54,
   "id": "dbcc47ce-ac74-447c-ad5a-273d67e2bac4",
   "metadata": {},
   "outputs": [
    {
     "data": {
      "text/plain": [
       "(   department_names\n",
       " 0        department\n",
       " 1            frozen\n",
       " 2             other\n",
       " 3            bakery\n",
       " 4           produce\n",
       " 5           alcohol\n",
       " 6     international\n",
       " 7         beverages\n",
       " 8              pets\n",
       " 9   dry goods pasta\n",
       " 10             bulk\n",
       " 11    personal care\n",
       " 12     meat seafood\n",
       " 13           pantry\n",
       " 14        breakfast\n",
       " 15     canned goods\n",
       " 16       dairy eggs\n",
       " 17        household\n",
       " 18           babies\n",
       " 19           snacks\n",
       " 20             deli\n",
       " 21          missing,\n",
       " ['department_names'])"
      ]
     },
     "execution_count": 54,
     "metadata": {},
     "output_type": "execute_result"
    }
   ],
   "source": [
    "#import department names from departments.csv\n",
    "department_name = pd.read_csv(os.path.join(path, '02 Data', 'original Data', 'departments.csv'))\n",
    "department_name.reset_index(drop=True, inplace=True)\n",
    "department_names = department_name.T\n",
    "department_names.reset_index(drop=True, inplace=True)\n",
    "department_names.columns = ['department_names']\n",
    "department_names, department_names.columns.tolist()"
   ]
  },
  {
   "cell_type": "code",
   "execution_count": null,
   "id": "174b8f3f-e3e5-48db-ab39-e4c718661097",
   "metadata": {},
   "outputs": [],
   "source": []
  },
  {
   "cell_type": "code",
   "execution_count": 55,
   "id": "efc52733-ffda-430d-b986-8cd6f7fa4ee5",
   "metadata": {},
   "outputs": [
    {
     "data": {
      "text/html": [
       "<div>\n",
       "<style scoped>\n",
       "    .dataframe tbody tr th:only-of-type {\n",
       "        vertical-align: middle;\n",
       "    }\n",
       "\n",
       "    .dataframe tbody tr th {\n",
       "        vertical-align: top;\n",
       "    }\n",
       "\n",
       "    .dataframe thead th {\n",
       "        text-align: right;\n",
       "    }\n",
       "</style>\n",
       "<table border=\"1\" class=\"dataframe\">\n",
       "  <thead>\n",
       "    <tr style=\"text-align: right;\">\n",
       "      <th></th>\n",
       "      <th>order_id</th>\n",
       "      <th>customer_id</th>\n",
       "      <th>customer_order_number</th>\n",
       "      <th>orders_day_of_week</th>\n",
       "      <th>order_hour_of_day</th>\n",
       "      <th>days_between_last_order</th>\n",
       "      <th>first_order</th>\n",
       "      <th>product_id</th>\n",
       "      <th>add_to_cart_order</th>\n",
       "      <th>reordered</th>\n",
       "      <th>...</th>\n",
       "      <th>age_group</th>\n",
       "      <th>income_brackets</th>\n",
       "      <th>top_one_percent</th>\n",
       "      <th>top_ten_percent</th>\n",
       "      <th>Children</th>\n",
       "      <th>Nightowl_Orders</th>\n",
       "      <th>Nightowl_Ratio</th>\n",
       "      <th>Nightowl_Customer</th>\n",
       "      <th>index</th>\n",
       "      <th>department_names</th>\n",
       "    </tr>\n",
       "  </thead>\n",
       "  <tbody>\n",
       "    <tr>\n",
       "      <th>0</th>\n",
       "      <td>2539329</td>\n",
       "      <td>1</td>\n",
       "      <td>1</td>\n",
       "      <td>2</td>\n",
       "      <td>8</td>\n",
       "      <td>NaN</td>\n",
       "      <td>True</td>\n",
       "      <td>196</td>\n",
       "      <td>1</td>\n",
       "      <td>0</td>\n",
       "      <td>...</td>\n",
       "      <td>young</td>\n",
       "      <td>below_average</td>\n",
       "      <td>True</td>\n",
       "      <td>True</td>\n",
       "      <td>Yes</td>\n",
       "      <td>Nighttime</td>\n",
       "      <td>0.482034</td>\n",
       "      <td>False</td>\n",
       "      <td>7</td>\n",
       "      <td>beverages</td>\n",
       "    </tr>\n",
       "    <tr>\n",
       "      <th>1</th>\n",
       "      <td>2398795</td>\n",
       "      <td>1</td>\n",
       "      <td>2</td>\n",
       "      <td>3</td>\n",
       "      <td>7</td>\n",
       "      <td>15.0</td>\n",
       "      <td>False</td>\n",
       "      <td>196</td>\n",
       "      <td>1</td>\n",
       "      <td>1</td>\n",
       "      <td>...</td>\n",
       "      <td>young</td>\n",
       "      <td>below_average</td>\n",
       "      <td>True</td>\n",
       "      <td>True</td>\n",
       "      <td>Yes</td>\n",
       "      <td>Nighttime</td>\n",
       "      <td>0.482034</td>\n",
       "      <td>False</td>\n",
       "      <td>7</td>\n",
       "      <td>beverages</td>\n",
       "    </tr>\n",
       "    <tr>\n",
       "      <th>2</th>\n",
       "      <td>473747</td>\n",
       "      <td>1</td>\n",
       "      <td>3</td>\n",
       "      <td>3</td>\n",
       "      <td>12</td>\n",
       "      <td>21.0</td>\n",
       "      <td>False</td>\n",
       "      <td>196</td>\n",
       "      <td>1</td>\n",
       "      <td>1</td>\n",
       "      <td>...</td>\n",
       "      <td>young</td>\n",
       "      <td>below_average</td>\n",
       "      <td>True</td>\n",
       "      <td>True</td>\n",
       "      <td>Yes</td>\n",
       "      <td>Daytime</td>\n",
       "      <td>0.482034</td>\n",
       "      <td>False</td>\n",
       "      <td>7</td>\n",
       "      <td>beverages</td>\n",
       "    </tr>\n",
       "    <tr>\n",
       "      <th>3</th>\n",
       "      <td>2254736</td>\n",
       "      <td>1</td>\n",
       "      <td>4</td>\n",
       "      <td>4</td>\n",
       "      <td>7</td>\n",
       "      <td>29.0</td>\n",
       "      <td>False</td>\n",
       "      <td>196</td>\n",
       "      <td>1</td>\n",
       "      <td>1</td>\n",
       "      <td>...</td>\n",
       "      <td>young</td>\n",
       "      <td>below_average</td>\n",
       "      <td>True</td>\n",
       "      <td>True</td>\n",
       "      <td>Yes</td>\n",
       "      <td>Nighttime</td>\n",
       "      <td>0.482034</td>\n",
       "      <td>False</td>\n",
       "      <td>7</td>\n",
       "      <td>beverages</td>\n",
       "    </tr>\n",
       "    <tr>\n",
       "      <th>4</th>\n",
       "      <td>431534</td>\n",
       "      <td>1</td>\n",
       "      <td>5</td>\n",
       "      <td>4</td>\n",
       "      <td>15</td>\n",
       "      <td>28.0</td>\n",
       "      <td>False</td>\n",
       "      <td>196</td>\n",
       "      <td>1</td>\n",
       "      <td>1</td>\n",
       "      <td>...</td>\n",
       "      <td>young</td>\n",
       "      <td>below_average</td>\n",
       "      <td>True</td>\n",
       "      <td>True</td>\n",
       "      <td>Yes</td>\n",
       "      <td>Daytime</td>\n",
       "      <td>0.482034</td>\n",
       "      <td>False</td>\n",
       "      <td>7</td>\n",
       "      <td>beverages</td>\n",
       "    </tr>\n",
       "  </tbody>\n",
       "</table>\n",
       "<p>5 rows × 44 columns</p>\n",
       "</div>"
      ],
      "text/plain": [
       "   order_id  customer_id  customer_order_number  orders_day_of_week  \\\n",
       "0   2539329            1                      1                   2   \n",
       "1   2398795            1                      2                   3   \n",
       "2    473747            1                      3                   3   \n",
       "3   2254736            1                      4                   4   \n",
       "4    431534            1                      5                   4   \n",
       "\n",
       "   order_hour_of_day  days_between_last_order  first_order  product_id  \\\n",
       "0                  8                      NaN         True         196   \n",
       "1                  7                     15.0        False         196   \n",
       "2                 12                     21.0        False         196   \n",
       "3                  7                     29.0        False         196   \n",
       "4                 15                     28.0        False         196   \n",
       "\n",
       "   add_to_cart_order  reordered  ... age_group  income_brackets  \\\n",
       "0                  1          0  ...     young    below_average   \n",
       "1                  1          1  ...     young    below_average   \n",
       "2                  1          1  ...     young    below_average   \n",
       "3                  1          1  ...     young    below_average   \n",
       "4                  1          1  ...     young    below_average   \n",
       "\n",
       "   top_one_percent  top_ten_percent Children Nightowl_Orders Nightowl_Ratio  \\\n",
       "0             True             True      Yes       Nighttime       0.482034   \n",
       "1             True             True      Yes       Nighttime       0.482034   \n",
       "2             True             True      Yes         Daytime       0.482034   \n",
       "3             True             True      Yes       Nighttime       0.482034   \n",
       "4             True             True      Yes         Daytime       0.482034   \n",
       "\n",
       "  Nightowl_Customer  index department_names  \n",
       "0             False      7        beverages  \n",
       "1             False      7        beverages  \n",
       "2             False      7        beverages  \n",
       "3             False      7        beverages  \n",
       "4             False      7        beverages  \n",
       "\n",
       "[5 rows x 44 columns]"
      ]
     },
     "execution_count": 55,
     "metadata": {},
     "output_type": "execute_result"
    }
   ],
   "source": [
    "department_names.reset_index(inplace=True)\n",
    "\n",
    "# Merge 'df_' with 'department_names' on the 'department_id' column\n",
    "df_full = df_.merge(department_names, left_on='department_id', right_index=True)\n",
    "df_full.head()"
   ]
  },
  {
   "cell_type": "code",
   "execution_count": 56,
   "id": "12e8642e-0b3a-4b7a-bc83-e469beb7e8d8",
   "metadata": {},
   "outputs": [
    {
     "data": {
      "text/plain": [
       "order_id                         0\n",
       "customer_id                      0\n",
       "customer_order_number            0\n",
       "orders_day_of_week               0\n",
       "order_hour_of_day                0\n",
       "days_between_last_order    1662886\n",
       "first_order                      0\n",
       "product_id                       0\n",
       "add_to_cart_order                0\n",
       "reordered                        0\n",
       "product_name                 26972\n",
       "aisle_id                         0\n",
       "department_id                    0\n",
       "prices                        4877\n",
       "_merge                           0\n",
       "price_range_loc                  0\n",
       "Busiest Days                     0\n",
       "busiest_hours_of_day             0\n",
       "max_orders                       0\n",
       "loyalty_flag                     0\n",
       "avg_cust_spend                   0\n",
       "Customer_Spend                   0\n",
       "median_order_frequency           0\n",
       "Order_Frequency                  0\n",
       "Gender                           0\n",
       "State                            0\n",
       "Age                              0\n",
       "date_joined                      0\n",
       "Dependents                       0\n",
       "Marital_Status                   0\n",
       "Income                           0\n",
       "Region                           0\n",
       "weekend_ratio                    0\n",
       "weekend_customer                 0\n",
       "age_group                        0\n",
       "income_brackets                  0\n",
       "top_one_percent                  0\n",
       "top_ten_percent                  0\n",
       "Children                         0\n",
       "Nightowl_Orders             208208\n",
       "Nightowl_Ratio                   0\n",
       "Nightowl_Customer                0\n",
       "index                            0\n",
       "department_names                 0\n",
       "dtype: int64"
      ]
     },
     "execution_count": 56,
     "metadata": {},
     "output_type": "execute_result"
    }
   ],
   "source": [
    "#check df_full and export \n",
    "df_full.isnull().sum()"
   ]
  },
  {
   "cell_type": "code",
   "execution_count": 57,
   "id": "9bdf799c-5d6f-4e79-81b9-718d0b55ccb1",
   "metadata": {},
   "outputs": [
    {
     "data": {
      "text/plain": [
       "['order_id',\n",
       " 'customer_id',\n",
       " 'customer_order_number',\n",
       " 'orders_day_of_week',\n",
       " 'order_hour_of_day',\n",
       " 'days_between_last_order',\n",
       " 'first_order',\n",
       " 'product_id',\n",
       " 'add_to_cart_order',\n",
       " 'reordered',\n",
       " 'product_name',\n",
       " 'aisle_id',\n",
       " 'department_id',\n",
       " 'prices',\n",
       " '_merge',\n",
       " 'price_range_loc',\n",
       " 'Busiest Days',\n",
       " 'busiest_hours_of_day',\n",
       " 'max_orders',\n",
       " 'loyalty_flag',\n",
       " 'avg_cust_spend',\n",
       " 'Customer_Spend',\n",
       " 'median_order_frequency',\n",
       " 'Order_Frequency',\n",
       " 'Gender',\n",
       " 'State',\n",
       " 'Age',\n",
       " 'date_joined',\n",
       " 'Dependents',\n",
       " 'Marital_Status',\n",
       " 'Income',\n",
       " 'Region',\n",
       " 'weekend_ratio',\n",
       " 'weekend_customer',\n",
       " 'age_group',\n",
       " 'income_brackets',\n",
       " 'top_one_percent',\n",
       " 'top_ten_percent',\n",
       " 'Children',\n",
       " 'Nightowl_Orders',\n",
       " 'Nightowl_Ratio',\n",
       " 'Nightowl_Customer',\n",
       " 'index',\n",
       " 'department_names']"
      ]
     },
     "execution_count": 57,
     "metadata": {},
     "output_type": "execute_result"
    }
   ],
   "source": [
    "#Create an appropriate visualization to show the distribution of profiles.\n",
    "\n",
    "df_full.columns.tolist()"
   ]
  },
  {
   "cell_type": "code",
   "execution_count": 58,
   "id": "18289556-047e-4422-bf4a-22a49ca421d5",
   "metadata": {},
   "outputs": [
    {
     "data": {
      "text/plain": [
       "<bound method IndexOpsMixin.tolist of Index(['order_id', 'customer_id', 'customer_order_number',\n",
       "       'orders_day_of_week', 'order_hour_of_day', 'days_between_last_order',\n",
       "       'first_order', 'product_id', 'add_to_cart_order', 'reordered',\n",
       "       'product_name', 'aisle_id', 'department_id', 'prices', '_merge',\n",
       "       'price_range_loc', 'Busiest Days', 'busiest_hours_of_day', 'max_orders',\n",
       "       'loyalty_flag', 'avg_cust_spend', 'Customer_Spend',\n",
       "       'median_order_frequency', 'Order_Frequency', 'Gender', 'State', 'Age',\n",
       "       'date_joined', 'Dependents', 'Marital_Status', 'Income', 'Region',\n",
       "       'weekend_ratio', 'weekend_customer', 'age_group', 'income_brackets',\n",
       "       'top_one_percent', 'top_ten_percent', 'Children', 'Nightowl_Orders',\n",
       "       'Nightowl_Ratio', 'Nightowl_Customer', 'index', 'department_names'],\n",
       "      dtype='object')>"
      ]
     },
     "execution_count": 58,
     "metadata": {},
     "output_type": "execute_result"
    }
   ],
   "source": [
    "#df_full.drop(columns=['index'], inplace=True)\n",
    "df_full.columns.tolist"
   ]
  },
  {
   "cell_type": "code",
   "execution_count": 59,
   "id": "ae5b3730-4821-4a97-998e-03610dbe11cf",
   "metadata": {},
   "outputs": [],
   "source": [
    "#export\n",
    "#df_full.to_pickle(os.path.join(path, '02 Data', 'Prepared Data', 'Df_Full_0926.pkl'))"
   ]
  },
  {
   "cell_type": "markdown",
   "id": "fbd35fd1-bab5-41f5-9f73-a72f762c6f81",
   "metadata": {},
   "source": [
    "# visualize new features\n",
    "Create Visualizations of New Profiles"
   ]
  },
  {
   "cell_type": "code",
   "execution_count": 60,
   "id": "f7f1b4d7-37fb-48a4-b129-b95a8814efcf",
   "metadata": {},
   "outputs": [
    {
     "data": {
      "text/plain": [
       "Text(0.5, 1.0, 'Department Total Revenue')"
      ]
     },
     "execution_count": 60,
     "metadata": {},
     "output_type": "execute_result"
    },
    {
     "data": {
      "image/png": "[encoded data removed]",
      "text/plain": [
       "<Figure size 640x480 with 1 Axes>"
      ]
     },
     "metadata": {},
     "output_type": "display_data"
    }
   ],
   "source": [
    "#Department Names\n",
    "\n",
    "#sample df\n",
    "dn = df_full.groupby('department_names')['prices'].sum()\n",
    "\n",
    "#order by total revenue\n",
    "dn.sort_values(ascending=False, inplace=True)\n",
    "#plot\n",
    "dn_plot = sns.barplot(x=dn.index, y=dn.values)\n",
    "\n",
    "#format\n",
    "plt.xticks(rotation=90)\n",
    "plt.title('Department Total Revenue')"
   ]
  },
  {
   "cell_type": "code",
   "execution_count": 61,
   "id": "b8905b69-8458-48ab-a2b1-fcab9ac2e8f1",
   "metadata": {},
   "outputs": [],
   "source": [
    "#export \n",
    "#dn_plot.figure.savefig(os.path.join(path, '04 Analysis', 'Visualizations', 'Departments_Rev.png'))"
   ]
  },
  {
   "cell_type": "code",
   "execution_count": 62,
   "id": "a8f49075-b0c0-47eb-a5f9-b5243d896514",
   "metadata": {},
   "outputs": [
    {
     "data": {
      "text/plain": [
       "Text(0.5, 1.0, 'Total Revenue by Region')"
      ]
     },
     "execution_count": 62,
     "metadata": {},
     "output_type": "execute_result"
    },
    {
     "data": {
      "image/png": "[encoded data removed]",
      "text/plain": [
       "<Figure size 640x480 with 1 Axes>"
      ]
     },
     "metadata": {},
     "output_type": "display_data"
    }
   ],
   "source": [
    "#Region\n",
    "\n",
    "#group by region, look at total revenue\n",
    "reg = df_full.groupby('Region')['prices'].sum()\n",
    "\n",
    "#order\n",
    "reg = reg.sort_values(ascending=False)\n",
    "\n",
    "#bar plot reg\n",
    "reg_plot = sns.barplot(x=reg.index, y=reg.values)\n",
    "\n",
    "#format\n",
    "plt.title('Total Revenue by Region')"
   ]
  },
  {
   "cell_type": "code",
   "execution_count": 63,
   "id": "218bfd57-a218-4e65-987e-405d95b948e6",
   "metadata": {},
   "outputs": [],
   "source": [
    "#export\n",
    "\n",
    "#reg_plot.figure.savefig(os.path.join(path, '04 Analysis', 'Visualizations', 'Regional_Revenue.png'))"
   ]
  },
  {
   "cell_type": "code",
   "execution_count": 64,
   "id": "565d8b9a-6dce-4fb8-8c16-96f34167db4c",
   "metadata": {},
   "outputs": [
    {
     "data": {
      "text/plain": [
       "Text(0.5, 1.0, 'Weekend Customer Revenue: >65% Weekend Spending')"
      ]
     },
     "execution_count": 64,
     "metadata": {},
     "output_type": "execute_result"
    },
    {
     "data": {
      "image/png": "[encoded data removed]",
      "text/plain": [
       "<Figure size 640x480 with 1 Axes>"
      ]
     },
     "metadata": {},
     "output_type": "display_data"
    }
   ],
   "source": [
    "#Weekend\n",
    "\n",
    "wknd = df_full.groupby('weekend_customer')['prices'].sum()\n",
    "\n",
    "wknd_plot = sns.barplot(x=wknd.index, y=wknd.values)\n",
    "\n",
    "plt.title('Weekend Customer Revenue: >65% Weekend Spending')"
   ]
  },
  {
   "cell_type": "code",
   "execution_count": 65,
   "id": "21fdab2d-9d45-41e9-86ab-85fe8d3ce635",
   "metadata": {},
   "outputs": [],
   "source": [
    "#export\n",
    "\n",
    "#wknd_plot.figure.savefig(os.path.join(path, '04 Analysis', 'Visualizations', 'Weekend_Revenue.png'))"
   ]
  },
  {
   "cell_type": "code",
   "execution_count": 66,
   "id": "44dd3540-0d99-49c2-826f-6fb65d8b56d8",
   "metadata": {},
   "outputs": [
    {
     "data": {
      "text/plain": [
       "Text(0.5, 1.0, 'Age Brackets Revenue')"
      ]
     },
     "execution_count": 66,
     "metadata": {},
     "output_type": "execute_result"
    },
    {
     "data": {
      "image/png": "[encoded data removed]",
      "text/plain": [
       "<Figure size 640x480 with 1 Axes>"
      ]
     },
     "metadata": {},
     "output_type": "display_data"
    }
   ],
   "source": [
    "#Age Group\n",
    "\n",
    "#age group df\n",
    "\n",
    "age = df_full.groupby('age_group')['prices'].sum()\n",
    "\n",
    "#order\n",
    "age = age.sort_values(ascending=False)\n",
    "\n",
    "#plot\n",
    "age_plot = sns.barplot(x=age.index, y=age.values)\n",
    "\n",
    "#format\n",
    "plt.title('Age Brackets Revenue')"
   ]
  },
  {
   "cell_type": "code",
   "execution_count": 67,
   "id": "eb9ac89a-00b3-4bbe-9f15-5c1fc24a2d7a",
   "metadata": {},
   "outputs": [],
   "source": [
    "#export\n",
    "#age_plot.figure.savefig(os.path.join(path, '04 Analysis', 'Visualizations', 'Age_Bracket_Revenue.png'))"
   ]
  },
  {
   "cell_type": "code",
   "execution_count": 68,
   "id": "e2f38f5d-650d-4485-a6d7-1f7e561e5c71",
   "metadata": {},
   "outputs": [
    {
     "data": {
      "text/plain": [
       "Text(0.5, 1.0, 'Income Bracket Revenue')"
      ]
     },
     "execution_count": 68,
     "metadata": {},
     "output_type": "execute_result"
    },
    {
     "data": {
      "image/png": "[encoded data removed]",
      "text/plain": [
       "<Figure size 640x480 with 1 Axes>"
      ]
     },
     "metadata": {},
     "output_type": "display_data"
    }
   ],
   "source": [
    "#Income Brackets\n",
    "\n",
    "#income df\n",
    "inc = df_full.groupby('income_brackets')['prices'].sum()\n",
    "\n",
    "#normalize by population\n",
    "#inc_pc = inc/df_full[df_full['income_brackets']=='below average'].shape[0]\n",
    "\n",
    "#plot\n",
    "inc_plot = sns.barplot(x=inc.index, y=inc.values)\n",
    "\n",
    "#format\n",
    "plt.title('Income Bracket Revenue')"
   ]
  },
  {
   "cell_type": "markdown",
   "id": "fd8d0101-4519-45f7-9160-c9244cccdc01",
   "metadata": {},
   "source": [
    "It looks like 3 income brackets are not sufficient. we will make a 2nd income_brackets column to break up the average brackets into low and high income."
   ]
  },
  {
   "cell_type": "markdown",
   "id": "9c2a4f8b-8d32-461b-b3bc-9d455ea46f68",
   "metadata": {},
   "source": [
    "# feature engineering\n",
    "re-work Income binning"
   ]
  },
  {
   "cell_type": "code",
   "execution_count": 69,
   "id": "39d3b921-c0ef-4ddb-bd55-bc963826da7a",
   "metadata": {},
   "outputs": [
    {
     "name": "stdout",
     "output_type": "stream",
     "text": [
      "Very Low Income: $0 to $ 56530\n",
      "Low Income: $ 56530 to $ 99670\n",
      "High Income: $ 99670 to $ 142810\n",
      "Very High Income: $ 142810 to $1,000,000\n"
     ]
    },
    {
     "data": {
      "text/plain": [
       "low          11765397\n",
       "high          9174287\n",
       "very_high     5180532\n",
       "very_low      4872448\n",
       "Name: income_brackets_2, dtype: int64"
      ]
     },
     "execution_count": 69,
     "metadata": {},
     "output_type": "execute_result"
    }
   ],
   "source": [
    "#make an income bracket column with 4 brackets, very low, low, high, very high\n",
    "\n",
    "#Income columns 2: low income-one std below to mean \n",
    "                #high income-mean to one std above\n",
    "                #very high income-above 1 std above the mean\n",
    "                #very low income-below 1 std below the mean\n",
    "\n",
    "#get mean and std\n",
    "mean_inc2 = df_['Income'].agg('mean')\n",
    "std_inc2 = df_['Income'].agg('std')\n",
    "\n",
    "#create lower and upper bounds of the income brackets\n",
    "lower_bound2 = mean_inc2 - std_inc2\n",
    "upper_bound2 = mean_inc2 + std_inc2\n",
    "\n",
    "#define brackets\n",
    "very_low = (0, round(lower_bound2, -1))\n",
    "low = (round(lower_bound2, -1), mean_inc2)\n",
    "high = (mean_inc2, round(upper_bound2, -1)) \n",
    "very_high = (round(upper_bound2, -1), 1000000)\n",
    "\n",
    "#print results\n",
    "print(f'Very Low Income: $0 to ${round(lower_bound2, -1): .0f}\\n'\n",
    "      f'Low Income: ${round(lower_bound, -1): .0f} to ${round(mean_inc2, -1): .0f}\\n'\n",
    "      f'High Income: ${round(mean_inc2, -1): .0f} to ${round(upper_bound2, -1): .0f}\\n'\n",
    "      f'Very High Income: ${round(upper_bound2, -1): .0f} to $1,000,000')\n",
    "\n",
    "\n",
    "#make an income bracket column using pd.cut()\n",
    "df_full['income_brackets_2'] = pd.cut(df_full['Income'], \n",
    "                                bins=[0, lower_bound2, mean_inc2, upper_bound2, 1000000], \n",
    "                                labels=['very_low', 'low', 'high', 'very_high']\n",
    "                               )\n",
    "#check\n",
    "df_full['income_brackets_2'].value_counts()"
   ]
  },
  {
   "cell_type": "code",
   "execution_count": 70,
   "id": "1c804962-eb8d-425a-b2a4-1b46a96de728",
   "metadata": {},
   "outputs": [
    {
     "data": {
      "text/plain": [
       "Text(0.5, 1.0, 'Income Bracket Revenue2')"
      ]
     },
     "execution_count": 70,
     "metadata": {},
     "output_type": "execute_result"
    },
    {
     "data": {
      "image/png": "[encoded data removed]",
      "text/plain": [
       "<Figure size 640x480 with 1 Axes>"
      ]
     },
     "metadata": {},
     "output_type": "display_data"
    }
   ],
   "source": [
    "#graph new column\n",
    "#Income Brackets2\n",
    "\n",
    "#income df\n",
    "inc2 = df_full.groupby('income_brackets_2')['prices'].sum()\n",
    "\n",
    "#plot\n",
    "inc_plot2 = sns.barplot(x=inc2.index, y=inc2.values)\n",
    "\n",
    "#format\n",
    "plt.title('Income Bracket Revenue2')\n"
   ]
  },
  {
   "cell_type": "code",
   "execution_count": 71,
   "id": "7be0e6c2-71ff-432c-a38d-a9a01e0a3946",
   "metadata": {},
   "outputs": [],
   "source": [
    "#export graph\n",
    "#inc_plot2.figure.savefig(os.path.join(path, '04 Analysis', 'Visualizations', 'Income_Bracket_Rev.png'))"
   ]
  },
  {
   "cell_type": "markdown",
   "id": "74122467-6710-4450-9d22-61fba7ea1eaa",
   "metadata": {},
   "source": [
    "# feature engineering\n",
    "top products (1% and 10%)"
   ]
  },
  {
   "cell_type": "code",
   "execution_count": 72,
   "id": "e8c1141f-ad53-41e0-8859-802dc35e80e2",
   "metadata": {},
   "outputs": [
    {
     "name": "stdout",
     "output_type": "stream",
     "text": [
      "Top 1% of products: $113,922,982 and %47.16 of total revenue\n",
      "Top 10% of products: $202,400,538 and %83.79 of total revenue\n",
      "Total Revenue: $241,555,389\n"
     ]
    }
   ],
   "source": [
    "#Top Products\n",
    "\n",
    "#make relevant df \n",
    "top_prod = df_full[['product_name', 'department_names', 'top_one_percent', 'top_ten_percent', 'prices']]\n",
    "\n",
    "#make values to compare\n",
    "one_perc = top_prod.loc[top_prod['top_one_percent']==True]\n",
    "ten_perc = top_prod.loc[top_prod['top_ten_percent']==True]\n",
    "total_rev = top_prod['prices'].sum()\n",
    "\n",
    "#print checks of ratios\n",
    "print(f\"Top 1% of products: ${round(one_perc['prices'].sum(), 0):,.0f} and %{((round(one_perc['prices'].sum(), 0)/round(total_rev, 0))* 100):.2f} of total revenue\\n\"\n",
    "      f\"Top 10% of products: ${round(ten_perc['prices'].sum(), 0):,.0f} and %{((round(ten_perc['prices'].sum(), 0)/round(total_rev, 0))* 100):.2f} of total revenue\\n\"\n",
    "      f\"Total Revenue: ${round(total_rev, 0):,.0f}\"\n",
    ")\n",
    "\n",
    "#pie chart for each column"
   ]
  },
  {
   "cell_type": "code",
   "execution_count": 73,
   "id": "f9b290a4-fd42-4beb-b4d3-a61db00c0efd",
   "metadata": {},
   "outputs": [
    {
     "data": {
      "image/png": "[encoded data removed]",
      "text/plain": [
       "<Figure size 800x400 with 1 Axes>"
      ]
     },
     "metadata": {},
     "output_type": "display_data"
    },
    {
     "data": {
      "image/png": "[encoded data removed]",
      "text/plain": [
       "<Figure size 800x400 with 1 Axes>"
      ]
     },
     "metadata": {},
     "output_type": "display_data"
    }
   ],
   "source": [
    "# Calculate the percentages\n",
    "one_percent_share = (one_perc['prices'].sum() / total_rev) * 100\n",
    "ten_percent_share = (ten_perc['prices'].sum() / total_rev) * 100\n",
    "\n",
    "# Data for the pie charts\n",
    "labels = ['Top 1% Revenue', 'Bottom 99% Revenue']\n",
    "sizes = [one_percent_share, 100 - one_percent_share]\n",
    "colors = ['gold', 'lightcoral']\n",
    "explode = (0.1, 0)  # explode the 1st slice (Top 1%)\n",
    "\n",
    "# Create the first pie chart for the Top 1%\n",
    "plt.figure(figsize=(8, 4))  # figure size\n",
    "pie1 = plt.pie(sizes, explode=explode, labels=labels, colors=colors, autopct='%1.1f%%', shadow=True, startangle=140)\n",
    "plt.title('Products Revenue Distribution - Top 1%')\n",
    "plt.axis('equal')  # Equal aspect ratio ensures that pie is drawn as a circle\n",
    "\n",
    "#save\n",
    "#save_path_pie1 = os.path.join(path, '04 Analysis', 'Visualizations', 'Pie1.png')\n",
    "#plt.savefig(save_path_pie1)\n",
    "\n",
    "# Create the second pie chart for the Top 10%\n",
    "plt.figure(figsize=(8, 4))  # figure size\n",
    "pie10 = plt.pie([ten_percent_share, 100 - ten_percent_share], labels=['Top 10% Revenue', 'Bottom 90% Revenue'], colors=['lightcoral', 'lightskyblue'], autopct='%1.1f%%', shadow=True, startangle=140)\n",
    "plt.title('Products Revenue Distribution - Top 10%')\n",
    "plt.axis('equal')  # Equal aspect ratio ensures that pie is drawn as a circle\n",
    "\n",
    "# Specify the full file path for saving\n",
    "#save_path_pie10 = os.path.join(path, '04 Analysis', 'Visualizations', 'Pie10.png')\n",
    "\n",
    "# Save the figures as image files\n",
    "#plt.savefig(save_path_pie10)\n",
    "\n",
    "\n",
    "plt.show()\n"
   ]
  },
  {
   "cell_type": "code",
   "execution_count": 74,
   "id": "674ef299-d502-4b77-bf15-f2d576cfc53a",
   "metadata": {},
   "outputs": [],
   "source": [
    "#Nightowls\n",
    "\n",
    "night = df_full.groupby('Nightowl_Customer')['prices'].sum()"
   ]
  },
  {
   "cell_type": "code",
   "execution_count": 75,
   "id": "b4422602-e51d-4cd1-811b-30d6e78dfc60",
   "metadata": {},
   "outputs": [
    {
     "data": {
      "text/plain": [
       "Text(0.5, 1.0, '92% of Revenue made between 9a - 5p')"
      ]
     },
     "execution_count": 75,
     "metadata": {},
     "output_type": "execute_result"
    },
    {
     "data": {
      "image/png": "[encoded data removed]",
      "text/plain": [
       "<Figure size 640x480 with 1 Axes>"
      ]
     },
     "metadata": {},
     "output_type": "display_data"
    }
   ],
   "source": [
    "#pie chart\n",
    "\n",
    "night_pie = plt.pie([round(night[0], -1), round(night[1], -1)], \n",
    "                    labels=['Daytime_Customer', 'Nighttime_Customer'],  \n",
    "                    autopct='%1.1f%%', shadow=True, startangle=140)\n",
    "\n",
    "#format\n",
    "plt.title('92% of Revenue made between 9a - 5p')\n",
    "#save\n",
    "#plt.savefig(os.path.join(path, '04 Analysis', 'Visualizations', 'Revenue_Hours.png'))"
   ]
  },
  {
   "cell_type": "code",
   "execution_count": 76,
   "id": "03bc1efe-b651-4b59-a86c-056baa3873ac",
   "metadata": {},
   "outputs": [
    {
     "data": {
      "text/plain": [
       "median_order_frequency\n",
       "7.0                       5609571\n",
       "6.0                       2938791\n",
       "8.0                       2661694\n",
       "5.0                       2459566\n",
       "4.0                       2290619\n",
       "                           ...   \n",
       "27.5                         5005\n",
       "26.5                         4434\n",
       "29.5                         4056\n",
       "1.5                           904\n",
       "0.5                           109\n",
       "Length: 61, dtype: int64"
      ]
     },
     "execution_count": 76,
     "metadata": {},
     "output_type": "execute_result"
    }
   ],
   "source": [
    "df_full[['median_order_frequency']].value_counts()"
   ]
  },
  {
   "cell_type": "code",
   "execution_count": 77,
   "id": "8915bcfc-06a7-44e2-bff5-0227a1a5ee99",
   "metadata": {},
   "outputs": [
    {
     "data": {
      "text/plain": [
       "(            max      mean  min\n",
       " age_group                     \n",
       " young      30.0  9.968750  0.0\n",
       " adult      30.0  9.929688  0.0\n",
       " midlife    30.0  9.968750  0.0\n",
       " elder      30.0  9.960938  0.0,\n",
       " (4, 3))"
      ]
     },
     "execution_count": 77,
     "metadata": {},
     "output_type": "execute_result"
    }
   ],
   "source": [
    "#Aggregate the max, mean, and min variables on a \n",
    "# customer-profile level for usage frequency and expenditure.\n",
    "\n",
    "#aggregate by age group and median usage frequency\n",
    "cust_prof = df_full.groupby(['age_group'])['median_order_frequency'].agg(['max', 'mean', 'min'])\n",
    "cust_prof.head(), cust_prof.shape\n",
    "\n"
   ]
  },
  {
   "cell_type": "code",
   "execution_count": 78,
   "id": "ddf0912f-54be-4f2a-9876-4e6a1c636d4d",
   "metadata": {},
   "outputs": [
    {
     "data": {
      "text/plain": [
       "(['order_id',\n",
       "  'customer_id',\n",
       "  'customer_order_number',\n",
       "  'orders_day_of_week',\n",
       "  'order_hour_of_day',\n",
       "  'days_between_last_order',\n",
       "  'first_order',\n",
       "  'product_id',\n",
       "  'add_to_cart_order',\n",
       "  'reordered',\n",
       "  'product_name',\n",
       "  'aisle_id',\n",
       "  'department_id',\n",
       "  'prices',\n",
       "  '_merge',\n",
       "  'price_range_loc',\n",
       "  'Busiest Days',\n",
       "  'busiest_hours_of_day',\n",
       "  'max_orders',\n",
       "  'loyalty_flag',\n",
       "  'avg_cust_spend',\n",
       "  'Customer_Spend',\n",
       "  'median_order_frequency',\n",
       "  'Order_Frequency',\n",
       "  'Gender',\n",
       "  'State',\n",
       "  'Age',\n",
       "  'date_joined',\n",
       "  'Dependents',\n",
       "  'Marital_Status',\n",
       "  'Income',\n",
       "  'Region',\n",
       "  'weekend_ratio',\n",
       "  'weekend_customer',\n",
       "  'age_group',\n",
       "  'income_brackets',\n",
       "  'top_one_percent',\n",
       "  'top_ten_percent',\n",
       "  'Children',\n",
       "  'Nightowl_Orders',\n",
       "  'Nightowl_Ratio',\n",
       "  'Nightowl_Customer',\n",
       "  'index',\n",
       "  'department_names',\n",
       "  'income_brackets_2',\n",
       "  'total_expenditure'],\n",
       " count    3.099266e+07\n",
       " mean     3.423389e+03\n",
       " std      2.932014e+03\n",
       " min      5.000000e+00\n",
       " 25%      1.245497e+03\n",
       " 50%      2.540801e+03\n",
       " 75%      4.783067e+03\n",
       " max      2.664999e+04\n",
       " Name: total_expenditure, dtype: float64)"
      ]
     },
     "execution_count": 78,
     "metadata": {},
     "output_type": "execute_result"
    }
   ],
   "source": [
    "#create total expenditure column by customer_id and merge into df_full\n",
    "df_full['total_expenditure'] = df_full.groupby('customer_id')['prices'].transform('sum')\n",
    "df_full.columns.tolist(), df_full['total_expenditure'].describe()"
   ]
  },
  {
   "cell_type": "code",
   "execution_count": 79,
   "id": "382dd269-6fe5-41c1-ae74-0a9566def0bc",
   "metadata": {},
   "outputs": [
    {
     "data": {
      "text/html": [
       "<div>\n",
       "<style scoped>\n",
       "    .dataframe tbody tr th:only-of-type {\n",
       "        vertical-align: middle;\n",
       "    }\n",
       "\n",
       "    .dataframe tbody tr th {\n",
       "        vertical-align: top;\n",
       "    }\n",
       "\n",
       "    .dataframe thead th {\n",
       "        text-align: right;\n",
       "    }\n",
       "</style>\n",
       "<table border=\"1\" class=\"dataframe\">\n",
       "  <thead>\n",
       "    <tr style=\"text-align: right;\">\n",
       "      <th></th>\n",
       "      <th>max</th>\n",
       "      <th>mean</th>\n",
       "      <th>min</th>\n",
       "    </tr>\n",
       "    <tr>\n",
       "      <th>loyalty_flag</th>\n",
       "      <th></th>\n",
       "      <th></th>\n",
       "      <th></th>\n",
       "    </tr>\n",
       "  </thead>\n",
       "  <tbody>\n",
       "    <tr>\n",
       "      <th>Loyal Customer</th>\n",
       "      <td>26649.994141</td>\n",
       "      <td>6162.686106</td>\n",
       "      <td>156.000000</td>\n",
       "    </tr>\n",
       "    <tr>\n",
       "      <th>New Customer</th>\n",
       "      <td>3170.588867</td>\n",
       "      <td>737.924316</td>\n",
       "      <td>5.000000</td>\n",
       "    </tr>\n",
       "    <tr>\n",
       "      <th>Regular Customer</th>\n",
       "      <td>12186.313477</td>\n",
       "      <td>2381.417476</td>\n",
       "      <td>12.998047</td>\n",
       "    </tr>\n",
       "  </tbody>\n",
       "</table>\n",
       "</div>"
      ],
      "text/plain": [
       "                           max         mean         min\n",
       "loyalty_flag                                           \n",
       "Loyal Customer    26649.994141  6162.686106  156.000000\n",
       "New Customer       3170.588867   737.924316    5.000000\n",
       "Regular Customer  12186.313477  2381.417476   12.998047"
      ]
     },
     "execution_count": 79,
     "metadata": {},
     "output_type": "execute_result"
    }
   ],
   "source": [
    "#aggregate by loyalty and total expenditure\n",
    "loyal = df_full.groupby('loyalty_flag')['total_expenditure'].agg(['max', 'mean', 'min'])\n",
    "loyal"
   ]
  },
  {
   "cell_type": "code",
   "execution_count": 80,
   "id": "f8a523f8-4527-4cc1-baea-a6ee128f4074",
   "metadata": {},
   "outputs": [
    {
     "data": {
      "text/html": [
       "<div>\n",
       "<style scoped>\n",
       "    .dataframe tbody tr th:only-of-type {\n",
       "        vertical-align: middle;\n",
       "    }\n",
       "\n",
       "    .dataframe tbody tr th {\n",
       "        vertical-align: top;\n",
       "    }\n",
       "\n",
       "    .dataframe thead th {\n",
       "        text-align: right;\n",
       "    }\n",
       "</style>\n",
       "<table border=\"1\" class=\"dataframe\">\n",
       "  <thead>\n",
       "    <tr style=\"text-align: right;\">\n",
       "      <th></th>\n",
       "      <th>mean</th>\n",
       "      <th>min</th>\n",
       "      <th>max</th>\n",
       "    </tr>\n",
       "    <tr>\n",
       "      <th>Region</th>\n",
       "      <th></th>\n",
       "      <th></th>\n",
       "      <th></th>\n",
       "    </tr>\n",
       "  </thead>\n",
       "  <tbody>\n",
       "    <tr>\n",
       "      <th>Midwest</th>\n",
       "      <td>3363.465412</td>\n",
       "      <td>7.000000</td>\n",
       "      <td>26649.994141</td>\n",
       "    </tr>\n",
       "    <tr>\n",
       "      <th>Northeast</th>\n",
       "      <td>3444.441781</td>\n",
       "      <td>7.697266</td>\n",
       "      <td>22777.644531</td>\n",
       "    </tr>\n",
       "    <tr>\n",
       "      <th>South</th>\n",
       "      <td>3429.558149</td>\n",
       "      <td>6.798828</td>\n",
       "      <td>24319.194336</td>\n",
       "    </tr>\n",
       "    <tr>\n",
       "      <th>West</th>\n",
       "      <td>3455.738874</td>\n",
       "      <td>5.000000</td>\n",
       "      <td>18908.960938</td>\n",
       "    </tr>\n",
       "  </tbody>\n",
       "</table>\n",
       "</div>"
      ],
      "text/plain": [
       "                  mean       min           max\n",
       "Region                                        \n",
       "Midwest    3363.465412  7.000000  26649.994141\n",
       "Northeast  3444.441781  7.697266  22777.644531\n",
       "South      3429.558149  6.798828  24319.194336\n",
       "West       3455.738874  5.000000  18908.960938"
      ]
     },
     "execution_count": 80,
     "metadata": {},
     "output_type": "execute_result"
    }
   ],
   "source": [
    "#Regional analysis by total customer spend\n",
    "\n",
    "reg = df_full.groupby(['Region'])['total_expenditure'].agg(['mean', 'min', 'max'])\n",
    "reg\n"
   ]
  },
  {
   "cell_type": "code",
   "execution_count": 81,
   "id": "4cde6049-22d9-4139-a839-a9f81b571601",
   "metadata": {},
   "outputs": [
    {
     "name": "stdout",
     "output_type": "stream",
     "text": [
      "              Region product_name        prices\n",
      "Region                                         \n",
      "Midwest      Midwest       Banana  1.301009e+06\n",
      "Northeast  Northeast       Banana  9.820284e+05\n",
      "South          South       Banana  1.866125e+06\n",
      "West            West       Banana  1.423339e+06\n"
     ]
    }
   ],
   "source": [
    "# #top product by region\n",
    "# reg_prod = df_full.groupby('Region')['product_name']\n",
    "# top_name = reg_prod.groupby('product_name')['prices'].sum()\n",
    "# top_name.sort_values(ascending=False, inplace=True)\n",
    "# top_name.head(1)\n",
    "# Group by 'Region' and 'product_name' to calculate the sum of prices for each product within each region\n",
    "reg_prod = df_full.groupby(['Region', 'product_name'])['prices'].sum().reset_index()\n",
    "\n",
    "# Find the top product for each region\n",
    "top_products = reg_prod.groupby('Region').apply(lambda x: x.loc[x['prices'].idxmax()])\n",
    "\n",
    "# Display the top product for each region\n",
    "print(top_products[['Region', 'product_name', 'prices']])\n"
   ]
  },
  {
   "cell_type": "code",
   "execution_count": 82,
   "id": "77122d89-dba1-47f8-8228-f1ad7b4cfd45",
   "metadata": {},
   "outputs": [
    {
     "data": {
      "text/plain": [
       "Text(0.5, 1.0, 'Most Popular Product by Region: Banana')"
      ]
     },
     "execution_count": 82,
     "metadata": {},
     "output_type": "execute_result"
    },
    {
     "data": {
      "image/png": "[encoded data removed]",
      "text/plain": [
       "<Figure size 640x480 with 1 Axes>"
      ]
     },
     "metadata": {},
     "output_type": "display_data"
    }
   ],
   "source": [
    "bar_prod = sns.barplot(x='Region', y='prices', data=top_products)\n",
    "plt.title('Most Popular Product by Region: Banana')"
   ]
  },
  {
   "cell_type": "code",
   "execution_count": 83,
   "id": "dd9a50a8-caf3-4893-892b-839a542734ad",
   "metadata": {},
   "outputs": [],
   "source": [
    "#export\n",
    "bar_prod.figure.savefig(os.path.join(path, '04 Analysis', 'Visualizations', 'Top_Prod_Region.png'))"
   ]
  },
  {
   "cell_type": "markdown",
   "id": "810bff28-c4ba-40fe-af86-16e5a4e4d58f",
   "metadata": {},
   "source": [
    "# feature engineering\n",
    "customer Profiles"
   ]
  },
  {
   "cell_type": "code",
   "execution_count": 84,
   "id": "ece58c10-1bce-4b7c-a486-a4372368fe46",
   "metadata": {},
   "outputs": [
    {
     "data": {
      "text/plain": [
       "(young      8746779\n",
       " adult      8258069\n",
       " midlife    8170060\n",
       " elder      5817756\n",
       " Name: age_group, dtype: int64,\n",
       " 3    7779452\n",
       " 0    7747032\n",
       " 2    7740199\n",
       " 1    7725981\n",
       " Name: Dependents, dtype: int64,\n",
       " married                             21763021\n",
       " single                               5099271\n",
       " divorced/widowed                     2647761\n",
       " living with parents and siblings     1482611\n",
       " Name: Marital_Status, dtype: int64)"
      ]
     },
     "execution_count": 84,
     "metadata": {},
     "output_type": "execute_result"
    }
   ],
   "source": [
    "df_full['age_group'].value_counts(), df_full['Dependents'].value_counts(), df_full['Marital_Status'].value_counts(), "
   ]
  },
  {
   "cell_type": "code",
   "execution_count": null,
   "id": "7a1fa4c4-d751-4fa4-913f-0c4e396e5388",
   "metadata": {},
   "outputs": [],
   "source": []
  },
  {
   "cell_type": "code",
   "execution_count": 85,
   "id": "b06575d0-fd8f-431e-9720-c0125b35021e",
   "metadata": {},
   "outputs": [],
   "source": [
    "# This was crashing, so we found a vectorized implementation below\n",
    "#create 4 profiles based on dependents, marriage status, and age group\n",
    "\n",
    "# def customer_profile(row):\n",
    "#     age_group = row['age_group']\n",
    "#     dependents = row['Dependents']\n",
    "#     marriage = row['Marital_Status']\n",
    "    \n",
    "#     if age_group == 'young' and marriage != 'married' and dependents > 0:\n",
    "#         return 'Young Single Parent'\n",
    "#     if age_group != 'young' and marriage != 'married' and dependents == 0:\n",
    "#         return 'Single Adult No Kids'\n",
    "#     if marriage == 'married' and dependents == 3:\n",
    "#         return 'Large Family'\n",
    "#     if marriage == 'married' and dependents ==0:\n",
    "#         return 'Family No Kids'\n",
    "#     else:\n",
    "#         return 'Other'\n",
    "\n",
    "# df_full['customer_profile'] = df_full.apply(customer_profile, axis=1)\n",
    "# df_full['customer_profile'].value_counts()"
   ]
  },
  {
   "cell_type": "markdown",
   "id": "1d28e072-5321-42e8-8cf0-1d2733e7e186",
   "metadata": {},
   "source": [
    "# Feature Engineering\n",
    "Customer Profiles:# "
   ]
  },
  {
   "cell_type": "code",
   "execution_count": 86,
   "id": "06da131e-8b34-4fb8-b02e-97e797926e4f",
   "metadata": {},
   "outputs": [
    {
     "data": {
      "text/plain": [
       "midlife        15048030\n",
       "elder          10121613\n",
       "young adult     5823021\n",
       "Name: age_group, dtype: int64"
      ]
     },
     "execution_count": 86,
     "metadata": {},
     "output_type": "execute_result"
    }
   ],
   "source": [
    "#change df_full['age_group'] to be 3 groups, young adult, midlife, elder\n",
    "#Age profile\n",
    "\n",
    "# Create a new column with age groups\n",
    "df_full['age_group'] = pd.cut(df_['Age'], bins=[17, 29, 60, 86], \n",
    "                         labels=['young adult', 'midlife', 'elder'],\n",
    "                         )\n",
    "# check the DataFrame \n",
    "df_full['age_group'].value_counts()"
   ]
  },
  {
   "cell_type": "code",
   "execution_count": 87,
   "id": "4693fe7e-499d-4378-ab25-a314097fcc6d",
   "metadata": {},
   "outputs": [],
   "source": [
    "# Young Single No Kids: Customers who are in the \"young\" age group, not married, and have no dependents.\n",
    "# Young Married No Kids: Customers who are in the \"young\" age group, married, and have no dependents.\n",
    "# Young Single With Kids: Customers who are in the \"young\" age group, not married, and have dependents.\n",
    "# Young Married With Kids: Customers who are in the \"young\" age group, married, and have dependents.\n",
    "# Midlife Single No Kids: Customers who are in the \"midlife\" age group, not married, and have no dependents.\n",
    "# Midlife Married No Kids: Customers who are in the \"midlife\" age group, married, and have no dependents.\n",
    "# Midlife Single With Kids: Customers who are in the \"midlife\" age group, not married, and have dependents.\n",
    "# Midlife Married With Kids: Customers who are in the \"midlife\" age group, married, and have dependents.\n",
    "# Elder Single No Kids: Customers who are in the \"elder\" age group, not married, and have no dependents.\n",
    "# Elder Married No Kids: Customers who are in the \"elder\" age group, married, and have no dependents.\n",
    "# Elder Single With Kids: Customers who are in the \"elder\" age group, not married, and have dependents.\n",
    "# Elder Married With Kids: Customers who are in the \"elder\" age group, married, and have dependents.\n"
   ]
  },
  {
   "cell_type": "code",
   "execution_count": 88,
   "id": "78ebcf13-b203-4670-89ee-8d1c4c2c85b5",
   "metadata": {},
   "outputs": [
    {
     "data": {
      "text/plain": [
       "Midlife Married With Kids    11285598\n",
       "Elder Married With Kids       7586073\n",
       "Midlife Single No Kids        3762432\n",
       "Young Married With Kids       2891350\n",
       "Elder Single No Kids          2535540\n",
       "Young Single With Kids        1482611\n",
       "Young Single No Kids          1449060\n",
       "Name: customer_profile, dtype: int64"
      ]
     },
     "execution_count": 88,
     "metadata": {},
     "output_type": "execute_result"
    }
   ],
   "source": [
    "# Vectorized implementation\n",
    "conditions = [\n",
    "    (df_full['age_group'] == 'young adult') & (df_full['Marital_Status'].isin(['single', 'divorced/widowed', 'living with parents and siblings'])) & (df_full['Dependents'] == 0),\n",
    "    (df_full['age_group'] == 'young adult') & (df_full['Marital_Status'] == 'married') & (df_full['Dependents'] == 0),\n",
    "    (df_full['age_group'] == 'young adult') & (df_full['Marital_Status'].isin(['single', 'divorced/widowed', 'living with parents and siblings'])) & (df_full['Dependents'] > 0),\n",
    "    (df_full['age_group'] == 'young adult') & (df_full['Marital_Status'] == 'married') & (df_full['Dependents'] > 0),\n",
    "    (df_full['age_group'] == 'midlife') & (df_full['Marital_Status'].isin(['single', 'divorced/widowed', 'living with parents and siblings'])) & (df_full['Dependents'] == 0),\n",
    "    (df_full['age_group'] == 'midlife') & (df_full['Marital_Status'] == 'married') & (df_full['Dependents'] == 0),\n",
    "    (df_full['age_group'] == 'midlife') & (df_full['Marital_Status'].isin(['single', 'divorced/widowed', 'living with parents and siblings'])) & (df_full['Dependents'] > 0),\n",
    "    (df_full['age_group'] == 'midlife') & (df_full['Marital_Status'] == 'married') & (df_full['Dependents'] > 0),\n",
    "    (df_full['age_group'] == 'elder') & (df_full['Marital_Status'].isin(['single', 'divorced/widowed', 'living with parents and siblings'])) & (df_full['Dependents'] == 0),\n",
    "    (df_full['age_group'] == 'elder') & (df_full['Marital_Status'] == 'married') & (df_full['Dependents'] == 0),\n",
    "    (df_full['age_group'] == 'elder') & (df_full['Marital_Status'].isin(['single', 'divorced/widowed', 'living with parents and siblings'])) & (df_full['Dependents'] > 0),\n",
    "    (df_full['age_group'] == 'elder') & (df_full['Marital_Status'] == 'married') & (df_full['Dependents'] > 0)\n",
    "]\n",
    "\n",
    "choices = ['Young Single No Kids', 'Young Married No Kids', 'Young Single With Kids', 'Young Married With Kids',\n",
    "           'Midlife Single No Kids', 'Midlife Married No Kids', 'Midlife Single With Kids', 'Midlife Married With Kids',\n",
    "           'Elder Single No Kids', 'Elder Married No Kids', 'Elder Single With Kids', 'Elder Married With Kids']\n",
    "\n",
    "df_full['customer_profile'] = np.select(conditions, choices, default='Other')\n",
    "df_full['customer_profile'].value_counts()\n"
   ]
  },
  {
   "cell_type": "markdown",
   "id": "f2026f48-6123-49c1-b8dd-f59f8c3087a9",
   "metadata": {},
   "source": [
    "# 12 possible customer profiles leads to  realized profiles and 'other'"
   ]
  },
  {
   "cell_type": "code",
   "execution_count": null,
   "id": "3f1573cc-3be0-44a1-ae1a-2bc886089ff4",
   "metadata": {},
   "outputs": [],
   "source": []
  },
  {
   "cell_type": "code",
   "execution_count": null,
   "id": "4c46a94d-93d2-4eec-a954-321141dd5e5f",
   "metadata": {},
   "outputs": [],
   "source": []
  },
  {
   "cell_type": "code",
   "execution_count": 89,
   "id": "af1340f4-7e90-440c-95ea-a390612ad531",
   "metadata": {},
   "outputs": [],
   "source": [
    "# export cust_reg as csv for further analysis\n",
    "#cust_reg.to_csv(os.path.join(path, '02 Data', 'customer_region.csv'))\n"
   ]
  },
  {
   "cell_type": "code",
   "execution_count": 90,
   "id": "fc748454-04eb-4ad7-a597-da748a753ca6",
   "metadata": {},
   "outputs": [],
   "source": [
    "#export df_full as pkl file to avoid issues from kernel crashing\n",
    "df_full.to_pickle(os.path.join(path, '02 Data', 'Prepared Data', 'Df_Cust_Profs.pkl'))\n"
   ]
  },
  {
   "cell_type": "code",
   "execution_count": null,
   "id": "f01698a0-a5c1-4dbf-8907-66723c81b593",
   "metadata": {},
   "outputs": [],
   "source": []
  },
  {
   "cell_type": "code",
   "execution_count": null,
   "id": "b62b5f13-3086-4583-b323-d30f5a4a04e6",
   "metadata": {},
   "outputs": [],
   "source": []
  },
  {
   "cell_type": "code",
   "execution_count": 91,
   "id": "05c7ef03-8143-4083-8bea-4055c55d4760",
   "metadata": {},
   "outputs": [],
   "source": [
    "# #make mapping table for tableau geographic visualizations\n",
    "# map_reg = df_full[['State', 'Region']].drop_duplicates()\n",
    "# map_reg.head(10), map_reg.shape"
   ]
  },
  {
   "cell_type": "code",
   "execution_count": 92,
   "id": "be115164-0721-4553-babe-63d7158a1ca9",
   "metadata": {},
   "outputs": [
    {
     "data": {
      "text/html": [
       "<div>\n",
       "<style scoped>\n",
       "    .dataframe tbody tr th:only-of-type {\n",
       "        vertical-align: middle;\n",
       "    }\n",
       "\n",
       "    .dataframe tbody tr th {\n",
       "        vertical-align: top;\n",
       "    }\n",
       "\n",
       "    .dataframe thead th {\n",
       "        text-align: right;\n",
       "    }\n",
       "</style>\n",
       "<table border=\"1\" class=\"dataframe\">\n",
       "  <thead>\n",
       "    <tr style=\"text-align: right;\">\n",
       "      <th></th>\n",
       "      <th></th>\n",
       "      <th>count</th>\n",
       "      <th>mean</th>\n",
       "      <th>min</th>\n",
       "      <th>max</th>\n",
       "      <th>sum</th>\n",
       "    </tr>\n",
       "    <tr>\n",
       "      <th>customer_profile</th>\n",
       "      <th>Region</th>\n",
       "      <th></th>\n",
       "      <th></th>\n",
       "      <th></th>\n",
       "      <th></th>\n",
       "      <th></th>\n",
       "    </tr>\n",
       "  </thead>\n",
       "  <tbody>\n",
       "    <tr>\n",
       "      <th rowspan=\"4\" valign=\"top\">Elder Married With Kids</th>\n",
       "      <th>Midwest</th>\n",
       "      <td>1763209</td>\n",
       "      <td>3265.901794</td>\n",
       "      <td>12.000000</td>\n",
       "      <td>26649.994141</td>\n",
       "      <td>5.758467e+09</td>\n",
       "    </tr>\n",
       "    <tr>\n",
       "      <th>Northeast</th>\n",
       "      <td>1350107</td>\n",
       "      <td>3512.283149</td>\n",
       "      <td>11.402344</td>\n",
       "      <td>22777.644531</td>\n",
       "      <td>4.741958e+09</td>\n",
       "    </tr>\n",
       "    <tr>\n",
       "      <th>South</th>\n",
       "      <td>2525284</td>\n",
       "      <td>3387.546277</td>\n",
       "      <td>6.798828</td>\n",
       "      <td>19024.785156</td>\n",
       "      <td>8.554516e+09</td>\n",
       "    </tr>\n",
       "    <tr>\n",
       "      <th>West</th>\n",
       "      <td>1947473</td>\n",
       "      <td>3454.742578</td>\n",
       "      <td>11.203125</td>\n",
       "      <td>18331.501953</td>\n",
       "      <td>6.728018e+09</td>\n",
       "    </tr>\n",
       "    <tr>\n",
       "      <th rowspan=\"4\" valign=\"top\">Elder Single No Kids</th>\n",
       "      <th>Midwest</th>\n",
       "      <td>595387</td>\n",
       "      <td>3577.171363</td>\n",
       "      <td>16.096680</td>\n",
       "      <td>17519.114258</td>\n",
       "      <td>2.129801e+09</td>\n",
       "    </tr>\n",
       "    <tr>\n",
       "      <th>Northeast</th>\n",
       "      <td>460654</td>\n",
       "      <td>3335.992609</td>\n",
       "      <td>17.097656</td>\n",
       "      <td>17096.540039</td>\n",
       "      <td>1.536738e+09</td>\n",
       "    </tr>\n",
       "    <tr>\n",
       "      <th>South</th>\n",
       "      <td>838950</td>\n",
       "      <td>3522.712671</td>\n",
       "      <td>15.695312</td>\n",
       "      <td>24319.194336</td>\n",
       "      <td>2.955380e+09</td>\n",
       "    </tr>\n",
       "    <tr>\n",
       "      <th>West</th>\n",
       "      <td>640549</td>\n",
       "      <td>3438.843546</td>\n",
       "      <td>20.295898</td>\n",
       "      <td>16177.197266</td>\n",
       "      <td>2.202748e+09</td>\n",
       "    </tr>\n",
       "    <tr>\n",
       "      <th rowspan=\"4\" valign=\"top\">Midlife Married With Kids</th>\n",
       "      <th>Midwest</th>\n",
       "      <td>2653160</td>\n",
       "      <td>3399.463366</td>\n",
       "      <td>7.000000</td>\n",
       "      <td>20636.345703</td>\n",
       "      <td>9.019320e+09</td>\n",
       "    </tr>\n",
       "    <tr>\n",
       "      <th>Northeast</th>\n",
       "      <td>2003741</td>\n",
       "      <td>3457.293167</td>\n",
       "      <td>10.000000</td>\n",
       "      <td>21509.728516</td>\n",
       "      <td>6.927520e+09</td>\n",
       "    </tr>\n",
       "    <tr>\n",
       "      <th>South</th>\n",
       "      <td>3743201</td>\n",
       "      <td>3402.671125</td>\n",
       "      <td>10.000000</td>\n",
       "      <td>22696.594727</td>\n",
       "      <td>1.273688e+10</td>\n",
       "    </tr>\n",
       "    <tr>\n",
       "      <th>West</th>\n",
       "      <td>2885496</td>\n",
       "      <td>3487.251723</td>\n",
       "      <td>10.398438</td>\n",
       "      <td>18908.960938</td>\n",
       "      <td>1.006245e+10</td>\n",
       "    </tr>\n",
       "    <tr>\n",
       "      <th rowspan=\"4\" valign=\"top\">Midlife Single No Kids</th>\n",
       "      <th>Midwest</th>\n",
       "      <td>899005</td>\n",
       "      <td>3384.408575</td>\n",
       "      <td>12.599609</td>\n",
       "      <td>20238.495117</td>\n",
       "      <td>3.042600e+09</td>\n",
       "    </tr>\n",
       "    <tr>\n",
       "      <th>Northeast</th>\n",
       "      <td>630434</td>\n",
       "      <td>3212.753388</td>\n",
       "      <td>7.697266</td>\n",
       "      <td>15262.964844</td>\n",
       "      <td>2.025429e+09</td>\n",
       "    </tr>\n",
       "    <tr>\n",
       "      <th>South</th>\n",
       "      <td>1250457</td>\n",
       "      <td>3459.114938</td>\n",
       "      <td>11.099609</td>\n",
       "      <td>20314.125977</td>\n",
       "      <td>4.325474e+09</td>\n",
       "    </tr>\n",
       "    <tr>\n",
       "      <th>West</th>\n",
       "      <td>982536</td>\n",
       "      <td>3547.341365</td>\n",
       "      <td>5.000000</td>\n",
       "      <td>13562.327148</td>\n",
       "      <td>3.485391e+09</td>\n",
       "    </tr>\n",
       "    <tr>\n",
       "      <th rowspan=\"4\" valign=\"top\">Young Married With Kids</th>\n",
       "      <th>Midwest</th>\n",
       "      <td>675159</td>\n",
       "      <td>3324.339998</td>\n",
       "      <td>34.400391</td>\n",
       "      <td>14263.125000</td>\n",
       "      <td>2.244458e+09</td>\n",
       "    </tr>\n",
       "    <tr>\n",
       "      <th>Northeast</th>\n",
       "      <td>503609</td>\n",
       "      <td>3484.396257</td>\n",
       "      <td>24.603516</td>\n",
       "      <td>18350.867188</td>\n",
       "      <td>1.754773e+09</td>\n",
       "    </tr>\n",
       "    <tr>\n",
       "      <th>South</th>\n",
       "      <td>961720</td>\n",
       "      <td>3436.186134</td>\n",
       "      <td>11.398438</td>\n",
       "      <td>18468.113281</td>\n",
       "      <td>3.304649e+09</td>\n",
       "    </tr>\n",
       "    <tr>\n",
       "      <th>West</th>\n",
       "      <td>750862</td>\n",
       "      <td>3366.926887</td>\n",
       "      <td>15.000000</td>\n",
       "      <td>15856.664062</td>\n",
       "      <td>2.528097e+09</td>\n",
       "    </tr>\n",
       "    <tr>\n",
       "      <th rowspan=\"4\" valign=\"top\">Young Single No Kids</th>\n",
       "      <th>Midwest</th>\n",
       "      <td>330095</td>\n",
       "      <td>3309.954748</td>\n",
       "      <td>40.697266</td>\n",
       "      <td>18882.581055</td>\n",
       "      <td>1.092600e+09</td>\n",
       "    </tr>\n",
       "    <tr>\n",
       "      <th>Northeast</th>\n",
       "      <td>264740</td>\n",
       "      <td>3387.545360</td>\n",
       "      <td>25.101562</td>\n",
       "      <td>17585.588867</td>\n",
       "      <td>8.968188e+08</td>\n",
       "    </tr>\n",
       "    <tr>\n",
       "      <th>South</th>\n",
       "      <td>494945</td>\n",
       "      <td>3532.815005</td>\n",
       "      <td>24.000000</td>\n",
       "      <td>14338.513672</td>\n",
       "      <td>1.748549e+09</td>\n",
       "    </tr>\n",
       "    <tr>\n",
       "      <th>West</th>\n",
       "      <td>359280</td>\n",
       "      <td>3227.473401</td>\n",
       "      <td>10.498047</td>\n",
       "      <td>14367.837891</td>\n",
       "      <td>1.159567e+09</td>\n",
       "    </tr>\n",
       "    <tr>\n",
       "      <th rowspan=\"4\" valign=\"top\">Young Single With Kids</th>\n",
       "      <th>Midwest</th>\n",
       "      <td>351692</td>\n",
       "      <td>3291.045338</td>\n",
       "      <td>20.000000</td>\n",
       "      <td>11860.749023</td>\n",
       "      <td>1.157434e+09</td>\n",
       "    </tr>\n",
       "    <tr>\n",
       "      <th>Northeast</th>\n",
       "      <td>256783</td>\n",
       "      <td>3731.139719</td>\n",
       "      <td>35.800781</td>\n",
       "      <td>15395.317383</td>\n",
       "      <td>9.580933e+08</td>\n",
       "    </tr>\n",
       "    <tr>\n",
       "      <th>South</th>\n",
       "      <td>505905</td>\n",
       "      <td>3497.047567</td>\n",
       "      <td>14.402344</td>\n",
       "      <td>16047.520508</td>\n",
       "      <td>1.769174e+09</td>\n",
       "    </tr>\n",
       "    <tr>\n",
       "      <th>West</th>\n",
       "      <td>368231</td>\n",
       "      <td>3402.854581</td>\n",
       "      <td>21.798828</td>\n",
       "      <td>16007.270508</td>\n",
       "      <td>1.253037e+09</td>\n",
       "    </tr>\n",
       "  </tbody>\n",
       "</table>\n",
       "</div>"
      ],
      "text/plain": [
       "                                       count         mean        min  \\\n",
       "customer_profile          Region                                       \n",
       "Elder Married With Kids   Midwest    1763209  3265.901794  12.000000   \n",
       "                          Northeast  1350107  3512.283149  11.402344   \n",
       "                          South      2525284  3387.546277   6.798828   \n",
       "                          West       1947473  3454.742578  11.203125   \n",
       "Elder Single No Kids      Midwest     595387  3577.171363  16.096680   \n",
       "                          Northeast   460654  3335.992609  17.097656   \n",
       "                          South       838950  3522.712671  15.695312   \n",
       "                          West        640549  3438.843546  20.295898   \n",
       "Midlife Married With Kids Midwest    2653160  3399.463366   7.000000   \n",
       "                          Northeast  2003741  3457.293167  10.000000   \n",
       "                          South      3743201  3402.671125  10.000000   \n",
       "                          West       2885496  3487.251723  10.398438   \n",
       "Midlife Single No Kids    Midwest     899005  3384.408575  12.599609   \n",
       "                          Northeast   630434  3212.753388   7.697266   \n",
       "                          South      1250457  3459.114938  11.099609   \n",
       "                          West        982536  3547.341365   5.000000   \n",
       "Young Married With Kids   Midwest     675159  3324.339998  34.400391   \n",
       "                          Northeast   503609  3484.396257  24.603516   \n",
       "                          South       961720  3436.186134  11.398438   \n",
       "                          West        750862  3366.926887  15.000000   \n",
       "Young Single No Kids      Midwest     330095  3309.954748  40.697266   \n",
       "                          Northeast   264740  3387.545360  25.101562   \n",
       "                          South       494945  3532.815005  24.000000   \n",
       "                          West        359280  3227.473401  10.498047   \n",
       "Young Single With Kids    Midwest     351692  3291.045338  20.000000   \n",
       "                          Northeast   256783  3731.139719  35.800781   \n",
       "                          South       505905  3497.047567  14.402344   \n",
       "                          West        368231  3402.854581  21.798828   \n",
       "\n",
       "                                              max           sum  \n",
       "customer_profile          Region                                 \n",
       "Elder Married With Kids   Midwest    26649.994141  5.758467e+09  \n",
       "                          Northeast  22777.644531  4.741958e+09  \n",
       "                          South      19024.785156  8.554516e+09  \n",
       "                          West       18331.501953  6.728018e+09  \n",
       "Elder Single No Kids      Midwest    17519.114258  2.129801e+09  \n",
       "                          Northeast  17096.540039  1.536738e+09  \n",
       "                          South      24319.194336  2.955380e+09  \n",
       "                          West       16177.197266  2.202748e+09  \n",
       "Midlife Married With Kids Midwest    20636.345703  9.019320e+09  \n",
       "                          Northeast  21509.728516  6.927520e+09  \n",
       "                          South      22696.594727  1.273688e+10  \n",
       "                          West       18908.960938  1.006245e+10  \n",
       "Midlife Single No Kids    Midwest    20238.495117  3.042600e+09  \n",
       "                          Northeast  15262.964844  2.025429e+09  \n",
       "                          South      20314.125977  4.325474e+09  \n",
       "                          West       13562.327148  3.485391e+09  \n",
       "Young Married With Kids   Midwest    14263.125000  2.244458e+09  \n",
       "                          Northeast  18350.867188  1.754773e+09  \n",
       "                          South      18468.113281  3.304649e+09  \n",
       "                          West       15856.664062  2.528097e+09  \n",
       "Young Single No Kids      Midwest    18882.581055  1.092600e+09  \n",
       "                          Northeast  17585.588867  8.968188e+08  \n",
       "                          South      14338.513672  1.748549e+09  \n",
       "                          West       14367.837891  1.159567e+09  \n",
       "Young Single With Kids    Midwest    11860.749023  1.157434e+09  \n",
       "                          Northeast  15395.317383  9.580933e+08  \n",
       "                          South      16047.520508  1.769174e+09  \n",
       "                          West       16007.270508  1.253037e+09  "
      ]
     },
     "execution_count": 92,
     "metadata": {},
     "output_type": "execute_result"
    }
   ],
   "source": [
    "#compare 7 customer profiles and regions\n",
    "\n",
    "cust_reg = df_full.groupby(['customer_profile', 'Region'])['total_expenditure'].agg(['count', 'mean', 'min', 'max', 'sum'])\n",
    "cust_reg"
   ]
  },
  {
   "cell_type": "code",
   "execution_count": null,
   "id": "3fc39f86-a8ef-43dc-ae4d-cdcfb04a96ef",
   "metadata": {},
   "outputs": [],
   "source": []
  },
  {
   "cell_type": "code",
   "execution_count": null,
   "id": "cc75f0cf-fc8e-4f3c-8d29-e59613f6c213",
   "metadata": {},
   "outputs": [],
   "source": []
  },
  {
   "cell_type": "code",
   "execution_count": null,
   "id": "3428d34d-3111-4d5e-8743-435ff4521aee",
   "metadata": {},
   "outputs": [],
   "source": []
  },
  {
   "cell_type": "code",
   "execution_count": null,
   "id": "ad89cb14-8193-4acb-bc58-331e8baf708f",
   "metadata": {},
   "outputs": [],
   "source": []
  },
  {
   "cell_type": "code",
   "execution_count": null,
   "id": "58a970a9-fe76-4cf9-9b12-256d9746ae53",
   "metadata": {},
   "outputs": [],
   "source": []
  },
  {
   "cell_type": "code",
   "execution_count": null,
   "id": "f1875699-3782-4920-85ae-8521f1bce063",
   "metadata": {},
   "outputs": [],
   "source": []
  },
  {
   "cell_type": "code",
   "execution_count": null,
   "id": "d3cae31e-6c4f-421b-a4fa-076eb330969f",
   "metadata": {},
   "outputs": [],
   "source": []
  },
  {
   "cell_type": "markdown",
   "id": "7f6e0c79-a614-4320-87f7-44a5be308d14",
   "metadata": {},
   "source": [
    "<!--Part 1\n",
    "\n",
    "<!-- Import the data set you exported in Exercise 4.9 into a new Jupyter notebook. This should be the \n",
    "merged version of your data that contains the new customers column.\n",
    "Consider any security implications that might exist for this new data. You’ll need to address any \n",
    "PII data in the data before continuing your analysis.\n",
    "The Instacart officers are interested in comparing customer behavior in different geographic areas. \n",
    "Create a regional segmentation of the data. You’ll need to create a “Region” column based on the “State” \n",
    "column from your customers data set.\n",
    "Use the region information in this Wikipedia article to create your column (you only need to create regions, \n",
    "not divisions). -->\n",
    "<!-- Determine whether there’s a difference in spending habits between the different U.S. regions. (Hint: You \n",
    "can do this by crossing the variable you just created with the spending flag.)\n",
    " -->\n",
    "<!-- The Instacart CFO isn’t interested in customers who don’t generate much revenue for the app. Create an \n",
    "exclusion flag for low-activity customers (customers with less than 5 orders) and exclude them from the \n",
    "data. Make sure you export this sample.\n",
    " -->\n",
    "<!-- The marketing and business strategy units at Instacart want to create more-relevant marketing strategies\n",
    "    for different products and are, thus, curious about customer profiling in their database. Create a \n",
    "profiling variable based on age, income, certain goods in the “department_id” column, and number of \n",
    "dependents. You might also use the “orders_day_of_the_week” and “order_hour_of_day” columns if you can \n",
    "think of a way they would impact customer profiles. (Hint: As an example, try thinking of what characteristics\n",
    "would lead you to the profile “Single adult” or “Young parent.”)\n",
    " -->\n",
    "\n",
    "<!-- Create an appropriate visualization to show the distribution of profiles.\n",
    " -->\n",
    "\n",
    "<!-- Aggregate the max, mean, and min variables on a customer-profile level for usage frequency and expenditure.\n",
    " -->\n",
    "\n",
    "Compare your customer profiles with regions and departments. Can you identify a link between them? \n",
    "\n",
    "\n",
    "Customers may demonstrate different behaviors across regions, which could make this information important.\n",
    "\n",
    "\n",
    "Produce suitable charts to illustrate your results and export them in your project folder.\n",
    "\n",
    "\n",
    "Tidy up your script, export your final data set, and save your notebook."
   ]
  },
  {
   "cell_type": "code",
   "execution_count": null,
   "id": "4478491d-b247-4f79-8f89-a73a715c696e",
   "metadata": {},
   "outputs": [],
   "source": []
  }
 ],
 "metadata": {
  "kernelspec": {
   "display_name": "Python 3 (ipykernel)",
   "language": "python",
   "name": "python3"
  },
  "language_info": {
   "codemirror_mode": {
    "name": "ipython",
    "version": 3
   },
   "file_extension": ".py",
   "mimetype": "text/x-python",
   "name": "python",
   "nbconvert_exporter": "python",
   "pygments_lexer": "ipython3",
   "version": "3.9.13"
  }
 },
 "nbformat": 4,
 "nbformat_minor": 5
}
