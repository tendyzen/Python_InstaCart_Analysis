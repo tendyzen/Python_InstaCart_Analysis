{
 "cells": [
  {
   "cell_type": "code",
   "execution_count": 1,
   "id": "187485a5-1171-44c5-aa9d-e0af5851d8c8",
   "metadata": {},
   "outputs": [
    {
     "data": {
      "text/plain": [
       "((30992664, 47),\n",
       "            order_id   customer_id  customer_order_number  orders_day_of_week  \\\n",
       " count  3.099266e+07  3.099266e+07           3.099266e+07        3.099266e+07   \n",
       " mean   1.710321e+06  1.029285e+05           1.783372e+01        2.741342e+00   \n",
       " std    9.873797e+05  5.947097e+04           1.763399e+01        2.089226e+00   \n",
       " min    2.000000e+00  1.000000e+00           1.000000e+00        0.000000e+00   \n",
       " 25%    8.554110e+05  5.140900e+04           5.000000e+00        1.000000e+00   \n",
       " 50%    1.710404e+06  1.025850e+05           1.200000e+01        3.000000e+00   \n",
       " 75%    2.565216e+06  1.543880e+05           2.500000e+01        5.000000e+00   \n",
       " max    3.421083e+06  2.062090e+05           9.900000e+01        6.000000e+00   \n",
       " \n",
       "        order_hour_of_day  days_between_last_order    product_id  \\\n",
       " count       3.099266e+07               29329778.0  3.099266e+07   \n",
       " mean        1.341082e+01                      NaN  2.557757e+04   \n",
       " std         4.248811e+00                      0.0  1.409313e+04   \n",
       " min         0.000000e+00                      0.0  1.000000e+00   \n",
       " 25%         1.000000e+01                      5.0  1.353500e+04   \n",
       " 50%         1.300000e+01                      7.0  2.525600e+04   \n",
       " 75%         1.600000e+01                     14.0  3.793100e+04   \n",
       " max         2.300000e+01                     30.0  4.968800e+04   \n",
       " \n",
       "        add_to_cart_order     reordered      aisle_id  ...    max_orders  \\\n",
       " count       3.099266e+07  3.099266e+07  3.099266e+07  ...  3.099266e+07   \n",
       " mean        8.361651e+00  6.062036e-01  7.120896e+01  ...  3.442563e+01   \n",
       " std         7.135006e+00  4.885906e-01  3.821479e+01  ...  2.489426e+01   \n",
       " min         1.000000e+00  0.000000e+00  1.000000e+00  ...  5.000000e+00   \n",
       " 25%         3.000000e+00  0.000000e+00  3.100000e+01  ...  1.400000e+01   \n",
       " 50%         6.000000e+00  1.000000e+00  8.300000e+01  ...  2.800000e+01   \n",
       " 75%         1.100000e+01  1.000000e+00  1.070000e+02  ...  4.800000e+01   \n",
       " max         1.450000e+02  1.000000e+00  1.340000e+02  ...  9.900000e+01   \n",
       " \n",
       "        avg_cust_spend  median_order_frequency           Age    Dependents  \\\n",
       " count    3.099266e+07              30992664.0  3.099266e+07  3.099266e+07   \n",
       " mean     7.263061e+00                     NaN  4.946793e+01  1.501798e+00   \n",
       " std      8.596506e-01                     0.0  1.848520e+01  1.118902e+00   \n",
       " min      1.000000e+00                     0.0  1.800000e+01  0.000000e+00   \n",
       " 25%      7.390625e+00                     6.0  3.300000e+01  1.000000e+00   \n",
       " 50%      7.816406e+00                     7.0  4.900000e+01  2.000000e+00   \n",
       " 75%      8.226562e+00                    12.5  6.500000e+01  3.000000e+00   \n",
       " max      2.010938e+01                    30.0  8.100000e+01  3.000000e+00   \n",
       " \n",
       "              Income  weekend_ratio  Nightowl_Ratio         index  \\\n",
       " count  3.099266e+07   3.099266e+07    3.099266e+07  3.099266e+07   \n",
       " mean   9.967322e+04   3.293914e-01    3.444080e-01  9.924801e+00   \n",
       " std    4.313928e+04   2.246919e-01    1.995197e-01  6.282146e+00   \n",
       " min    2.590300e+04   0.000000e+00    0.000000e+00  1.000000e+00   \n",
       " 25%    6.728900e+04   1.669794e-01    1.948885e-01  4.000000e+00   \n",
       " 50%    9.676500e+04   3.023256e-01    3.306811e-01  9.000000e+00   \n",
       " 75%    1.281010e+05   4.611399e-01    4.753510e-01  1.600000e+01   \n",
       " max    5.939010e+05   1.000000e+00    1.000000e+00  2.100000e+01   \n",
       " \n",
       "        total_expenditure  \n",
       " count       3.099266e+07  \n",
       " mean        3.423389e+03  \n",
       " std         2.932014e+03  \n",
       " min         5.000000e+00  \n",
       " 25%         1.245497e+03  \n",
       " 50%         2.540801e+03  \n",
       " 75%         4.783067e+03  \n",
       " max         2.664999e+04  \n",
       " \n",
       " [8 rows x 22 columns])"
      ]
     },
     "execution_count": 1,
     "metadata": {},
     "output_type": "execute_result"
    }
   ],
   "source": [
    "#import libraries\n",
    "import pandas as pd\n",
    "import numpy as np\n",
    "import matplotlib.pyplot as plt\n",
    "import seaborn as sns\n",
    "import scipy\n",
    "import os\n",
    "\n",
    "#import data files\n",
    "path = r'/Users/amritambe/Desktop/CareerF Python/Insta Cart Analysis'\n",
    "df_full = pd.read_pickle(os.path.join(path, '02 Data', 'Prepared Data', 'Df_Cust_Profs.pkl'))\n",
    "df_full.shape, df_full.describe()\n"
   ]
  },
  {
   "cell_type": "code",
   "execution_count": 2,
   "id": "868bca13-8245-4760-8ac3-bf61d327af31",
   "metadata": {},
   "outputs": [
    {
     "data": {
      "text/plain": [
       "['order_id',\n",
       " 'customer_id',\n",
       " 'customer_order_number',\n",
       " 'orders_day_of_week',\n",
       " 'order_hour_of_day',\n",
       " 'days_between_last_order',\n",
       " 'first_order',\n",
       " 'product_id',\n",
       " 'add_to_cart_order',\n",
       " 'reordered',\n",
       " 'product_name',\n",
       " 'aisle_id',\n",
       " 'department_id',\n",
       " 'prices',\n",
       " '_merge',\n",
       " 'price_range_loc',\n",
       " 'Busiest Days',\n",
       " 'busiest_hours_of_day',\n",
       " 'max_orders',\n",
       " 'loyalty_flag',\n",
       " 'avg_cust_spend',\n",
       " 'Customer_Spend',\n",
       " 'median_order_frequency',\n",
       " 'Order_Frequency',\n",
       " 'Gender',\n",
       " 'State',\n",
       " 'Age',\n",
       " 'date_joined',\n",
       " 'Dependents',\n",
       " 'Marital_Status',\n",
       " 'Income',\n",
       " 'Region',\n",
       " 'weekend_ratio',\n",
       " 'weekend_customer',\n",
       " 'age_group',\n",
       " 'income_brackets',\n",
       " 'top_one_percent',\n",
       " 'top_ten_percent',\n",
       " 'Children',\n",
       " 'Nightowl_Orders',\n",
       " 'Nightowl_Ratio',\n",
       " 'Nightowl_Customer',\n",
       " 'index',\n",
       " 'department_names',\n",
       " 'income_brackets_2',\n",
       " 'total_expenditure',\n",
       " 'customer_profile']"
      ]
     },
     "execution_count": 2,
     "metadata": {},
     "output_type": "execute_result"
    }
   ],
   "source": [
    "# create mapping df\n",
    "df_full.columns.tolist()"
   ]
  },
  {
   "cell_type": "code",
   "execution_count": 3,
   "id": "6855eac8-77e7-40a8-b1ea-50902f549f00",
   "metadata": {},
   "outputs": [
    {
     "data": {
      "text/plain": [
       "((51, 2),\n",
       "             State     Region\n",
       " 0         Alabama      South\n",
       " 59        Indiana    Midwest\n",
       " 131     Louisiana      South\n",
       " 335       Montana       West\n",
       " 540      Oklahoma      South\n",
       " 839     Tennessee      South\n",
       " 1155         Iowa    Midwest\n",
       " 1236         Ohio    Midwest\n",
       " 1394     Virginia      South\n",
       " 1444  Connecticut  Northeast)"
      ]
     },
     "execution_count": 3,
     "metadata": {},
     "output_type": "execute_result"
    }
   ],
   "source": [
    "map_reg = df_full[['State', 'Region']].drop_duplicates()\n",
    "map_reg.shape, map_reg.head(10)"
   ]
  },
  {
   "cell_type": "code",
   "execution_count": 4,
   "id": "29398716-f780-492b-ab88-361f68b31a78",
   "metadata": {},
   "outputs": [],
   "source": [
    "#export map_reg as csv for tableau  mapping\n",
    "#map_reg.to_csv(os.path.join(path, '02 Data', 'Prepared Data', 'Region_Mapping.csv'))"
   ]
  },
  {
   "cell_type": "code",
   "execution_count": 5,
   "id": "a89a3ea9-2efe-4fc5-bf63-38a71ffcd989",
   "metadata": {},
   "outputs": [],
   "source": [
    "#import customer_region.csv\n",
    "#cust_reg = pd.read_csv(os.path.join(path, '02 Data', 'customer_region.csv'))"
   ]
  },
  {
   "cell_type": "code",
   "execution_count": 6,
   "id": "442d5629-1c10-4341-ac3b-c4dd8398f9f4",
   "metadata": {},
   "outputs": [
    {
     "data": {
      "text/plain": [
       "30992664"
      ]
     },
     "execution_count": 6,
     "metadata": {},
     "output_type": "execute_result"
    }
   ],
   "source": [
    "cust_reg['count'].sum()"
   ]
  },
  {
   "cell_type": "code",
   "execution_count": 7,
   "id": "5803b384-db28-49ab-8252-ad2bb41c4577",
   "metadata": {},
   "outputs": [
    {
     "data": {
      "text/plain": [
       "162633"
      ]
     },
     "execution_count": 7,
     "metadata": {},
     "output_type": "execute_result"
    }
   ],
   "source": [
    "df_full['customer_id'].nunique()"
   ]
  },
  {
   "cell_type": "code",
   "execution_count": 8,
   "id": "a8aff40d-8260-4662-adcd-2fc0ea3f6441",
   "metadata": {},
   "outputs": [
    {
     "data": {
      "text/html": [
       "<div>\n",
       "<style scoped>\n",
       "    .dataframe tbody tr th:only-of-type {\n",
       "        vertical-align: middle;\n",
       "    }\n",
       "\n",
       "    .dataframe tbody tr th {\n",
       "        vertical-align: top;\n",
       "    }\n",
       "\n",
       "    .dataframe thead th {\n",
       "        text-align: right;\n",
       "    }\n",
       "</style>\n",
       "<table border=\"1\" class=\"dataframe\">\n",
       "  <thead>\n",
       "    <tr style=\"text-align: right;\">\n",
       "      <th></th>\n",
       "      <th>Customer_Spend</th>\n",
       "      <th>total_expenditure</th>\n",
       "    </tr>\n",
       "  </thead>\n",
       "  <tbody>\n",
       "    <tr>\n",
       "      <th>0</th>\n",
       "      <td>Low Spender</td>\n",
       "      <td>375.68457</td>\n",
       "    </tr>\n",
       "    <tr>\n",
       "      <th>1</th>\n",
       "      <td>Low Spender</td>\n",
       "      <td>375.68457</td>\n",
       "    </tr>\n",
       "    <tr>\n",
       "      <th>2</th>\n",
       "      <td>Low Spender</td>\n",
       "      <td>375.68457</td>\n",
       "    </tr>\n",
       "    <tr>\n",
       "      <th>3</th>\n",
       "      <td>Low Spender</td>\n",
       "      <td>375.68457</td>\n",
       "    </tr>\n",
       "    <tr>\n",
       "      <th>4</th>\n",
       "      <td>Low Spender</td>\n",
       "      <td>375.68457</td>\n",
       "    </tr>\n",
       "    <tr>\n",
       "      <th>5</th>\n",
       "      <td>Low Spender</td>\n",
       "      <td>375.68457</td>\n",
       "    </tr>\n",
       "    <tr>\n",
       "      <th>6</th>\n",
       "      <td>Low Spender</td>\n",
       "      <td>375.68457</td>\n",
       "    </tr>\n",
       "    <tr>\n",
       "      <th>7</th>\n",
       "      <td>Low Spender</td>\n",
       "      <td>375.68457</td>\n",
       "    </tr>\n",
       "    <tr>\n",
       "      <th>8</th>\n",
       "      <td>Low Spender</td>\n",
       "      <td>375.68457</td>\n",
       "    </tr>\n",
       "    <tr>\n",
       "      <th>9</th>\n",
       "      <td>Low Spender</td>\n",
       "      <td>375.68457</td>\n",
       "    </tr>\n",
       "  </tbody>\n",
       "</table>\n",
       "</div>"
      ],
      "text/plain": [
       "  Customer_Spend  total_expenditure\n",
       "0    Low Spender          375.68457\n",
       "1    Low Spender          375.68457\n",
       "2    Low Spender          375.68457\n",
       "3    Low Spender          375.68457\n",
       "4    Low Spender          375.68457\n",
       "5    Low Spender          375.68457\n",
       "6    Low Spender          375.68457\n",
       "7    Low Spender          375.68457\n",
       "8    Low Spender          375.68457\n",
       "9    Low Spender          375.68457"
      ]
     },
     "execution_count": 8,
     "metadata": {},
     "output_type": "execute_result"
    }
   ],
   "source": [
    "df_full[['Customer_Spend', 'total_expenditure']].head(10)"
   ]
  },
  {
   "cell_type": "code",
   "execution_count": 9,
   "id": "a018011b-add6-412e-aba4-aa20d7106bb7",
   "metadata": {},
   "outputs": [
    {
     "data": {
      "text/plain": [
       "(162633, 7)"
      ]
     },
     "execution_count": 9,
     "metadata": {},
     "output_type": "execute_result"
    }
   ],
   "source": [
    "cust_reg2 = df_full[['customer_id', 'customer_profile', 'Gender', 'State', 'Region', 'income_brackets_2', 'total_expenditure']].drop_duplicates()\n",
    "cust_reg2.shape"
   ]
  },
  {
   "cell_type": "code",
   "execution_count": 10,
   "id": "63aeeb4e-4e61-4303-b269-0383f81bcb6e",
   "metadata": {},
   "outputs": [
    {
     "data": {
      "text/html": [
       "<div>\n",
       "<style scoped>\n",
       "    .dataframe tbody tr th:only-of-type {\n",
       "        vertical-align: middle;\n",
       "    }\n",
       "\n",
       "    .dataframe tbody tr th {\n",
       "        vertical-align: top;\n",
       "    }\n",
       "\n",
       "    .dataframe thead th {\n",
       "        text-align: right;\n",
       "    }\n",
       "</style>\n",
       "<table border=\"1\" class=\"dataframe\">\n",
       "  <thead>\n",
       "    <tr style=\"text-align: right;\">\n",
       "      <th></th>\n",
       "      <th>customer_id</th>\n",
       "      <th>customer_profile</th>\n",
       "      <th>Gender</th>\n",
       "      <th>State</th>\n",
       "      <th>Region</th>\n",
       "      <th>income_brackets_2</th>\n",
       "      <th>total_expenditure</th>\n",
       "    </tr>\n",
       "  </thead>\n",
       "  <tbody>\n",
       "    <tr>\n",
       "      <th>0</th>\n",
       "      <td>1</td>\n",
       "      <td>Midlife Married With Kids</td>\n",
       "      <td>Female</td>\n",
       "      <td>Alabama</td>\n",
       "      <td>South</td>\n",
       "      <td>very_low</td>\n",
       "      <td>375.684570</td>\n",
       "    </tr>\n",
       "    <tr>\n",
       "      <th>59</th>\n",
       "      <td>15</td>\n",
       "      <td>Elder Single No Kids</td>\n",
       "      <td>Female</td>\n",
       "      <td>Indiana</td>\n",
       "      <td>Midwest</td>\n",
       "      <td>very_low</td>\n",
       "      <td>286.582031</td>\n",
       "    </tr>\n",
       "    <tr>\n",
       "      <th>131</th>\n",
       "      <td>19</td>\n",
       "      <td>Elder Married With Kids</td>\n",
       "      <td>Female</td>\n",
       "      <td>Louisiana</td>\n",
       "      <td>South</td>\n",
       "      <td>very_high</td>\n",
       "      <td>1707.891602</td>\n",
       "    </tr>\n",
       "    <tr>\n",
       "      <th>335</th>\n",
       "      <td>21</td>\n",
       "      <td>Elder Single No Kids</td>\n",
       "      <td>Male</td>\n",
       "      <td>Montana</td>\n",
       "      <td>West</td>\n",
       "      <td>high</td>\n",
       "      <td>1437.570312</td>\n",
       "    </tr>\n",
       "    <tr>\n",
       "      <th>540</th>\n",
       "      <td>31</td>\n",
       "      <td>Midlife Married With Kids</td>\n",
       "      <td>Female</td>\n",
       "      <td>Oklahoma</td>\n",
       "      <td>South</td>\n",
       "      <td>very_low</td>\n",
       "      <td>2433.192383</td>\n",
       "    </tr>\n",
       "    <tr>\n",
       "      <th>839</th>\n",
       "      <td>43</td>\n",
       "      <td>Midlife Married With Kids</td>\n",
       "      <td>Female</td>\n",
       "      <td>Tennessee</td>\n",
       "      <td>South</td>\n",
       "      <td>high</td>\n",
       "      <td>1094.412109</td>\n",
       "    </tr>\n",
       "    <tr>\n",
       "      <th>986</th>\n",
       "      <td>52</td>\n",
       "      <td>Elder Married With Kids</td>\n",
       "      <td>Female</td>\n",
       "      <td>Alabama</td>\n",
       "      <td>South</td>\n",
       "      <td>very_low</td>\n",
       "      <td>1083.094727</td>\n",
       "    </tr>\n",
       "    <tr>\n",
       "      <th>1155</th>\n",
       "      <td>67</td>\n",
       "      <td>Elder Married With Kids</td>\n",
       "      <td>Female</td>\n",
       "      <td>Iowa</td>\n",
       "      <td>Midwest</td>\n",
       "      <td>high</td>\n",
       "      <td>620.179688</td>\n",
       "    </tr>\n",
       "    <tr>\n",
       "      <th>1236</th>\n",
       "      <td>81</td>\n",
       "      <td>Midlife Married With Kids</td>\n",
       "      <td>Male</td>\n",
       "      <td>Ohio</td>\n",
       "      <td>Midwest</td>\n",
       "      <td>high</td>\n",
       "      <td>223.070312</td>\n",
       "    </tr>\n",
       "    <tr>\n",
       "      <th>1263</th>\n",
       "      <td>82</td>\n",
       "      <td>Midlife Married With Kids</td>\n",
       "      <td>Male</td>\n",
       "      <td>Oklahoma</td>\n",
       "      <td>South</td>\n",
       "      <td>very_low</td>\n",
       "      <td>843.732422</td>\n",
       "    </tr>\n",
       "    <tr>\n",
       "      <th>1394</th>\n",
       "      <td>98</td>\n",
       "      <td>Midlife Married With Kids</td>\n",
       "      <td>Female</td>\n",
       "      <td>Virginia</td>\n",
       "      <td>South</td>\n",
       "      <td>low</td>\n",
       "      <td>401.394531</td>\n",
       "    </tr>\n",
       "    <tr>\n",
       "      <th>1444</th>\n",
       "      <td>109</td>\n",
       "      <td>Elder Married With Kids</td>\n",
       "      <td>Female</td>\n",
       "      <td>Connecticut</td>\n",
       "      <td>Northeast</td>\n",
       "      <td>very_low</td>\n",
       "      <td>403.679688</td>\n",
       "    </tr>\n",
       "    <tr>\n",
       "      <th>1513</th>\n",
       "      <td>185</td>\n",
       "      <td>Midlife Married With Kids</td>\n",
       "      <td>Male</td>\n",
       "      <td>Oregon</td>\n",
       "      <td>West</td>\n",
       "      <td>high</td>\n",
       "      <td>308.608398</td>\n",
       "    </tr>\n",
       "    <tr>\n",
       "      <th>1553</th>\n",
       "      <td>195</td>\n",
       "      <td>Midlife Married With Kids</td>\n",
       "      <td>Female</td>\n",
       "      <td>South Dakota</td>\n",
       "      <td>Midwest</td>\n",
       "      <td>low</td>\n",
       "      <td>1322.720703</td>\n",
       "    </tr>\n",
       "    <tr>\n",
       "      <th>1738</th>\n",
       "      <td>222</td>\n",
       "      <td>Elder Married With Kids</td>\n",
       "      <td>Female</td>\n",
       "      <td>Kentucky</td>\n",
       "      <td>South</td>\n",
       "      <td>very_low</td>\n",
       "      <td>3321.391602</td>\n",
       "    </tr>\n",
       "  </tbody>\n",
       "</table>\n",
       "</div>"
      ],
      "text/plain": [
       "      customer_id           customer_profile  Gender         State     Region  \\\n",
       "0               1  Midlife Married With Kids  Female       Alabama      South   \n",
       "59             15       Elder Single No Kids  Female       Indiana    Midwest   \n",
       "131            19    Elder Married With Kids  Female     Louisiana      South   \n",
       "335            21       Elder Single No Kids    Male       Montana       West   \n",
       "540            31  Midlife Married With Kids  Female      Oklahoma      South   \n",
       "839            43  Midlife Married With Kids  Female     Tennessee      South   \n",
       "986            52    Elder Married With Kids  Female       Alabama      South   \n",
       "1155           67    Elder Married With Kids  Female          Iowa    Midwest   \n",
       "1236           81  Midlife Married With Kids    Male          Ohio    Midwest   \n",
       "1263           82  Midlife Married With Kids    Male      Oklahoma      South   \n",
       "1394           98  Midlife Married With Kids  Female      Virginia      South   \n",
       "1444          109    Elder Married With Kids  Female   Connecticut  Northeast   \n",
       "1513          185  Midlife Married With Kids    Male        Oregon       West   \n",
       "1553          195  Midlife Married With Kids  Female  South Dakota    Midwest   \n",
       "1738          222    Elder Married With Kids  Female      Kentucky      South   \n",
       "\n",
       "     income_brackets_2  total_expenditure  \n",
       "0             very_low         375.684570  \n",
       "59            very_low         286.582031  \n",
       "131          very_high        1707.891602  \n",
       "335               high        1437.570312  \n",
       "540           very_low        2433.192383  \n",
       "839               high        1094.412109  \n",
       "986           very_low        1083.094727  \n",
       "1155              high         620.179688  \n",
       "1236              high         223.070312  \n",
       "1263          very_low         843.732422  \n",
       "1394               low         401.394531  \n",
       "1444          very_low         403.679688  \n",
       "1513              high         308.608398  \n",
       "1553               low        1322.720703  \n",
       "1738          very_low        3321.391602  "
      ]
     },
     "execution_count": 10,
     "metadata": {},
     "output_type": "execute_result"
    }
   ],
   "source": [
    "cust_reg2.head(15)"
   ]
  },
  {
   "cell_type": "code",
   "execution_count": 11,
   "id": "814f3d8a-5497-45c8-95af-b842436636bb",
   "metadata": {},
   "outputs": [],
   "source": [
    "#export csv\n",
    "#cust_reg2.to_csv(os.path.join(path, '02 Data', 'Prepared Data', 'customer_regions_full.csv'))"
   ]
  },
  {
   "cell_type": "code",
   "execution_count": 12,
   "id": "efb332c5-949f-4aec-8c52-cddd6b7185ed",
   "metadata": {},
   "outputs": [
    {
     "data": {
      "text/plain": [
       "1485.2790577257824"
      ]
     },
     "execution_count": 12,
     "metadata": {},
     "output_type": "execute_result"
    }
   ],
   "source": [
    "#check\n",
    "cust_reg2['total_expenditure'].agg('mean')"
   ]
  },
  {
   "cell_type": "markdown",
   "id": "c7d01052-790f-4973-bba4-40e3de12ce4b",
   "metadata": {},
   "source": [
    "# Top Department"
   ]
  },
  {
   "cell_type": "code",
   "execution_count": 13,
   "id": "43fb958c-23fc-4049-b9d2-eecd8144136b",
   "metadata": {},
   "outputs": [
    {
     "data": {
      "text/plain": [
       "(162633, 3)"
      ]
     },
     "execution_count": 13,
     "metadata": {},
     "output_type": "execute_result"
    }
   ],
   "source": [
    "#find top department for each customer_id\n",
    "\n",
    "# Group by 'customer_id' and 'department_names', calculate the sum, and reset the index\n",
    "top_departments = df_full.groupby(['customer_id', 'department_names'])['prices'].sum().reset_index()\n",
    "\n",
    "# Find the index of the maximum 'prices' value within each 'customer_id' group\n",
    "idx = top_departments.groupby('customer_id')['prices'].idxmax()\n",
    "\n",
    "# Get the corresponding rows from the 'top_departments' DataFrame\n",
    "top_dept = top_departments.loc[idx]\n",
    "top_dept.shape"
   ]
  },
  {
   "cell_type": "code",
   "execution_count": 14,
   "id": "cfd6c276-7ded-49a8-abec-3f6c2305bf44",
   "metadata": {},
   "outputs": [
    {
     "data": {
      "text/html": [
       "<div>\n",
       "<style scoped>\n",
       "    .dataframe tbody tr th:only-of-type {\n",
       "        vertical-align: middle;\n",
       "    }\n",
       "\n",
       "    .dataframe tbody tr th {\n",
       "        vertical-align: top;\n",
       "    }\n",
       "\n",
       "    .dataframe thead th {\n",
       "        text-align: right;\n",
       "    }\n",
       "</style>\n",
       "<table border=\"1\" class=\"dataframe\">\n",
       "  <thead>\n",
       "    <tr style=\"text-align: right;\">\n",
       "      <th></th>\n",
       "      <th>customer_id</th>\n",
       "      <th>department_names</th>\n",
       "      <th>prices</th>\n",
       "    </tr>\n",
       "  </thead>\n",
       "  <tbody>\n",
       "    <tr>\n",
       "      <th>0</th>\n",
       "      <td>1</td>\n",
       "      <td>beverages</td>\n",
       "      <td>130.195312</td>\n",
       "    </tr>\n",
       "    <tr>\n",
       "      <th>11</th>\n",
       "      <td>2</td>\n",
       "      <td>dairy eggs</td>\n",
       "      <td>474.906250</td>\n",
       "    </tr>\n",
       "    <tr>\n",
       "      <th>27</th>\n",
       "      <td>3</td>\n",
       "      <td>produce</td>\n",
       "      <td>283.508789</td>\n",
       "    </tr>\n",
       "    <tr>\n",
       "      <th>31</th>\n",
       "      <td>4</td>\n",
       "      <td>beverages</td>\n",
       "      <td>30.000000</td>\n",
       "    </tr>\n",
       "    <tr>\n",
       "      <th>48</th>\n",
       "      <td>7</td>\n",
       "      <td>produce</td>\n",
       "      <td>449.761719</td>\n",
       "    </tr>\n",
       "    <tr>\n",
       "      <th>...</th>\n",
       "      <td>...</td>\n",
       "      <td>...</td>\n",
       "      <td>...</td>\n",
       "    </tr>\n",
       "    <tr>\n",
       "      <th>1882172</th>\n",
       "      <td>206203</td>\n",
       "      <td>produce</td>\n",
       "      <td>273.586914</td>\n",
       "    </tr>\n",
       "    <tr>\n",
       "      <th>1882181</th>\n",
       "      <td>206206</td>\n",
       "      <td>frozen</td>\n",
       "      <td>766.226562</td>\n",
       "    </tr>\n",
       "    <tr>\n",
       "      <th>1882202</th>\n",
       "      <td>206207</td>\n",
       "      <td>produce</td>\n",
       "      <td>403.640625</td>\n",
       "    </tr>\n",
       "    <tr>\n",
       "      <th>1882219</th>\n",
       "      <td>206208</td>\n",
       "      <td>produce</td>\n",
       "      <td>1569.223633</td>\n",
       "    </tr>\n",
       "    <tr>\n",
       "      <th>1882225</th>\n",
       "      <td>206209</td>\n",
       "      <td>dairy eggs</td>\n",
       "      <td>227.107422</td>\n",
       "    </tr>\n",
       "  </tbody>\n",
       "</table>\n",
       "<p>162633 rows × 3 columns</p>\n",
       "</div>"
      ],
      "text/plain": [
       "         customer_id department_names       prices\n",
       "0                  1        beverages   130.195312\n",
       "11                 2       dairy eggs   474.906250\n",
       "27                 3          produce   283.508789\n",
       "31                 4        beverages    30.000000\n",
       "48                 7          produce   449.761719\n",
       "...              ...              ...          ...\n",
       "1882172       206203          produce   273.586914\n",
       "1882181       206206           frozen   766.226562\n",
       "1882202       206207          produce   403.640625\n",
       "1882219       206208          produce  1569.223633\n",
       "1882225       206209       dairy eggs   227.107422\n",
       "\n",
       "[162633 rows x 3 columns]"
      ]
     },
     "execution_count": 14,
     "metadata": {},
     "output_type": "execute_result"
    }
   ],
   "source": [
    "top_dept"
   ]
  },
  {
   "cell_type": "code",
   "execution_count": null,
   "id": "78066f38-fd29-4e29-8061-4f938c2747c5",
   "metadata": {},
   "outputs": [],
   "source": []
  },
  {
   "cell_type": "code",
   "execution_count": 15,
   "id": "6c7a62b9-135d-43c7-addb-5f70b212a47c",
   "metadata": {},
   "outputs": [],
   "source": [
    "#export top departments to compare with tableau\n",
    "#top_dept.to_csv(os.path.join(path, '02 Data', 'top_dept2.csv'))"
   ]
  },
  {
   "cell_type": "code",
   "execution_count": null,
   "id": "b89c93be-85dd-4b71-a336-621331cebf3d",
   "metadata": {},
   "outputs": [],
   "source": []
  },
  {
   "cell_type": "code",
   "execution_count": 17,
   "id": "b10c2d6d-2c2e-47c0-8629-75f2f5b04ec9",
   "metadata": {},
   "outputs": [],
   "source": [
    "#merge with cust_reg2 on customer_id\n",
    "\n",
    "#cust_reg_dept = pd.merge(cust_reg2, top_departments, "
   ]
  },
  {
   "cell_type": "code",
   "execution_count": 18,
   "id": "8332031d-d622-41c4-a2bd-fcc417f38b24",
   "metadata": {},
   "outputs": [
    {
     "data": {
      "text/plain": [
       "(30992664, 47)"
      ]
     },
     "execution_count": 18,
     "metadata": {},
     "output_type": "execute_result"
    }
   ],
   "source": [
    "df_full.shape"
   ]
  },
  {
   "cell_type": "code",
   "execution_count": 19,
   "id": "6933e00d-0993-4773-a633-e7f4e7335b16",
   "metadata": {},
   "outputs": [
    {
     "data": {
      "text/plain": [
       "order_id                         0\n",
       "customer_id                      0\n",
       "customer_order_number            0\n",
       "orders_day_of_week               0\n",
       "order_hour_of_day                0\n",
       "days_between_last_order    1662886\n",
       "first_order                      0\n",
       "product_id                       0\n",
       "add_to_cart_order                0\n",
       "reordered                        0\n",
       "product_name                 26972\n",
       "aisle_id                         0\n",
       "department_id                    0\n",
       "prices                        4877\n",
       "_merge                           0\n",
       "price_range_loc                  0\n",
       "Busiest Days                     0\n",
       "busiest_hours_of_day             0\n",
       "max_orders                       0\n",
       "loyalty_flag                     0\n",
       "avg_cust_spend                   0\n",
       "Customer_Spend                   0\n",
       "median_order_frequency           0\n",
       "Order_Frequency                  0\n",
       "Gender                           0\n",
       "State                            0\n",
       "Age                              0\n",
       "date_joined                      0\n",
       "Dependents                       0\n",
       "Marital_Status                   0\n",
       "Income                           0\n",
       "Region                           0\n",
       "weekend_ratio                    0\n",
       "weekend_customer                 0\n",
       "age_group                        0\n",
       "income_brackets                  0\n",
       "top_one_percent                  0\n",
       "top_ten_percent                  0\n",
       "Children                         0\n",
       "Nightowl_Orders             208208\n",
       "Nightowl_Ratio                   0\n",
       "Nightowl_Customer                0\n",
       "index                            0\n",
       "department_names                 0\n",
       "income_brackets_2                0\n",
       "total_expenditure                0\n",
       "customer_profile                 0\n",
       "dtype: int64"
      ]
     },
     "execution_count": 19,
     "metadata": {},
     "output_type": "execute_result"
    }
   ],
   "source": [
    "df_full.isnull().sum()"
   ]
  },
  {
   "cell_type": "code",
   "execution_count": 20,
   "id": "2e65147e-bd02-4ee7-8c92-cc61f2e92797",
   "metadata": {},
   "outputs": [
    {
     "data": {
      "text/plain": [
       "False    29329778\n",
       "True      1662886\n",
       "Name: first_order, dtype: int64"
      ]
     },
     "execution_count": 20,
     "metadata": {},
     "output_type": "execute_result"
    }
   ],
   "source": [
    "df_full['first_order'].value_counts()"
   ]
  },
  {
   "cell_type": "markdown",
   "id": "1e016bd3-94a9-4bd5-b9f9-a56f3509d76a",
   "metadata": {},
   "source": [
    "# compare customer_profiles, regions, and departments by sum of prices column"
   ]
  },
  {
   "cell_type": "code",
   "execution_count": null,
   "id": "53948a9e-e41a-428f-bb40-32ab7cac671e",
   "metadata": {},
   "outputs": [],
   "source": [
    "#group by columns\n",
    "cust_rd = df_full.groupby(['customer_profile', 'Region', 'department_names'])['prices'].sum().reset_index()\n",
    "\n",
    "#calculate sum of prices within grouped df, reset index\n",
    "#data = grouped_data['prices'].sum().reset_index()"
   ]
  },
  {
   "cell_type": "code",
   "execution_count": 23,
   "id": "2609940b-fa7f-4b78-b2ac-4f46e508d725",
   "metadata": {},
   "outputs": [
    {
     "data": {
      "text/html": [
       "<div>\n",
       "<style scoped>\n",
       "    .dataframe tbody tr th:only-of-type {\n",
       "        vertical-align: middle;\n",
       "    }\n",
       "\n",
       "    .dataframe tbody tr th {\n",
       "        vertical-align: top;\n",
       "    }\n",
       "\n",
       "    .dataframe thead th {\n",
       "        text-align: right;\n",
       "    }\n",
       "</style>\n",
       "<table border=\"1\" class=\"dataframe\">\n",
       "  <thead>\n",
       "    <tr style=\"text-align: right;\">\n",
       "      <th></th>\n",
       "      <th>customer_profile</th>\n",
       "      <th>Region</th>\n",
       "      <th>department_names</th>\n",
       "      <th>prices</th>\n",
       "    </tr>\n",
       "  </thead>\n",
       "  <tbody>\n",
       "    <tr>\n",
       "      <th>229</th>\n",
       "      <td>Midlife Married With Kids</td>\n",
       "      <td>South</td>\n",
       "      <td>produce</td>\n",
       "      <td>8.827771e+06</td>\n",
       "    </tr>\n",
       "    <tr>\n",
       "      <th>250</th>\n",
       "      <td>Midlife Married With Kids</td>\n",
       "      <td>West</td>\n",
       "      <td>produce</td>\n",
       "      <td>6.658471e+06</td>\n",
       "    </tr>\n",
       "    <tr>\n",
       "      <th>187</th>\n",
       "      <td>Midlife Married With Kids</td>\n",
       "      <td>Midwest</td>\n",
       "      <td>produce</td>\n",
       "      <td>6.213124e+06</td>\n",
       "    </tr>\n",
       "    <tr>\n",
       "      <th>61</th>\n",
       "      <td>Elder Married With Kids</td>\n",
       "      <td>South</td>\n",
       "      <td>produce</td>\n",
       "      <td>5.870540e+06</td>\n",
       "    </tr>\n",
       "    <tr>\n",
       "      <th>217</th>\n",
       "      <td>Midlife Married With Kids</td>\n",
       "      <td>South</td>\n",
       "      <td>dairy eggs</td>\n",
       "      <td>5.196143e+06</td>\n",
       "    </tr>\n",
       "    <tr>\n",
       "      <th>208</th>\n",
       "      <td>Midlife Married With Kids</td>\n",
       "      <td>Northeast</td>\n",
       "      <td>produce</td>\n",
       "      <td>4.671703e+06</td>\n",
       "    </tr>\n",
       "    <tr>\n",
       "      <th>82</th>\n",
       "      <td>Elder Married With Kids</td>\n",
       "      <td>West</td>\n",
       "      <td>produce</td>\n",
       "      <td>4.588953e+06</td>\n",
       "    </tr>\n",
       "    <tr>\n",
       "      <th>19</th>\n",
       "      <td>Elder Married With Kids</td>\n",
       "      <td>Midwest</td>\n",
       "      <td>produce</td>\n",
       "      <td>4.161228e+06</td>\n",
       "    </tr>\n",
       "    <tr>\n",
       "      <th>238</th>\n",
       "      <td>Midlife Married With Kids</td>\n",
       "      <td>West</td>\n",
       "      <td>dairy eggs</td>\n",
       "      <td>4.036619e+06</td>\n",
       "    </tr>\n",
       "    <tr>\n",
       "      <th>175</th>\n",
       "      <td>Midlife Married With Kids</td>\n",
       "      <td>Midwest</td>\n",
       "      <td>dairy eggs</td>\n",
       "      <td>3.709922e+06</td>\n",
       "    </tr>\n",
       "    <tr>\n",
       "      <th>49</th>\n",
       "      <td>Elder Married With Kids</td>\n",
       "      <td>South</td>\n",
       "      <td>dairy eggs</td>\n",
       "      <td>3.494473e+06</td>\n",
       "    </tr>\n",
       "    <tr>\n",
       "      <th>40</th>\n",
       "      <td>Elder Married With Kids</td>\n",
       "      <td>Northeast</td>\n",
       "      <td>produce</td>\n",
       "      <td>3.112581e+06</td>\n",
       "    </tr>\n",
       "    <tr>\n",
       "      <th>313</th>\n",
       "      <td>Midlife Single No Kids</td>\n",
       "      <td>South</td>\n",
       "      <td>produce</td>\n",
       "      <td>2.935593e+06</td>\n",
       "    </tr>\n",
       "    <tr>\n",
       "      <th>196</th>\n",
       "      <td>Midlife Married With Kids</td>\n",
       "      <td>Northeast</td>\n",
       "      <td>dairy eggs</td>\n",
       "      <td>2.798732e+06</td>\n",
       "    </tr>\n",
       "    <tr>\n",
       "      <th>70</th>\n",
       "      <td>Elder Married With Kids</td>\n",
       "      <td>West</td>\n",
       "      <td>dairy eggs</td>\n",
       "      <td>2.750508e+06</td>\n",
       "    </tr>\n",
       "    <tr>\n",
       "      <th>7</th>\n",
       "      <td>Elder Married With Kids</td>\n",
       "      <td>Midwest</td>\n",
       "      <td>dairy eggs</td>\n",
       "      <td>2.434149e+06</td>\n",
       "    </tr>\n",
       "    <tr>\n",
       "      <th>213</th>\n",
       "      <td>Midlife Married With Kids</td>\n",
       "      <td>South</td>\n",
       "      <td>beverages</td>\n",
       "      <td>2.392009e+06</td>\n",
       "    </tr>\n",
       "    <tr>\n",
       "      <th>334</th>\n",
       "      <td>Midlife Single No Kids</td>\n",
       "      <td>West</td>\n",
       "      <td>produce</td>\n",
       "      <td>2.359817e+06</td>\n",
       "    </tr>\n",
       "    <tr>\n",
       "      <th>397</th>\n",
       "      <td>Young Married With Kids</td>\n",
       "      <td>South</td>\n",
       "      <td>produce</td>\n",
       "      <td>2.228512e+06</td>\n",
       "    </tr>\n",
       "    <tr>\n",
       "      <th>271</th>\n",
       "      <td>Midlife Single No Kids</td>\n",
       "      <td>Midwest</td>\n",
       "      <td>produce</td>\n",
       "      <td>2.105862e+06</td>\n",
       "    </tr>\n",
       "  </tbody>\n",
       "</table>\n",
       "</div>"
      ],
      "text/plain": [
       "              customer_profile     Region department_names        prices\n",
       "229  Midlife Married With Kids      South          produce  8.827771e+06\n",
       "250  Midlife Married With Kids       West          produce  6.658471e+06\n",
       "187  Midlife Married With Kids    Midwest          produce  6.213124e+06\n",
       "61     Elder Married With Kids      South          produce  5.870540e+06\n",
       "217  Midlife Married With Kids      South       dairy eggs  5.196143e+06\n",
       "208  Midlife Married With Kids  Northeast          produce  4.671703e+06\n",
       "82     Elder Married With Kids       West          produce  4.588953e+06\n",
       "19     Elder Married With Kids    Midwest          produce  4.161228e+06\n",
       "238  Midlife Married With Kids       West       dairy eggs  4.036619e+06\n",
       "175  Midlife Married With Kids    Midwest       dairy eggs  3.709922e+06\n",
       "49     Elder Married With Kids      South       dairy eggs  3.494473e+06\n",
       "40     Elder Married With Kids  Northeast          produce  3.112581e+06\n",
       "313     Midlife Single No Kids      South          produce  2.935593e+06\n",
       "196  Midlife Married With Kids  Northeast       dairy eggs  2.798732e+06\n",
       "70     Elder Married With Kids       West       dairy eggs  2.750508e+06\n",
       "7      Elder Married With Kids    Midwest       dairy eggs  2.434149e+06\n",
       "213  Midlife Married With Kids      South        beverages  2.392009e+06\n",
       "334     Midlife Single No Kids       West          produce  2.359817e+06\n",
       "397    Young Married With Kids      South          produce  2.228512e+06\n",
       "271     Midlife Single No Kids    Midwest          produce  2.105862e+06"
      ]
     },
     "execution_count": 23,
     "metadata": {},
     "output_type": "execute_result"
    }
   ],
   "source": [
    "#check\n",
    "cust_rd.sort_values(by='prices', ascending=False, inplace=True)\n",
    "cust_rd.head(20)"
   ]
  },
  {
   "cell_type": "code",
   "execution_count": 24,
   "id": "2288f580-d801-4021-b0cd-7c2083eca0ac",
   "metadata": {},
   "outputs": [
    {
     "name": "stdout",
     "output_type": "stream",
     "text": [
      "0.0\n"
     ]
    }
   ],
   "source": [
    "#check if all revenue is in cust_rd\n",
    "print(df_full['prices'].sum() - cust_rd['prices'].sum())"
   ]
  },
  {
   "cell_type": "markdown",
   "id": "d074281b-53e8-440a-a22d-b0526111d987",
   "metadata": {},
   "source": [
    "# export to csv to chart in tableau"
   ]
  },
  {
   "cell_type": "code",
   "execution_count": 25,
   "id": "e798f528-076f-421c-9e6c-16c0d774c791",
   "metadata": {},
   "outputs": [],
   "source": [
    "cust_rd.to_csv(os.path.join(path, '02 Data', '20231003_IC_profanalysis_v1.csv'))"
   ]
  },
  {
   "cell_type": "code",
   "execution_count": 26,
   "id": "161060bd-143c-4c84-a480-5289d0b9f587",
   "metadata": {},
   "outputs": [
    {
     "data": {
      "text/plain": [
       "241555388.9951172"
      ]
     },
     "execution_count": 26,
     "metadata": {},
     "output_type": "execute_result"
    }
   ],
   "source": [
    "df_full['prices'].sum()"
   ]
  },
  {
   "cell_type": "code",
   "execution_count": 52,
   "id": "32c34aad-70ff-4bfa-a09a-89f50d570522",
   "metadata": {},
   "outputs": [
    {
     "data": {
      "text/plain": [
       "(array([0, 1, 2]),\n",
       " [Text(0, 0, 'Loyal Customer'),\n",
       "  Text(1, 0, 'New Customer'),\n",
       "  Text(2, 0, 'Regular Customer')])"
      ]
     },
     "execution_count": 52,
     "metadata": {},
     "output_type": "execute_result"
    },
    {
     "data": {
      "image/png": "[encoded data removed]",
      "text/plain": [
       "<Figure size 800x600 with 1 Axes>"
      ]
     },
     "metadata": {},
     "output_type": "display_data"
    }
   ],
   "source": [
    "#chart # of customers by loyalty flag\n",
    "loyal = df_full[['customer_id', 'loyalty_flag']]\n",
    "loyal = loyal.drop_duplicates()\n",
    "loyal_counts = loyal.groupby('loyalty_flag')['customer_id'].count().reset_index()\n",
    "# Create a barplot using Seaborn\n",
    "plt.figure(figsize=(8, 6))\n",
    "lb = sns.barplot(data=loyal_counts, x='loyalty_flag', y='customer_id', palette='viridis')\n",
    "plt.xlabel('Loyalty Flag')\n",
    "plt.ylabel('Number of Customers')\n",
    "plt.title('Number of Customers by Loyalty Flag')\n",
    "plt.xticks(rotation=45)\n"
   ]
  },
  {
   "cell_type": "code",
   "execution_count": 53,
   "id": "30684c67-66fc-4b5b-aa30-ee9b1e6e6863",
   "metadata": {},
   "outputs": [],
   "source": [
    "#export\n",
    "lb.figure.savefig(os.path.join(path, '04 Analysis', 'Visualizations', 'Customer_Count_Loyalty.png'))"
   ]
  },
  {
   "cell_type": "code",
   "execution_count": 38,
   "id": "b422d541-dea1-464d-9610-12a49e743f08",
   "metadata": {},
   "outputs": [
    {
     "data": {
      "text/plain": [
       "Text(0.5, 1.0, 'Revenue by Age Group')"
      ]
     },
     "execution_count": 38,
     "metadata": {},
     "output_type": "execute_result"
    },
    {
     "data": {
      "image/png": "[encoded data removed]",
      "text/plain": [
       "<Figure size 640x480 with 1 Axes>"
      ]
     },
     "metadata": {},
     "output_type": "display_data"
    }
   ],
   "source": [
    "#bar chart for age groups\n",
    "age = df_full.groupby('age_group')['prices'].sum().reset_index()\n",
    "\n",
    "age_bar = sns.barplot(data=age, x='age_group', y='prices', palette='viridis')\n",
    "plt.xlabel('Age Group')\n",
    "plt.ylabel('Revenue')\n",
    "plt.title('Revenue by Age Group')\n"
   ]
  },
  {
   "cell_type": "code",
   "execution_count": 39,
   "id": "56a799dc-5c8c-418b-9ebd-34a253649efc",
   "metadata": {},
   "outputs": [],
   "source": [
    "#export\n",
    "age_bar.figure.savefig(os.path.join(path, '04 Analysis', 'Visualizations', 'Rev_by_Age_Group.png'))"
   ]
  },
  {
   "cell_type": "code",
   "execution_count": null,
   "id": "a6b7e062-f284-4abf-aba9-26c2acecb829",
   "metadata": {},
   "outputs": [],
   "source": []
  },
  {
   "cell_type": "code",
   "execution_count": 41,
   "id": "45006cd1-167e-4195-a239-6dbd0bed5a17",
   "metadata": {},
   "outputs": [
    {
     "data": {
      "text/plain": [
       "Text(0.5, 1.0, 'Revenue by Income Bracket')"
      ]
     },
     "execution_count": 41,
     "metadata": {},
     "output_type": "execute_result"
    },
    {
     "data": {
      "image/png": "[encoded data removed]",
      "text/plain": [
       "<Figure size 640x480 with 1 Axes>"
      ]
     },
     "metadata": {},
     "output_type": "display_data"
    }
   ],
   "source": [
    "#bar chart for income groups\n",
    "age = df_full.groupby('income_brackets_2')['prices'].sum().reset_index()\n",
    "\n",
    "inc_bar = sns.barplot(data=age, x='income_brackets_2', y='prices', palette='viridis')\n",
    "plt.xlabel('Income Brackets')\n",
    "plt.ylabel('Revenue')\n",
    "plt.title('Revenue by Income Bracket')\n"
   ]
  },
  {
   "cell_type": "code",
   "execution_count": 42,
   "id": "262bf980-8cdc-4e3c-b2ab-794ef354df24",
   "metadata": {},
   "outputs": [],
   "source": [
    "#export\n",
    "inc_bar.figure.savefig(os.path.join(path, '04 Analysis', 'Visualizations', 'Revenue_by_Income_Bracket.png'))"
   ]
  },
  {
   "cell_type": "code",
   "execution_count": 43,
   "id": "1520c49d-4349-4488-8371-fb14aff53816",
   "metadata": {},
   "outputs": [
    {
     "data": {
      "text/plain": [
       "Text(0.5, 1.0, 'Income Distribution Histogram')"
      ]
     },
     "execution_count": 43,
     "metadata": {},
     "output_type": "execute_result"
    },
    {
     "data": {
      "image/png": "[encoded data removed]",
      "text/plain": [
       "<Figure size 640x480 with 1 Axes>"
      ]
     },
     "metadata": {},
     "output_type": "display_data"
    }
   ],
   "source": [
    "#Income Histogram, with labeled axis\n",
    "inc_hist = df_full['Income']\n",
    "\n",
    "histo = sns.histplot(data=inc_hist, bins=30, kde=True, color='skyblue')\n",
    "plt.xlabel('Income')\n",
    "plt.ylabel('Frequency')\n",
    "plt.title('Income Distribution Histogram')\n"
   ]
  },
  {
   "cell_type": "code",
   "execution_count": null,
   "id": "8ddf3da3-e6fb-421f-81f0-13028dba8a01",
   "metadata": {},
   "outputs": [],
   "source": []
  },
  {
   "cell_type": "code",
   "execution_count": 44,
   "id": "6be0a4d4-f675-4b9a-9fa5-de959823a192",
   "metadata": {},
   "outputs": [],
   "source": [
    "#export\n",
    "histo.figure.savefig(os.path.join(path, '04 Analysis', 'Visualizations', 'Income_Histogram2.png'))"
   ]
  },
  {
   "cell_type": "code",
   "execution_count": 60,
   "id": "baf7919b-8c95-4014-8e53-bd3aeae76ac7",
   "metadata": {},
   "outputs": [
    {
     "data": {
      "text/plain": [
       "Text(0.5, 0, 'Loyalty Group')"
      ]
     },
     "execution_count": 60,
     "metadata": {},
     "output_type": "execute_result"
    },
    {
     "data": {
      "image/png": "[encoded data removed]",
      "text/plain": [
       "<Figure size 640x480 with 1 Axes>"
      ]
     },
     "metadata": {},
     "output_type": "display_data"
    }
   ],
   "source": [
    "# loyalty flag and revenue\n",
    "lr = df_full.groupby('loyalty_flag')['prices'].sum().reset_index()\n",
    "#bar plot\n",
    "custom_palette = {'Loyal Customer': 'orange', 'Regular Customer': 'blue', 'New Customer': 'green'}\n",
    "\n",
    "lrb = sns.barplot(data=lr, x='loyalty_flag', y='prices', palette=custom_palette)\n",
    "\n",
    "\n",
    "#title\n",
    "plt.title('Revenue by Loyalty Groups')\n",
    "plt.ylabel('Revenue')\n",
    "plt.xlabel('Loyalty Group')\n"
   ]
  },
  {
   "cell_type": "code",
   "execution_count": 61,
   "id": "4bd7da8a-2f97-475c-b74a-811fdac45771",
   "metadata": {},
   "outputs": [],
   "source": [
    "#export\n",
    "lrb.figure.savefig(os.path.join(path, '04 Analysis', 'Visualizations', 'Loyalty_Revenue.png'))"
   ]
  },
  {
   "cell_type": "code",
   "execution_count": null,
   "id": "cb7b6e58-1834-4b21-bedf-2f3411b8cf16",
   "metadata": {},
   "outputs": [],
   "source": []
  }
 ],
 "metadata": {
  "kernelspec": {
   "display_name": "Python 3 (ipykernel)",
   "language": "python",
   "name": "python3"
  },
  "language_info": {
   "codemirror_mode": {
    "name": "ipython",
    "version": 3
   },
   "file_extension": ".py",
   "mimetype": "text/x-python",
   "name": "python",
   "nbconvert_exporter": "python",
   "pygments_lexer": "ipython3",
   "version": "3.9.13"
  }
 },
 "nbformat": 4,
 "nbformat_minor": 5
}
